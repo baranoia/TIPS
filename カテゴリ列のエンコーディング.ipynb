{
 "cells": [
  {
   "cell_type": "markdown",
   "metadata": {},
   "source": [
    "### カテゴリ列のエンコーディング方法\n",
    "カテゴリ列のエンコーディングといっても、  \n",
    "ラベルエンコーディングとOneHotエンコーディング以外にも色々あるようなので、ためしてみる。  \n",
    "元ネタ  \n",
    "[kaggle:Category Encoders Examples](https://www.kaggle.com/discdiver/category-encoders-examples)"
   ]
  },
  {
   "cell_type": "markdown",
   "metadata": {},
   "source": [
    "※カテゴリ列  \n",
    " └ 順序特徴量 … 数値ではないが順序があるもの。 例えば、サイズ(Sサイズ < Mサイズ < Lサイズ)  \n",
    " └ 名義特徴量 … 数値ではなく順序もないもの。 例えば、色(赤、青、黄色)"
   ]
  },
  {
   "cell_type": "code",
   "execution_count": 6,
   "metadata": {},
   "outputs": [],
   "source": [
    "import numpy as np\n",
    "import pandas as pd\n",
    "import category_encoders  as ce\n",
    "from sklearn.preprocessing import LabelEncoder\n",
    "pd.options.display.float_format = '{:.2f}'.format "
   ]
  },
  {
   "cell_type": "code",
   "execution_count": 178,
   "metadata": {},
   "outputs": [
    {
     "data": {
      "text/html": [
       "<div>\n",
       "<style scoped>\n",
       "    .dataframe tbody tr th:only-of-type {\n",
       "        vertical-align: middle;\n",
       "    }\n",
       "\n",
       "    .dataframe tbody tr th {\n",
       "        vertical-align: top;\n",
       "    }\n",
       "\n",
       "    .dataframe thead th {\n",
       "        text-align: right;\n",
       "    }\n",
       "</style>\n",
       "<table border=\"1\" class=\"dataframe\">\n",
       "  <thead>\n",
       "    <tr style=\"text-align: right;\">\n",
       "      <th></th>\n",
       "      <th>COLOR</th>\n",
       "      <th>SIZE</th>\n",
       "      <th>WEIGHT</th>\n",
       "      <th>HARDNESS</th>\n",
       "      <th>OUTCOME</th>\n",
       "    </tr>\n",
       "  </thead>\n",
       "  <tbody>\n",
       "    <tr>\n",
       "      <td>0</td>\n",
       "      <td>Red</td>\n",
       "      <td>S</td>\n",
       "      <td>200</td>\n",
       "      <td>hard</td>\n",
       "      <td>1</td>\n",
       "    </tr>\n",
       "    <tr>\n",
       "      <td>1</td>\n",
       "      <td>Yellow</td>\n",
       "      <td>M</td>\n",
       "      <td>100</td>\n",
       "      <td>soft</td>\n",
       "      <td>2</td>\n",
       "    </tr>\n",
       "    <tr>\n",
       "      <td>2</td>\n",
       "      <td>Red</td>\n",
       "      <td>L</td>\n",
       "      <td>300</td>\n",
       "      <td>medium</td>\n",
       "      <td>0</td>\n",
       "    </tr>\n",
       "    <tr>\n",
       "      <td>3</td>\n",
       "      <td>Red</td>\n",
       "      <td>S</td>\n",
       "      <td>300</td>\n",
       "      <td>hard</td>\n",
       "      <td>0</td>\n",
       "    </tr>\n",
       "    <tr>\n",
       "      <td>4</td>\n",
       "      <td>Blue</td>\n",
       "      <td>S</td>\n",
       "      <td>300</td>\n",
       "      <td>soft</td>\n",
       "      <td>0</td>\n",
       "    </tr>\n",
       "  </tbody>\n",
       "</table>\n",
       "</div>"
      ],
      "text/plain": [
       "    COLOR SIZE  WEIGHT HARDNESS  OUTCOME\n",
       "0     Red    S     200     hard        1\n",
       "1  Yellow    M     100     soft        2\n",
       "2     Red    L     300   medium        0\n",
       "3     Red    S     300     hard        0\n",
       "4    Blue    S     300     soft        0"
      ]
     },
     "execution_count": 178,
     "metadata": {},
     "output_type": "execute_result"
    }
   ],
   "source": [
    "df = pd.DataFrame({\n",
    "        \"COLOR\" : [\"Red\", \"Yellow\", \"Red\", \"Red\", \"Blue\"],\n",
    "        \"SIZE\" : [\"S\", \"M\", \"L\", \"S\", \"S\"],\n",
    "        \"WEIGHT\" : [200, 100, 300, 300, 300],\n",
    "        \"HARDNESS\" : [\"hard\", \"soft\", \"medium\", \"hard\", \"soft\"],\n",
    "        \"OUTCOME\" : [1,2,0,0,0] })\n",
    "df"
   ]
  },
  {
   "cell_type": "code",
   "execution_count": 179,
   "metadata": {},
   "outputs": [],
   "source": [
    "# 説明変数X と 目的変数Yに分ける\n",
    "df_X = df[[\"COLOR\", \"SIZE\", \"WEIGHT\",\"HARDNESS\"]].copy()\n",
    "df_Y = df[[\"OUTCOME\"]].copy()"
   ]
  },
  {
   "cell_type": "markdown",
   "metadata": {},
   "source": [
    "### ====================================\n",
    "### LabelEncoder\n",
    "sklearn.preprocessing.LabelEncoder()\n",
    "[▼DOC](\n",
    "https://scikit-learn.org/stable/modules/generated/sklearn.preprocessing.LabelEncoder.html#sklearn.preprocessing.LabelEncoder\n",
    ")  \n",
    "> 0 から n_classes-1 の間の値を持つターゲットラベルをエンコードします。  \n",
    "この変換器は、ターゲット値、すなわち y をエンコードするために使用されるべきであり、  \n",
    "入力 X ではありません。  \n",
    "\n",
    "・元の値を整数値に変換する。元々数値でも変換できる。    \n",
    "・数値として扱えるようになるが、  \n",
    "　名義特徴量(COLORとか)については数値になったことで順序ができてしまうのがNG。   \n",
    "・数値のマッピング0,1,2,,,は、元の値の昇順の模様。  \n",
    "・Nanがあると変換できずにエラーになる  \n",
    "・Xも変換できるのだろうけど、そもそもYの変換を目的に作られているのかな？  \n",
    "　たしかにデータフレーム丸ごと変換できない、Nanあるとダメってことからもそんな感じがする。  \n",
    "　勉強に使ってたテキストとかはフツーにXに使ってたけども。  "
   ]
  },
  {
   "cell_type": "code",
   "execution_count": 180,
   "metadata": {},
   "outputs": [
    {
     "name": "stdout",
     "output_type": "stream",
     "text": [
      "エンコード前\n"
     ]
    },
    {
     "data": {
      "text/html": [
       "<div>\n",
       "<style scoped>\n",
       "    .dataframe tbody tr th:only-of-type {\n",
       "        vertical-align: middle;\n",
       "    }\n",
       "\n",
       "    .dataframe tbody tr th {\n",
       "        vertical-align: top;\n",
       "    }\n",
       "\n",
       "    .dataframe thead th {\n",
       "        text-align: right;\n",
       "    }\n",
       "</style>\n",
       "<table border=\"1\" class=\"dataframe\">\n",
       "  <thead>\n",
       "    <tr style=\"text-align: right;\">\n",
       "      <th></th>\n",
       "      <th>COLOR</th>\n",
       "      <th>SIZE</th>\n",
       "      <th>WEIGHT</th>\n",
       "      <th>HARDNESS</th>\n",
       "    </tr>\n",
       "  </thead>\n",
       "  <tbody>\n",
       "    <tr>\n",
       "      <td>0</td>\n",
       "      <td>Red</td>\n",
       "      <td>S</td>\n",
       "      <td>200</td>\n",
       "      <td>hard</td>\n",
       "    </tr>\n",
       "    <tr>\n",
       "      <td>1</td>\n",
       "      <td>Yellow</td>\n",
       "      <td>M</td>\n",
       "      <td>100</td>\n",
       "      <td>soft</td>\n",
       "    </tr>\n",
       "    <tr>\n",
       "      <td>2</td>\n",
       "      <td>Red</td>\n",
       "      <td>L</td>\n",
       "      <td>300</td>\n",
       "      <td>medium</td>\n",
       "    </tr>\n",
       "    <tr>\n",
       "      <td>3</td>\n",
       "      <td>Red</td>\n",
       "      <td>S</td>\n",
       "      <td>300</td>\n",
       "      <td>hard</td>\n",
       "    </tr>\n",
       "    <tr>\n",
       "      <td>4</td>\n",
       "      <td>Blue</td>\n",
       "      <td>S</td>\n",
       "      <td>300</td>\n",
       "      <td>soft</td>\n",
       "    </tr>\n",
       "  </tbody>\n",
       "</table>\n",
       "</div>"
      ],
      "text/plain": [
       "    COLOR SIZE  WEIGHT HARDNESS\n",
       "0     Red    S     200     hard\n",
       "1  Yellow    M     100     soft\n",
       "2     Red    L     300   medium\n",
       "3     Red    S     300     hard\n",
       "4    Blue    S     300     soft"
      ]
     },
     "metadata": {},
     "output_type": "display_data"
    },
    {
     "name": "stdout",
     "output_type": "stream",
     "text": [
      "エンコード後\n"
     ]
    },
    {
     "data": {
      "text/html": [
       "<div>\n",
       "<style scoped>\n",
       "    .dataframe tbody tr th:only-of-type {\n",
       "        vertical-align: middle;\n",
       "    }\n",
       "\n",
       "    .dataframe tbody tr th {\n",
       "        vertical-align: top;\n",
       "    }\n",
       "\n",
       "    .dataframe thead th {\n",
       "        text-align: right;\n",
       "    }\n",
       "</style>\n",
       "<table border=\"1\" class=\"dataframe\">\n",
       "  <thead>\n",
       "    <tr style=\"text-align: right;\">\n",
       "      <th></th>\n",
       "      <th>COLOR</th>\n",
       "      <th>SIZE</th>\n",
       "      <th>WEIGHT</th>\n",
       "      <th>HARDNESS</th>\n",
       "    </tr>\n",
       "  </thead>\n",
       "  <tbody>\n",
       "    <tr>\n",
       "      <td>0</td>\n",
       "      <td>1</td>\n",
       "      <td>2</td>\n",
       "      <td>1</td>\n",
       "      <td>0</td>\n",
       "    </tr>\n",
       "    <tr>\n",
       "      <td>1</td>\n",
       "      <td>2</td>\n",
       "      <td>1</td>\n",
       "      <td>0</td>\n",
       "      <td>2</td>\n",
       "    </tr>\n",
       "    <tr>\n",
       "      <td>2</td>\n",
       "      <td>1</td>\n",
       "      <td>0</td>\n",
       "      <td>2</td>\n",
       "      <td>1</td>\n",
       "    </tr>\n",
       "    <tr>\n",
       "      <td>3</td>\n",
       "      <td>1</td>\n",
       "      <td>2</td>\n",
       "      <td>2</td>\n",
       "      <td>0</td>\n",
       "    </tr>\n",
       "    <tr>\n",
       "      <td>4</td>\n",
       "      <td>0</td>\n",
       "      <td>2</td>\n",
       "      <td>2</td>\n",
       "      <td>2</td>\n",
       "    </tr>\n",
       "  </tbody>\n",
       "</table>\n",
       "</div>"
      ],
      "text/plain": [
       "   COLOR  SIZE  WEIGHT  HARDNESS\n",
       "0      1     2       1         0\n",
       "1      2     1       0         2\n",
       "2      1     0       2         1\n",
       "3      1     2       2         0\n",
       "4      0     2       2         2"
      ]
     },
     "metadata": {},
     "output_type": "display_data"
    }
   ],
   "source": [
    "print(\"エンコード前\")\n",
    "display(df_X)\n",
    "\n",
    "print(\"エンコード後\")\n",
    "le = LabelEncoder()\n",
    "\n",
    "# 1列ずつSeriesにしてエンコード\n",
    "df_X_le = pd.DataFrame({\n",
    "    \"COLOR\" : le.fit_transform(df_X[\"COLOR\"]),\n",
    "    \"SIZE\"  : le.fit_transform(df_X[\"SIZE\"]),\n",
    "    \"WEIGHT\"  : le.fit_transform(df_X[\"WEIGHT\"]),\n",
    "    \"HARDNESS\"  : le.fit_transform(df_X[\"HARDNESS\"]),\n",
    "})\n",
    "display(df_X_le)"
   ]
  },
  {
   "cell_type": "code",
   "execution_count": 181,
   "metadata": {},
   "outputs": [
    {
     "name": "stdout",
     "output_type": "stream",
     "text": [
      "エンコード前\n"
     ]
    },
    {
     "data": {
      "text/html": [
       "<div>\n",
       "<style scoped>\n",
       "    .dataframe tbody tr th:only-of-type {\n",
       "        vertical-align: middle;\n",
       "    }\n",
       "\n",
       "    .dataframe tbody tr th {\n",
       "        vertical-align: top;\n",
       "    }\n",
       "\n",
       "    .dataframe thead th {\n",
       "        text-align: right;\n",
       "    }\n",
       "</style>\n",
       "<table border=\"1\" class=\"dataframe\">\n",
       "  <thead>\n",
       "    <tr style=\"text-align: right;\">\n",
       "      <th></th>\n",
       "      <th>HARDNESS</th>\n",
       "    </tr>\n",
       "  </thead>\n",
       "  <tbody>\n",
       "    <tr>\n",
       "      <td>0</td>\n",
       "      <td>2_hard</td>\n",
       "    </tr>\n",
       "    <tr>\n",
       "      <td>1</td>\n",
       "      <td>0_soft</td>\n",
       "    </tr>\n",
       "    <tr>\n",
       "      <td>2</td>\n",
       "      <td>1_medium</td>\n",
       "    </tr>\n",
       "    <tr>\n",
       "      <td>3</td>\n",
       "      <td>2_hard</td>\n",
       "    </tr>\n",
       "    <tr>\n",
       "      <td>4</td>\n",
       "      <td>0_soft</td>\n",
       "    </tr>\n",
       "  </tbody>\n",
       "</table>\n",
       "</div>"
      ],
      "text/plain": [
       "   HARDNESS\n",
       "0    2_hard\n",
       "1    0_soft\n",
       "2  1_medium\n",
       "3    2_hard\n",
       "4    0_soft"
      ]
     },
     "metadata": {},
     "output_type": "display_data"
    },
    {
     "name": "stdout",
     "output_type": "stream",
     "text": [
      "エンコード後\n"
     ]
    },
    {
     "data": {
      "text/html": [
       "<div>\n",
       "<style scoped>\n",
       "    .dataframe tbody tr th:only-of-type {\n",
       "        vertical-align: middle;\n",
       "    }\n",
       "\n",
       "    .dataframe tbody tr th {\n",
       "        vertical-align: top;\n",
       "    }\n",
       "\n",
       "    .dataframe thead th {\n",
       "        text-align: right;\n",
       "    }\n",
       "</style>\n",
       "<table border=\"1\" class=\"dataframe\">\n",
       "  <thead>\n",
       "    <tr style=\"text-align: right;\">\n",
       "      <th></th>\n",
       "      <th>HARDNESS</th>\n",
       "    </tr>\n",
       "  </thead>\n",
       "  <tbody>\n",
       "    <tr>\n",
       "      <td>0</td>\n",
       "      <td>2</td>\n",
       "    </tr>\n",
       "    <tr>\n",
       "      <td>1</td>\n",
       "      <td>0</td>\n",
       "    </tr>\n",
       "    <tr>\n",
       "      <td>2</td>\n",
       "      <td>1</td>\n",
       "    </tr>\n",
       "    <tr>\n",
       "      <td>3</td>\n",
       "      <td>2</td>\n",
       "    </tr>\n",
       "    <tr>\n",
       "      <td>4</td>\n",
       "      <td>0</td>\n",
       "    </tr>\n",
       "  </tbody>\n",
       "</table>\n",
       "</div>"
      ],
      "text/plain": [
       "   HARDNESS\n",
       "0         2\n",
       "1         0\n",
       "2         1\n",
       "3         2\n",
       "4         0"
      ]
     },
     "metadata": {},
     "output_type": "display_data"
    }
   ],
   "source": [
    "# 数値のマッピングは、元の値の昇順ぽいので\n",
    "# 自分で指定したいときは、接頭語つけてあげればいい\n",
    "df_X_tmp = df_X.copy()\n",
    "df_X_tmp[\"HARDNESS\"] = df_X_tmp[\"HARDNESS\"].mask(df_X_tmp[\"HARDNESS\"]==\"hard\",   \"2_hard\")\n",
    "df_X_tmp[\"HARDNESS\"] = df_X_tmp[\"HARDNESS\"].mask(df_X_tmp[\"HARDNESS\"]==\"medium\", \"1_medium\")\n",
    "df_X_tmp[\"HARDNESS\"] = df_X_tmp[\"HARDNESS\"].mask(df_X_tmp[\"HARDNESS\"]==\"soft\",   \"0_soft\")\n",
    "\n",
    "print(\"エンコード前\")\n",
    "display(df_X_tmp[[\"HARDNESS\"]])\n",
    "\n",
    "print(\"エンコード後\")\n",
    "le = LabelEncoder()\n",
    "\n",
    "# 1列ずつSeriesにしてエンコード\n",
    "df_X_le = pd.DataFrame({\n",
    "    \"HARDNESS\"  : le.fit_transform(df_X_tmp[\"HARDNESS\"]),\n",
    "})\n",
    "display(df_X_le)"
   ]
  },
  {
   "cell_type": "code",
   "execution_count": 201,
   "metadata": {},
   "outputs": [
    {
     "name": "stdout",
     "output_type": "stream",
     "text": [
      "エラー: argument must be a string or number\n"
     ]
    }
   ],
   "source": [
    "# Nanがあると変換できない\n",
    "df_X_tmp = pd.DataFrame({\n",
    "        \"COLOR\" : [\"Red\", \"Yellow\", \"Red\", np.nan, \"Blue\"],\n",
    "        \"HARDNESS\" : [\"hard\", np.nan, \"medium\", \"hard\", \"soft\"] })\n",
    "\n",
    "#print(\"エンコード前\")\n",
    "#display(df_X_tmp)\n",
    "\n",
    "#print(\"エンコード後\")\n",
    "#le = LabelEncoder()\n",
    "\n",
    "try:\n",
    "    # 1列ずつSeriesにしてエンコード\n",
    "    df_X_le = pd.DataFrame({\n",
    "        \"COLOR\" : le.fit_transform(df_X_tmp[\"COLOR\"]),\n",
    "        \"HARDNESS\"  : le.fit_transform(df_X_tmp[\"HARDNESS\"]),\n",
    "    })\n",
    "    display(df_X_le)\n",
    "\n",
    "except TypeError as e:\n",
    "    print(\"エラー:\", e)"
   ]
  },
  {
   "cell_type": "code",
   "execution_count": null,
   "metadata": {},
   "outputs": [],
   "source": []
  },
  {
   "cell_type": "markdown",
   "metadata": {},
   "source": [
    "### ====================================\n",
    "### OrdinalEncoder (Ordinal=順序)\n",
    "sklearn.preprocessing.OrdinalEncoder\n",
    "[▼DOC](\n",
    "https://scikit-learn.org/stable/modules/generated/sklearn.preprocessing.OrdinalEncoder.html\n",
    ")  \n",
    "> この変換器への入力は  \n",
    "カテゴリ的（離散的）特徴量によって  \n",
    "取られる値を表す**整数または文字列の配列**のようなものでなければなりません．  \n",
    "特徴量は，**順序の整数**に変換されます．  \n",
    "これにより，特徴量ごとに1列の整数（0からn_categories - 1）が得られます．\n",
    "\n",
    "・元々数値の場合は変換されないのかな？  \n",
    "・数値のマッピング1,2,,,は、もとの値の登場順に振っている模様。  \n",
    "・データフレーム丸ごと変換できる。  \n",
    "・nanがあっても変換できる。"
   ]
  },
  {
   "cell_type": "code",
   "execution_count": 152,
   "metadata": {},
   "outputs": [
    {
     "name": "stdout",
     "output_type": "stream",
     "text": [
      "エンコード前\n"
     ]
    },
    {
     "data": {
      "text/html": [
       "<div>\n",
       "<style scoped>\n",
       "    .dataframe tbody tr th:only-of-type {\n",
       "        vertical-align: middle;\n",
       "    }\n",
       "\n",
       "    .dataframe tbody tr th {\n",
       "        vertical-align: top;\n",
       "    }\n",
       "\n",
       "    .dataframe thead th {\n",
       "        text-align: right;\n",
       "    }\n",
       "</style>\n",
       "<table border=\"1\" class=\"dataframe\">\n",
       "  <thead>\n",
       "    <tr style=\"text-align: right;\">\n",
       "      <th></th>\n",
       "      <th>COLOR</th>\n",
       "      <th>SIZE</th>\n",
       "      <th>WEIGHT</th>\n",
       "      <th>HARDNESS</th>\n",
       "    </tr>\n",
       "  </thead>\n",
       "  <tbody>\n",
       "    <tr>\n",
       "      <td>0</td>\n",
       "      <td>Red</td>\n",
       "      <td>S</td>\n",
       "      <td>200</td>\n",
       "      <td>hard</td>\n",
       "    </tr>\n",
       "    <tr>\n",
       "      <td>1</td>\n",
       "      <td>Yellow</td>\n",
       "      <td>M</td>\n",
       "      <td>100</td>\n",
       "      <td>soft</td>\n",
       "    </tr>\n",
       "    <tr>\n",
       "      <td>2</td>\n",
       "      <td>Red</td>\n",
       "      <td>L</td>\n",
       "      <td>300</td>\n",
       "      <td>medium</td>\n",
       "    </tr>\n",
       "    <tr>\n",
       "      <td>3</td>\n",
       "      <td>Red</td>\n",
       "      <td>S</td>\n",
       "      <td>300</td>\n",
       "      <td>hard</td>\n",
       "    </tr>\n",
       "    <tr>\n",
       "      <td>4</td>\n",
       "      <td>Blue</td>\n",
       "      <td>S</td>\n",
       "      <td>300</td>\n",
       "      <td>soft</td>\n",
       "    </tr>\n",
       "    <tr>\n",
       "      <td>5</td>\n",
       "      <td>Blue</td>\n",
       "      <td>L</td>\n",
       "      <td>100</td>\n",
       "      <td>medium</td>\n",
       "    </tr>\n",
       "  </tbody>\n",
       "</table>\n",
       "</div>"
      ],
      "text/plain": [
       "    COLOR SIZE  WEIGHT HARDNESS\n",
       "0     Red    S     200     hard\n",
       "1  Yellow    M     100     soft\n",
       "2     Red    L     300   medium\n",
       "3     Red    S     300     hard\n",
       "4    Blue    S     300     soft\n",
       "5    Blue    L     100   medium"
      ]
     },
     "metadata": {},
     "output_type": "display_data"
    },
    {
     "name": "stdout",
     "output_type": "stream",
     "text": [
      "エンコード後\n"
     ]
    },
    {
     "data": {
      "text/html": [
       "<div>\n",
       "<style scoped>\n",
       "    .dataframe tbody tr th:only-of-type {\n",
       "        vertical-align: middle;\n",
       "    }\n",
       "\n",
       "    .dataframe tbody tr th {\n",
       "        vertical-align: top;\n",
       "    }\n",
       "\n",
       "    .dataframe thead th {\n",
       "        text-align: right;\n",
       "    }\n",
       "</style>\n",
       "<table border=\"1\" class=\"dataframe\">\n",
       "  <thead>\n",
       "    <tr style=\"text-align: right;\">\n",
       "      <th></th>\n",
       "      <th>COLOR</th>\n",
       "      <th>SIZE</th>\n",
       "      <th>WEIGHT</th>\n",
       "      <th>HARDNESS</th>\n",
       "    </tr>\n",
       "  </thead>\n",
       "  <tbody>\n",
       "    <tr>\n",
       "      <td>0</td>\n",
       "      <td>1</td>\n",
       "      <td>1</td>\n",
       "      <td>200</td>\n",
       "      <td>1</td>\n",
       "    </tr>\n",
       "    <tr>\n",
       "      <td>1</td>\n",
       "      <td>2</td>\n",
       "      <td>2</td>\n",
       "      <td>100</td>\n",
       "      <td>2</td>\n",
       "    </tr>\n",
       "    <tr>\n",
       "      <td>2</td>\n",
       "      <td>1</td>\n",
       "      <td>3</td>\n",
       "      <td>300</td>\n",
       "      <td>3</td>\n",
       "    </tr>\n",
       "    <tr>\n",
       "      <td>3</td>\n",
       "      <td>1</td>\n",
       "      <td>1</td>\n",
       "      <td>300</td>\n",
       "      <td>1</td>\n",
       "    </tr>\n",
       "    <tr>\n",
       "      <td>4</td>\n",
       "      <td>3</td>\n",
       "      <td>1</td>\n",
       "      <td>300</td>\n",
       "      <td>2</td>\n",
       "    </tr>\n",
       "    <tr>\n",
       "      <td>5</td>\n",
       "      <td>3</td>\n",
       "      <td>3</td>\n",
       "      <td>100</td>\n",
       "      <td>3</td>\n",
       "    </tr>\n",
       "  </tbody>\n",
       "</table>\n",
       "</div>"
      ],
      "text/plain": [
       "   COLOR  SIZE  WEIGHT  HARDNESS\n",
       "0      1     1     200         1\n",
       "1      2     2     100         2\n",
       "2      1     3     300         3\n",
       "3      1     1     300         1\n",
       "4      3     1     300         2\n",
       "5      3     3     100         3"
      ]
     },
     "metadata": {},
     "output_type": "display_data"
    }
   ],
   "source": [
    "print(\"エンコード前\")\n",
    "display(df_X)\n",
    "\n",
    "print(\"エンコード後\")\n",
    "oe = ce.OrdinalEncoder()\n",
    "df_X_oe = oe.fit_transform(df_X)\n",
    "display(df_X_oe)"
   ]
  },
  {
   "cell_type": "code",
   "execution_count": 168,
   "metadata": {},
   "outputs": [
    {
     "name": "stdout",
     "output_type": "stream",
     "text": [
      "エンコード前\n"
     ]
    },
    {
     "data": {
      "text/html": [
       "<div>\n",
       "<style scoped>\n",
       "    .dataframe tbody tr th:only-of-type {\n",
       "        vertical-align: middle;\n",
       "    }\n",
       "\n",
       "    .dataframe tbody tr th {\n",
       "        vertical-align: top;\n",
       "    }\n",
       "\n",
       "    .dataframe thead th {\n",
       "        text-align: right;\n",
       "    }\n",
       "</style>\n",
       "<table border=\"1\" class=\"dataframe\">\n",
       "  <thead>\n",
       "    <tr style=\"text-align: right;\">\n",
       "      <th></th>\n",
       "      <th>HARDNESS</th>\n",
       "    </tr>\n",
       "  </thead>\n",
       "  <tbody>\n",
       "    <tr>\n",
       "      <td>0</td>\n",
       "      <td>hard</td>\n",
       "    </tr>\n",
       "    <tr>\n",
       "      <td>1</td>\n",
       "      <td>soft</td>\n",
       "    </tr>\n",
       "    <tr>\n",
       "      <td>2</td>\n",
       "      <td>medium</td>\n",
       "    </tr>\n",
       "    <tr>\n",
       "      <td>3</td>\n",
       "      <td>hard</td>\n",
       "    </tr>\n",
       "    <tr>\n",
       "      <td>4</td>\n",
       "      <td>soft</td>\n",
       "    </tr>\n",
       "    <tr>\n",
       "      <td>5</td>\n",
       "      <td>medium</td>\n",
       "    </tr>\n",
       "  </tbody>\n",
       "</table>\n",
       "</div>"
      ],
      "text/plain": [
       "  HARDNESS\n",
       "0     hard\n",
       "1     soft\n",
       "2   medium\n",
       "3     hard\n",
       "4     soft\n",
       "5   medium"
      ]
     },
     "metadata": {},
     "output_type": "display_data"
    },
    {
     "name": "stdout",
     "output_type": "stream",
     "text": [
      "エンコード後\n"
     ]
    },
    {
     "data": {
      "text/html": [
       "<div>\n",
       "<style scoped>\n",
       "    .dataframe tbody tr th:only-of-type {\n",
       "        vertical-align: middle;\n",
       "    }\n",
       "\n",
       "    .dataframe tbody tr th {\n",
       "        vertical-align: top;\n",
       "    }\n",
       "\n",
       "    .dataframe thead th {\n",
       "        text-align: right;\n",
       "    }\n",
       "</style>\n",
       "<table border=\"1\" class=\"dataframe\">\n",
       "  <thead>\n",
       "    <tr style=\"text-align: right;\">\n",
       "      <th></th>\n",
       "      <th>HARDNESS</th>\n",
       "    </tr>\n",
       "  </thead>\n",
       "  <tbody>\n",
       "    <tr>\n",
       "      <td>0</td>\n",
       "      <td>3</td>\n",
       "    </tr>\n",
       "    <tr>\n",
       "      <td>1</td>\n",
       "      <td>1</td>\n",
       "    </tr>\n",
       "    <tr>\n",
       "      <td>2</td>\n",
       "      <td>2</td>\n",
       "    </tr>\n",
       "    <tr>\n",
       "      <td>3</td>\n",
       "      <td>3</td>\n",
       "    </tr>\n",
       "    <tr>\n",
       "      <td>4</td>\n",
       "      <td>1</td>\n",
       "    </tr>\n",
       "    <tr>\n",
       "      <td>5</td>\n",
       "      <td>2</td>\n",
       "    </tr>\n",
       "  </tbody>\n",
       "</table>\n",
       "</div>"
      ],
      "text/plain": [
       "   HARDNESS\n",
       "0         3\n",
       "1         1\n",
       "2         2\n",
       "3         3\n",
       "4         1\n",
       "5         2"
      ]
     },
     "metadata": {},
     "output_type": "display_data"
    }
   ],
   "source": [
    "# 数値のマッピング1,2,,,は、もとの値の登場順に振っているっぽい。\n",
    "# ので、自分で指定したい場合は、順序のリストを渡すといい。\n",
    "print(\"エンコード前\")\n",
    "display(df_X[[\"HARDNESS\"]])\n",
    "\n",
    "# 都度、新しくインスタンスを作成して\n",
    "# 自分が指定した順序を覚えさせて、変換する。\n",
    "# 複数列まとめて指定する方法もあるんだろうけどわからなかった。。。\n",
    "oe = ce.OrdinalEncoder()\n",
    "order = [['soft'], ['medium'], ['hard']] # この順で、1,2,3,,を振る\n",
    "oe.fit(order)\n",
    "df_X_le = oe.transform(np.ravel(df_X[[\"HARDNESS\"]]))\n",
    "\n",
    "print(\"エンコード後\")\n",
    "df_X_le.columns = [\"HARDNESS\"]\n",
    "display(df_X_le)"
   ]
  },
  {
   "cell_type": "code",
   "execution_count": 200,
   "metadata": {},
   "outputs": [
    {
     "data": {
      "text/html": [
       "<div>\n",
       "<style scoped>\n",
       "    .dataframe tbody tr th:only-of-type {\n",
       "        vertical-align: middle;\n",
       "    }\n",
       "\n",
       "    .dataframe tbody tr th {\n",
       "        vertical-align: top;\n",
       "    }\n",
       "\n",
       "    .dataframe thead th {\n",
       "        text-align: right;\n",
       "    }\n",
       "</style>\n",
       "<table border=\"1\" class=\"dataframe\">\n",
       "  <thead>\n",
       "    <tr style=\"text-align: right;\">\n",
       "      <th></th>\n",
       "      <th>COLOR</th>\n",
       "      <th>HARDNESS</th>\n",
       "    </tr>\n",
       "  </thead>\n",
       "  <tbody>\n",
       "    <tr>\n",
       "      <td>0</td>\n",
       "      <td>Red</td>\n",
       "      <td>hard</td>\n",
       "    </tr>\n",
       "    <tr>\n",
       "      <td>1</td>\n",
       "      <td>Yellow</td>\n",
       "      <td>NaN</td>\n",
       "    </tr>\n",
       "    <tr>\n",
       "      <td>2</td>\n",
       "      <td>Red</td>\n",
       "      <td>medium</td>\n",
       "    </tr>\n",
       "    <tr>\n",
       "      <td>3</td>\n",
       "      <td>NaN</td>\n",
       "      <td>hard</td>\n",
       "    </tr>\n",
       "    <tr>\n",
       "      <td>4</td>\n",
       "      <td>Blue</td>\n",
       "      <td>soft</td>\n",
       "    </tr>\n",
       "  </tbody>\n",
       "</table>\n",
       "</div>"
      ],
      "text/plain": [
       "    COLOR HARDNESS\n",
       "0     Red     hard\n",
       "1  Yellow      NaN\n",
       "2     Red   medium\n",
       "3     NaN     hard\n",
       "4    Blue     soft"
      ]
     },
     "metadata": {},
     "output_type": "display_data"
    },
    {
     "name": "stdout",
     "output_type": "stream",
     "text": [
      "エンコード後\n"
     ]
    },
    {
     "data": {
      "text/html": [
       "<div>\n",
       "<style scoped>\n",
       "    .dataframe tbody tr th:only-of-type {\n",
       "        vertical-align: middle;\n",
       "    }\n",
       "\n",
       "    .dataframe tbody tr th {\n",
       "        vertical-align: top;\n",
       "    }\n",
       "\n",
       "    .dataframe thead th {\n",
       "        text-align: right;\n",
       "    }\n",
       "</style>\n",
       "<table border=\"1\" class=\"dataframe\">\n",
       "  <thead>\n",
       "    <tr style=\"text-align: right;\">\n",
       "      <th></th>\n",
       "      <th>COLOR</th>\n",
       "      <th>HARDNESS</th>\n",
       "    </tr>\n",
       "  </thead>\n",
       "  <tbody>\n",
       "    <tr>\n",
       "      <td>0</td>\n",
       "      <td>1</td>\n",
       "      <td>1</td>\n",
       "    </tr>\n",
       "    <tr>\n",
       "      <td>1</td>\n",
       "      <td>2</td>\n",
       "      <td>2</td>\n",
       "    </tr>\n",
       "    <tr>\n",
       "      <td>2</td>\n",
       "      <td>1</td>\n",
       "      <td>3</td>\n",
       "    </tr>\n",
       "    <tr>\n",
       "      <td>3</td>\n",
       "      <td>3</td>\n",
       "      <td>1</td>\n",
       "    </tr>\n",
       "    <tr>\n",
       "      <td>4</td>\n",
       "      <td>4</td>\n",
       "      <td>4</td>\n",
       "    </tr>\n",
       "  </tbody>\n",
       "</table>\n",
       "</div>"
      ],
      "text/plain": [
       "   COLOR  HARDNESS\n",
       "0      1         1\n",
       "1      2         2\n",
       "2      1         3\n",
       "3      3         1\n",
       "4      4         4"
      ]
     },
     "execution_count": 200,
     "metadata": {},
     "output_type": "execute_result"
    }
   ],
   "source": [
    "# Nanがあっても変換できる\n",
    "df_X_tmp = pd.DataFrame({\n",
    "        \"COLOR\" : [\"Red\", \"Yellow\", \"Red\", np.nan, \"Blue\"],\n",
    "        \"HARDNESS\" : [\"hard\", np.nan, \"medium\", \"hard\", \"soft\"] })\n",
    "\n",
    "#print(\"エンコード前\")\n",
    "display(df_X_tmp)\n",
    "\n",
    "print(\"エンコード後\")\n",
    "oe = ce.OrdinalEncoder()\n",
    "oe.fit_transform(df_X_tmp)"
   ]
  },
  {
   "cell_type": "code",
   "execution_count": null,
   "metadata": {},
   "outputs": [],
   "source": []
  },
  {
   "cell_type": "code",
   "execution_count": null,
   "metadata": {},
   "outputs": [],
   "source": []
  },
  {
   "cell_type": "markdown",
   "metadata": {},
   "source": [
    "### ====================================\n",
    "### One-Hot Encoder (Ordinal:順序)\n",
    "[▼DOC](\n",
    "https://scikit-learn.org/stable/modules/generated/sklearn.preprocessing.OrdinalEncoder.html\n",
    ")  \n",
    "> この変換器への入力は  \n",
    "カテゴリ的（離散的）特徴量によって  \n",
    "取られる値を表す**整数または文字列の配列**のようなものでなければなりません．  \n",
    "特徴量は，**順序の整数**に変換されます．  \n",
    "これにより，特徴量ごとに1列の整数（0からn_categories - 1）が得られます．\n",
    "\n",
    "ほうほうが２つあること、\n",
    "Nanha？？"
   ]
  },
  {
   "cell_type": "code",
   "execution_count": null,
   "metadata": {},
   "outputs": [],
   "source": [
    "oe2.transform(df_X)"
   ]
  },
  {
   "cell_type": "code",
   "execution_count": null,
   "metadata": {},
   "outputs": [],
   "source": []
  },
  {
   "cell_type": "code",
   "execution_count": 141,
   "metadata": {},
   "outputs": [
    {
     "ename": "SyntaxError",
     "evalue": "invalid syntax (<ipython-input-141-7a9b0d21cd47>, line 1)",
     "output_type": "error",
     "traceback": [
      "\u001b[1;36m  File \u001b[1;32m\"<ipython-input-141-7a9b0d21cd47>\"\u001b[1;36m, line \u001b[1;32m1\u001b[0m\n\u001b[1;33m    pd.DataFrame(df[\"HARDNESS\"], columns = [\"HARDNESS\":\"0\"])\u001b[0m\n\u001b[1;37m                                                      ^\u001b[0m\n\u001b[1;31mSyntaxError\u001b[0m\u001b[1;31m:\u001b[0m invalid syntax\n"
     ]
    }
   ],
   "source": [
    "pd.DataFrame(df[\"HARDNESS\"], columns = [\"HARDNESS\":\"0\"])"
   ]
  },
  {
   "cell_type": "code",
   "execution_count": 137,
   "metadata": {},
   "outputs": [
    {
     "data": {
      "text/plain": [
       "0      hard\n",
       "1      soft\n",
       "2    medium\n",
       "3      hard\n",
       "4      soft\n",
       "5    medium\n",
       "Name: HARDNESS, dtype: object"
      ]
     },
     "execution_count": 137,
     "metadata": {},
     "output_type": "execute_result"
    }
   ],
   "source": [
    "df[\"HARDNESS\"].valu"
   ]
  },
  {
   "cell_type": "code",
   "execution_count": 142,
   "metadata": {},
   "outputs": [
    {
     "data": {
      "text/plain": [
       "array(['hard', 'soft', 'medium', 'hard', 'soft', 'medium'], dtype=object)"
      ]
     },
     "execution_count": 142,
     "metadata": {},
     "output_type": "execute_result"
    }
   ],
   "source": [
    "np.ravel(df[\"HARDNESS\"])"
   ]
  },
  {
   "cell_type": "code",
   "execution_count": null,
   "metadata": {},
   "outputs": [],
   "source": []
  }
 ],
 "metadata": {
  "kernelspec": {
   "display_name": "Python 3",
   "language": "python",
   "name": "python3"
  },
  "language_info": {
   "codemirror_mode": {
    "name": "ipython",
    "version": 3
   },
   "file_extension": ".py",
   "mimetype": "text/x-python",
   "name": "python",
   "nbconvert_exporter": "python",
   "pygments_lexer": "ipython3",
   "version": "3.6.5"
  }
 },
 "nbformat": 4,
 "nbformat_minor": 4
}
