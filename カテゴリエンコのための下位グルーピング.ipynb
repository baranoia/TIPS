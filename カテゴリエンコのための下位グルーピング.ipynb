{
 "cells": [
  {
   "cell_type": "code",
   "execution_count": 81,
   "metadata": {},
   "outputs": [],
   "source": [
    "import pandas as pd\n",
    "import numpy as np"
   ]
  },
  {
   "cell_type": "code",
   "execution_count": 82,
   "metadata": {},
   "outputs": [],
   "source": [
    "import random"
   ]
  },
  {
   "cell_type": "markdown",
   "metadata": {},
   "source": [
    "---\n",
    "データの準備"
   ]
  },
  {
   "cell_type": "code",
   "execution_count": 143,
   "metadata": {},
   "outputs": [
    {
     "data": {
      "text/plain": [
       "995"
      ]
     },
     "execution_count": 143,
     "metadata": {},
     "output_type": "execute_result"
    }
   ],
   "source": [
    "a =[]\n",
    "b =[]\n",
    "c =[]\n",
    "for i in range(0,995):\n",
    "    a.append(random.randint(1, 15))\n",
    "    b.append(random.randint(1, 15))   \n",
    "    c.append(random.randint(1, 15))   \n",
    "len(a)"
   ]
  },
  {
   "cell_type": "code",
   "execution_count": 144,
   "metadata": {},
   "outputs": [
    {
     "data": {
      "text/html": [
       "<div>\n",
       "<style scoped>\n",
       "    .dataframe tbody tr th:only-of-type {\n",
       "        vertical-align: middle;\n",
       "    }\n",
       "\n",
       "    .dataframe tbody tr th {\n",
       "        vertical-align: top;\n",
       "    }\n",
       "\n",
       "    .dataframe thead th {\n",
       "        text-align: right;\n",
       "    }\n",
       "</style>\n",
       "<table border=\"1\" class=\"dataframe\">\n",
       "  <thead>\n",
       "    <tr style=\"text-align: right;\">\n",
       "      <th></th>\n",
       "      <th>col1</th>\n",
       "      <th>col2</th>\n",
       "      <th>col3</th>\n",
       "    </tr>\n",
       "  </thead>\n",
       "  <tbody>\n",
       "    <tr>\n",
       "      <td>0</td>\n",
       "      <td>9.0</td>\n",
       "      <td>7.0</td>\n",
       "      <td>4.0</td>\n",
       "    </tr>\n",
       "    <tr>\n",
       "      <td>1</td>\n",
       "      <td>7.0</td>\n",
       "      <td>5.0</td>\n",
       "      <td>13.0</td>\n",
       "    </tr>\n",
       "    <tr>\n",
       "      <td>2</td>\n",
       "      <td>13.0</td>\n",
       "      <td>10.0</td>\n",
       "      <td>5.0</td>\n",
       "    </tr>\n",
       "    <tr>\n",
       "      <td>3</td>\n",
       "      <td>4.0</td>\n",
       "      <td>11.0</td>\n",
       "      <td>9.0</td>\n",
       "    </tr>\n",
       "    <tr>\n",
       "      <td>4</td>\n",
       "      <td>10.0</td>\n",
       "      <td>4.0</td>\n",
       "      <td>12.0</td>\n",
       "    </tr>\n",
       "    <tr>\n",
       "      <td>...</td>\n",
       "      <td>...</td>\n",
       "      <td>...</td>\n",
       "      <td>...</td>\n",
       "    </tr>\n",
       "    <tr>\n",
       "      <td>995</td>\n",
       "      <td>NaN</td>\n",
       "      <td>NaN</td>\n",
       "      <td>NaN</td>\n",
       "    </tr>\n",
       "    <tr>\n",
       "      <td>996</td>\n",
       "      <td>NaN</td>\n",
       "      <td>NaN</td>\n",
       "      <td>NaN</td>\n",
       "    </tr>\n",
       "    <tr>\n",
       "      <td>997</td>\n",
       "      <td>NaN</td>\n",
       "      <td>NaN</td>\n",
       "      <td>NaN</td>\n",
       "    </tr>\n",
       "    <tr>\n",
       "      <td>998</td>\n",
       "      <td>NaN</td>\n",
       "      <td>NaN</td>\n",
       "      <td>NaN</td>\n",
       "    </tr>\n",
       "    <tr>\n",
       "      <td>999</td>\n",
       "      <td>NaN</td>\n",
       "      <td>NaN</td>\n",
       "      <td>NaN</td>\n",
       "    </tr>\n",
       "  </tbody>\n",
       "</table>\n",
       "<p>1000 rows × 3 columns</p>\n",
       "</div>"
      ],
      "text/plain": [
       "     col1  col2  col3\n",
       "0     9.0   7.0   4.0\n",
       "1     7.0   5.0  13.0\n",
       "2    13.0  10.0   5.0\n",
       "3     4.0  11.0   9.0\n",
       "4    10.0   4.0  12.0\n",
       "..    ...   ...   ...\n",
       "995   NaN   NaN   NaN\n",
       "996   NaN   NaN   NaN\n",
       "997   NaN   NaN   NaN\n",
       "998   NaN   NaN   NaN\n",
       "999   NaN   NaN   NaN\n",
       "\n",
       "[1000 rows x 3 columns]"
      ]
     },
     "execution_count": 144,
     "metadata": {},
     "output_type": "execute_result"
    }
   ],
   "source": [
    "# Nanも入れておく\n",
    "a.append(np.nan)\n",
    "a.append(np.nan)\n",
    "a.append(np.nan)\n",
    "a.append(np.nan)\n",
    "a.append(np.nan)\n",
    "\n",
    "b.append(np.nan)\n",
    "b.append(np.nan)\n",
    "b.append(np.nan)\n",
    "b.append(np.nan)\n",
    "b.append(np.nan)\n",
    "\n",
    "c.append(np.nan)\n",
    "c.append(np.nan)\n",
    "c.append(np.nan)\n",
    "c.append(np.nan)\n",
    "c.append(np.nan)\n",
    "\n",
    "df = pd.DataFrame({\"col1\":a,\n",
    "                   \"col2\":b,\n",
    "                   \"col3\":c},)\n",
    "\n",
    "df"
   ]
  },
  {
   "cell_type": "code",
   "execution_count": 145,
   "metadata": {},
   "outputs": [
    {
     "data": {
      "text/plain": [
       "7.0     8.1\n",
       "14.0    7.7\n",
       "15.0    7.7\n",
       "5.0     7.4\n",
       "8.0     7.1\n",
       "3.0     7.0\n",
       "2.0     6.4\n",
       "6.0     6.4\n",
       "1.0     6.3\n",
       "4.0     6.2\n",
       "13.0    6.2\n",
       "9.0     6.1\n",
       "12.0    6.0\n",
       "10.0    5.7\n",
       "11.0    5.2\n",
       "NaN     0.5\n",
       "Name: col1, dtype: float64"
      ]
     },
     "execution_count": 145,
     "metadata": {},
     "output_type": "execute_result"
    }
   ],
   "source": [
    "df[\"col1\"].value_counts(dropna=False,normalize =True) * 100"
   ]
  },
  {
   "cell_type": "code",
   "execution_count": 146,
   "metadata": {},
   "outputs": [],
   "source": [
    "# 数字だとわかりにくいので文字にしておく\n",
    "df[\"col1\"] = df[\"col1\"].mask(df[\"col1\"]==1,  \"A\" )\n",
    "df[\"col1\"] = df[\"col1\"].mask(df[\"col1\"]==2,  \"B\" )\n",
    "df[\"col1\"] = df[\"col1\"].mask(df[\"col1\"]==3,  \"C\" )\n",
    "df[\"col1\"] = df[\"col1\"].mask(df[\"col1\"]==4,  \"D\" )\n",
    "df[\"col1\"] = df[\"col1\"].mask(df[\"col1\"]==5,  \"E\" )\n",
    "df[\"col1\"] = df[\"col1\"].mask(df[\"col1\"]==6,  \"F\" )\n",
    "df[\"col1\"] = df[\"col1\"].mask(df[\"col1\"]==7,  \"G\" )\n",
    "df[\"col1\"] = df[\"col1\"].mask(df[\"col1\"]==8,  \"H\" )\n",
    "df[\"col1\"] = df[\"col1\"].mask(df[\"col1\"]==9,  \"I\" )\n",
    "df[\"col1\"] = df[\"col1\"].mask(df[\"col1\"]==10, \"J\" )\n",
    "df[\"col1\"] = df[\"col1\"].mask(df[\"col1\"]==11, \"K\" )\n",
    "df[\"col1\"] = df[\"col1\"].mask(df[\"col1\"]==12, \"L\" )\n",
    "df[\"col1\"] = df[\"col1\"].mask(df[\"col1\"]==13, \"M\" )\n",
    "df[\"col1\"] = df[\"col1\"].mask(df[\"col1\"]==14, \"N\" )\n",
    "df[\"col1\"] = df[\"col1\"].mask(df[\"col1\"]==15, \"O\" )\n",
    "df[\"col2\"] = df[\"col2\"].mask(df[\"col2\"]==1,  \"A\" )\n",
    "df[\"col2\"] = df[\"col2\"].mask(df[\"col2\"]==2,  \"B\" )\n",
    "df[\"col2\"] = df[\"col2\"].mask(df[\"col2\"]==3,  \"C\" )\n",
    "df[\"col2\"] = df[\"col2\"].mask(df[\"col2\"]==4,  \"D\" )\n",
    "df[\"col2\"] = df[\"col2\"].mask(df[\"col2\"]==5,  \"E\" )\n",
    "df[\"col2\"] = df[\"col2\"].mask(df[\"col2\"]==6,  \"F\" )\n",
    "df[\"col2\"] = df[\"col2\"].mask(df[\"col2\"]==7,  \"G\" )\n",
    "df[\"col2\"] = df[\"col2\"].mask(df[\"col2\"]==8,  \"H\" )\n",
    "df[\"col2\"] = df[\"col2\"].mask(df[\"col2\"]==9,  \"I\" )\n",
    "df[\"col2\"] = df[\"col2\"].mask(df[\"col2\"]==10, \"J\" )\n",
    "df[\"col2\"] = df[\"col2\"].mask(df[\"col2\"]==11, \"K\" )\n",
    "df[\"col2\"] = df[\"col2\"].mask(df[\"col2\"]==12, \"L\" )\n",
    "df[\"col2\"] = df[\"col2\"].mask(df[\"col2\"]==13, \"M\" )\n",
    "df[\"col2\"] = df[\"col2\"].mask(df[\"col2\"]==14, \"N\" )\n",
    "df[\"col2\"] = df[\"col2\"].mask(df[\"col2\"]==15, \"O\" )\n",
    "df[\"col3\"] = df[\"col3\"].mask(df[\"col3\"]==1,  \"A\" )\n",
    "df[\"col3\"] = df[\"col3\"].mask(df[\"col3\"]==2,  \"B\" )\n",
    "df[\"col3\"] = df[\"col3\"].mask(df[\"col3\"]==3,  \"C\" )\n",
    "df[\"col3\"] = df[\"col3\"].mask(df[\"col3\"]==4,  \"D\" )\n",
    "df[\"col3\"] = df[\"col3\"].mask(df[\"col3\"]==5,  \"E\" )\n",
    "df[\"col3\"] = df[\"col3\"].mask(df[\"col3\"]==6,  \"F\" )\n",
    "df[\"col3\"] = df[\"col3\"].mask(df[\"col3\"]==7,  \"G\" )\n",
    "df[\"col3\"] = df[\"col3\"].mask(df[\"col3\"]==8,  \"H\" )\n",
    "df[\"col3\"] = df[\"col3\"].mask(df[\"col3\"]==9,  \"I\" )\n",
    "df[\"col3\"] = df[\"col3\"].mask(df[\"col3\"]==10, \"J\" )\n",
    "df[\"col3\"] = df[\"col3\"].mask(df[\"col3\"]==11, \"K\" )\n",
    "df[\"col3\"] = df[\"col3\"].mask(df[\"col3\"]==12, \"L\" )\n",
    "df[\"col3\"] = df[\"col3\"].mask(df[\"col3\"]==13, \"M\" )\n",
    "df[\"col3\"] = df[\"col3\"].mask(df[\"col3\"]==14, \"N\" )\n",
    "df[\"col3\"] = df[\"col3\"].mask(df[\"col3\"]==15, \"O\" )"
   ]
  },
  {
   "cell_type": "markdown",
   "metadata": {},
   "source": [
    "-----\n",
    "ココから"
   ]
  },
  {
   "cell_type": "code",
   "execution_count": 147,
   "metadata": {},
   "outputs": [
    {
     "data": {
      "text/plain": [
       "G      8.1\n",
       "O      7.7\n",
       "N      7.7\n",
       "E      7.4\n",
       "H      7.1\n",
       "C      7.0\n",
       "F      6.4\n",
       "B      6.4\n",
       "A      6.3\n",
       "D      6.2\n",
       "M      6.2\n",
       "I      6.1\n",
       "L      6.0\n",
       "J      5.7\n",
       "K      5.2\n",
       "NaN    0.5\n",
       "Name: col1, dtype: float64"
      ]
     },
     "execution_count": 147,
     "metadata": {},
     "output_type": "execute_result"
    }
   ],
   "source": [
    "# NanもありのCategoricalなカラム\n",
    "# カテゴリエンコーディングするために、下位〇%以下をグルーピングしたい\n",
    "# ココでは6%以下のをグルーピングしたいとする\n",
    "df[\"col1\"].value_counts(dropna=False,normalize =True) * 100"
   ]
  },
  {
   "cell_type": "code",
   "execution_count": 148,
   "metadata": {},
   "outputs": [
    {
     "data": {
      "text/plain": [
       "G       8.1\n",
       "O       7.7\n",
       "N       7.7\n",
       "E       7.4\n",
       "H       7.1\n",
       "C       7.0\n",
       "F       6.4\n",
       "B       6.4\n",
       "A       6.3\n",
       "D       6.2\n",
       "M       6.2\n",
       "I       6.1\n",
       "L       6.0\n",
       "J       5.7\n",
       "K       5.2\n",
       "Null    0.5\n",
       "Name: col1, dtype: float64"
      ]
     },
     "execution_count": 148,
     "metadata": {},
     "output_type": "execute_result"
    }
   ],
   "source": [
    "# まずNanは扱い煩雑になるのが嫌なので文字にする\n",
    "df[\"col1\"] = df[\"col1\"].fillna(\"Null\")\n",
    "df[\"col1\"].value_counts(dropna=False,normalize =True) * 100"
   ]
  },
  {
   "cell_type": "code",
   "execution_count": 149,
   "metadata": {},
   "outputs": [
    {
     "data": {
      "text/plain": [
       "['J', 'K', 'Null']"
      ]
     },
     "execution_count": 149,
     "metadata": {},
     "output_type": "execute_result"
    }
   ],
   "source": [
    "# 下位６％のもの\n",
    "tmp = df[\"col1\"].value_counts(dropna=False,normalize =True) * 100\n",
    "lowerList = list(tmp[tmp < 6].index)\n",
    "lowerList"
   ]
  },
  {
   "cell_type": "code",
   "execution_count": 151,
   "metadata": {},
   "outputs": [],
   "source": [
    "for alow in lowerList:\n",
    "    df[\"col1\"] = df[\"col1\"].mask( df[\"col1\"] == alow, \"ZZZ\")"
   ]
  },
  {
   "cell_type": "code",
   "execution_count": 152,
   "metadata": {},
   "outputs": [
    {
     "data": {
      "text/plain": [
       "ZZZ    11.4\n",
       "G       8.1\n",
       "O       7.7\n",
       "N       7.7\n",
       "E       7.4\n",
       "H       7.1\n",
       "C       7.0\n",
       "F       6.4\n",
       "B       6.4\n",
       "A       6.3\n",
       "D       6.2\n",
       "M       6.2\n",
       "I       6.1\n",
       "L       6.0\n",
       "Name: col1, dtype: float64"
      ]
     },
     "execution_count": 152,
     "metadata": {},
     "output_type": "execute_result"
    }
   ],
   "source": [
    "df[\"col1\"].value_counts(dropna=False,normalize =True) * 100"
   ]
  },
  {
   "cell_type": "code",
   "execution_count": 153,
   "metadata": {},
   "outputs": [],
   "source": [
    "# グルーピングできた\n",
    "# 処理前とチェックしてもあっている。"
   ]
  },
  {
   "cell_type": "markdown",
   "metadata": {},
   "source": [
    "-----\n",
    "まとめてやってみる"
   ]
  },
  {
   "cell_type": "code",
   "execution_count": 157,
   "metadata": {},
   "outputs": [
    {
     "data": {
      "text/plain": [
       "A      8.8\n",
       "D      7.5\n",
       "O      7.4\n",
       "B      7.2\n",
       "G      6.8\n",
       "J      6.8\n",
       "E      6.8\n",
       "K      6.4\n",
       "I      6.4\n",
       "N      6.3\n",
       "M      6.0\n",
       "F      5.9\n",
       "L      5.9\n",
       "H      5.7\n",
       "C      5.6\n",
       "NaN    0.5\n",
       "Name: col2, dtype: float64"
      ]
     },
     "metadata": {},
     "output_type": "display_data"
    },
    {
     "data": {
      "text/plain": [
       "I      8.1\n",
       "H      7.8\n",
       "M      7.7\n",
       "K      7.5\n",
       "C      7.4\n",
       "G      7.0\n",
       "J      6.9\n",
       "A      6.6\n",
       "O      6.5\n",
       "D      6.4\n",
       "F      6.1\n",
       "N      5.9\n",
       "E      5.7\n",
       "B      5.1\n",
       "L      4.8\n",
       "NaN    0.5\n",
       "Name: col3, dtype: float64"
      ]
     },
     "metadata": {},
     "output_type": "display_data"
    }
   ],
   "source": [
    "# 処理前\n",
    "display(df[\"col2\"].value_counts(dropna=False, normalize=True)*100)\n",
    "display(df[\"col3\"].value_counts(dropna=False, normalize=True)*100)"
   ]
  },
  {
   "cell_type": "code",
   "execution_count": 158,
   "metadata": {},
   "outputs": [],
   "source": [
    "# グルーピングする基準％\n",
    "p = 6\n",
    "# グルーピングするカラム\n",
    "cols = [\"col2\",\"col3\"]\n",
    "\n",
    "for col in cols:\n",
    "    # まずNanは扱い煩雑になるのが嫌なので文字にする\n",
    "    df[col] = df[col].fillna(\"Null\")\n",
    "    \n",
    "    # 下位６％のもの\n",
    "    tmp = df[col].value_counts(dropna=False,normalize =True) * 100\n",
    "    lowerList = list(tmp[tmp < p].index)\n",
    "    \n",
    "    for alow in lowerList:\n",
    "        df[col] = df[col].mask( df[col] == alow, \"ZZZ\")"
   ]
  },
  {
   "cell_type": "code",
   "execution_count": 159,
   "metadata": {},
   "outputs": [
    {
     "data": {
      "text/plain": [
       "ZZZ    23.6\n",
       "A       8.8\n",
       "D       7.5\n",
       "O       7.4\n",
       "B       7.2\n",
       "G       6.8\n",
       "J       6.8\n",
       "E       6.8\n",
       "K       6.4\n",
       "I       6.4\n",
       "N       6.3\n",
       "M       6.0\n",
       "Name: col2, dtype: float64"
      ]
     },
     "metadata": {},
     "output_type": "display_data"
    },
    {
     "data": {
      "text/plain": [
       "ZZZ    22.0\n",
       "I       8.1\n",
       "H       7.8\n",
       "M       7.7\n",
       "K       7.5\n",
       "C       7.4\n",
       "G       7.0\n",
       "J       6.9\n",
       "A       6.6\n",
       "O       6.5\n",
       "D       6.4\n",
       "F       6.1\n",
       "Name: col3, dtype: float64"
      ]
     },
     "metadata": {},
     "output_type": "display_data"
    }
   ],
   "source": [
    "# 処理後\n",
    "display(df[\"col2\"].value_counts(dropna=False, normalize=True)*100)\n",
    "display(df[\"col3\"].value_counts(dropna=False, normalize=True)*100)"
   ]
  },
  {
   "cell_type": "code",
   "execution_count": null,
   "metadata": {},
   "outputs": [],
   "source": []
  }
 ],
 "metadata": {
  "kernelspec": {
   "display_name": "Python 3",
   "language": "python",
   "name": "python3"
  },
  "language_info": {
   "codemirror_mode": {
    "name": "ipython",
    "version": 3
   },
   "file_extension": ".py",
   "mimetype": "text/x-python",
   "name": "python",
   "nbconvert_exporter": "python",
   "pygments_lexer": "ipython3",
   "version": "3.6.5"
  }
 },
 "nbformat": 4,
 "nbformat_minor": 4
}
