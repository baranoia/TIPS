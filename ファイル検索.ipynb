{
 "cells": [
  {
   "cell_type": "code",
   "execution_count": 1,
   "metadata": {},
   "outputs": [],
   "source": [
    "import os.path"
   ]
  },
  {
   "cell_type": "code",
   "execution_count": 2,
   "metadata": {},
   "outputs": [
    {
     "ename": "SyntaxError",
     "evalue": "invalid character in identifier (<ipython-input-2-cd2c96c1039f>, line 1)",
     "output_type": "error",
     "traceback": [
      "\u001b[1;36m  File \u001b[1;32m\"<ipython-input-2-cd2c96c1039f>\"\u001b[1;36m, line \u001b[1;32m1\u001b[0m\n\u001b[1;33m    ・ファイルパスの組立<os.path>\u001b[0m\n\u001b[1;37m             ^\u001b[0m\n\u001b[1;31mSyntaxError\u001b[0m\u001b[1;31m:\u001b[0m invalid character in identifier\n"
     ]
    }
   ],
   "source": [
    "・ファイルパスの組立<os.path>\n",
    "os.path.join(‘ディレクトリ’,ファイル名)\n",
    "\n",
    "・ファイル存在確認<os.path>\n",
    "os.path.exists(‘パス’) →TRUE/FALSE\n",
    "\n",
    "・ファイルかどうか<os.path>\n",
    "os.path.isfile(‘パス’)\n",
    "\n",
    "・ディレクトリかどうか<os.path>\n",
    "os.path.isdir(‘パス’)\n",
    "\n",
    "・パスの直下のフォルダやファイルのリスト<os>\n",
    "os.listdir(‘パス’)\n",
    "\n",
    "・パスの下のサブディレクトリの中味も含むモノのリスト<os>\n",
    "os.walk(‘パス’)\n",
    "→\n",
    "ジェネレータ<class 'generator'>で返る、イテレータの一種？リストみたいにループできる\n",
    "イテレータの中味はタプル(ルート、[配下のディレクトリ群]、[配下のファイル群])。\n",
    "1つ目のタプルは、指定したパスをルートとした構成\n",
    "2つ目のタプルは、指定したパス直下にあったディレクトリをルートとした構成。\n",
    "…\n",
    "↓こんな感じ\n",
    "１つ目('input', ['a', 'b', 'c'], ['x.txt', 'y.txt', 'z.txt'])\n",
    "２つ目('input/a', [], ['a_x.txt', 'a_y.txt'])\n",
    "３つ目('input/b', [], ['b_y.txt', 'b_z.txt'])\n",
    "４つ目('input/c', [], ['c_z.txt'])\n",
    "↓これで回せる\n",
    "for root,dirs,files in os.walk(‘xx’)"
   ]
  },
  {
   "cell_type": "code",
   "execution_count": 15,
   "metadata": {},
   "outputs": [
    {
     "name": "stdout",
     "output_type": "stream",
     "text": [
      "DataFrame同士の比較.ipynb\n",
      "Untitled.ipynb\n",
      "日付から年齢を計算する.ipynb\n"
     ]
    }
   ],
   "source": [
    "for file in os.listdir(\"./お試し\"):\n",
    "    if file.endswith(\".ipynb\"): \n",
    "        print( file )\n",
    "        # ここでメソッド呼び出すか"
   ]
  },
  {
   "cell_type": "code",
   "execution_count": null,
   "metadata": {},
   "outputs": [],
   "source": []
  }
 ],
 "metadata": {
  "kernelspec": {
   "display_name": "Python 3",
   "language": "python",
   "name": "python3"
  },
  "language_info": {
   "codemirror_mode": {
    "name": "ipython",
    "version": 3
   },
   "file_extension": ".py",
   "mimetype": "text/x-python",
   "name": "python",
   "nbconvert_exporter": "python",
   "pygments_lexer": "ipython3",
   "version": "3.7.3"
  }
 },
 "nbformat": 4,
 "nbformat_minor": 4
}
