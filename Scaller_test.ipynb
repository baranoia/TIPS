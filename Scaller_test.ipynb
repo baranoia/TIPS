{
 "cells": [
  {
   "cell_type": "code",
   "execution_count": 1,
   "metadata": {},
   "outputs": [],
   "source": [
    "import pandas as pd\n",
    "import numpy as np\n",
    "np.set_printoptions(suppress=True)\n",
    "import matplotlib.pyplot as plt\n",
    "import seaborn as sns"
   ]
  },
  {
   "cell_type": "markdown",
   "metadata": {},
   "source": [
    "# 各種スケーリングのテスト"
   ]
  },
  {
   "cell_type": "code",
   "execution_count": 2,
   "metadata": {},
   "outputs": [],
   "source": [
    "x = lambda x, : x\n",
    "y = lambda x, : x * 100"
   ]
  },
  {
   "cell_type": "code",
   "execution_count": 3,
   "metadata": {},
   "outputs": [],
   "source": [
    "import random\n",
    "\n",
    "list_X = []\n",
    "list_Y = []\n",
    "\n",
    "random.seed = 0\n",
    "make_Y = lambda i, : 2 * i + round(random.random() * 30, 1)\n",
    "\n",
    "for i in range(1,1000):\n",
    "    list_X.append(i)\n",
    "    list_Y.append(make_Y(i))"
   ]
  },
  {
   "cell_type": "code",
   "execution_count": 4,
   "metadata": {},
   "outputs": [],
   "source": [
    "df1 = pd.DataFrame()\n",
    "df1[\"x\"] = list_X\n",
    "df1[\"y\"] = list_Y"
   ]
  },
  {
   "cell_type": "code",
   "execution_count": 5,
   "metadata": {},
   "outputs": [
    {
     "data": {
      "text/html": [
       "<div>\n",
       "<style scoped>\n",
       "    .dataframe tbody tr th:only-of-type {\n",
       "        vertical-align: middle;\n",
       "    }\n",
       "\n",
       "    .dataframe tbody tr th {\n",
       "        vertical-align: top;\n",
       "    }\n",
       "\n",
       "    .dataframe thead th {\n",
       "        text-align: right;\n",
       "    }\n",
       "</style>\n",
       "<table border=\"1\" class=\"dataframe\">\n",
       "  <thead>\n",
       "    <tr style=\"text-align: right;\">\n",
       "      <th></th>\n",
       "      <th>count</th>\n",
       "      <th>mean</th>\n",
       "      <th>std</th>\n",
       "      <th>min</th>\n",
       "      <th>25%</th>\n",
       "      <th>50%</th>\n",
       "      <th>75%</th>\n",
       "      <th>max</th>\n",
       "    </tr>\n",
       "  </thead>\n",
       "  <tbody>\n",
       "    <tr>\n",
       "      <td>x</td>\n",
       "      <td>999.0</td>\n",
       "      <td>500.000000</td>\n",
       "      <td>288.530761</td>\n",
       "      <td>1.0</td>\n",
       "      <td>250.5</td>\n",
       "      <td>500.0</td>\n",
       "      <td>749.50</td>\n",
       "      <td>999.0</td>\n",
       "    </tr>\n",
       "    <tr>\n",
       "      <td>y</td>\n",
       "      <td>999.0</td>\n",
       "      <td>1015.512813</td>\n",
       "      <td>576.953291</td>\n",
       "      <td>16.8</td>\n",
       "      <td>515.9</td>\n",
       "      <td>1016.2</td>\n",
       "      <td>1512.55</td>\n",
       "      <td>2020.0</td>\n",
       "    </tr>\n",
       "  </tbody>\n",
       "</table>\n",
       "</div>"
      ],
      "text/plain": [
       "   count         mean         std   min    25%     50%      75%     max\n",
       "x  999.0   500.000000  288.530761   1.0  250.5   500.0   749.50   999.0\n",
       "y  999.0  1015.512813  576.953291  16.8  515.9  1016.2  1512.55  2020.0"
      ]
     },
     "execution_count": 5,
     "metadata": {},
     "output_type": "execute_result"
    }
   ],
   "source": [
    "df1.describe().T"
   ]
  },
  {
   "cell_type": "code",
   "execution_count": 6,
   "metadata": {},
   "outputs": [
    {
     "data": {
      "text/html": [
       "<div>\n",
       "<style scoped>\n",
       "    .dataframe tbody tr th:only-of-type {\n",
       "        vertical-align: middle;\n",
       "    }\n",
       "\n",
       "    .dataframe tbody tr th {\n",
       "        vertical-align: top;\n",
       "    }\n",
       "\n",
       "    .dataframe thead th {\n",
       "        text-align: right;\n",
       "    }\n",
       "</style>\n",
       "<table border=\"1\" class=\"dataframe\">\n",
       "  <thead>\n",
       "    <tr style=\"text-align: right;\">\n",
       "      <th></th>\n",
       "      <th>count</th>\n",
       "      <th>mean</th>\n",
       "      <th>std</th>\n",
       "      <th>min</th>\n",
       "      <th>25%</th>\n",
       "      <th>50%</th>\n",
       "      <th>75%</th>\n",
       "      <th>max</th>\n",
       "    </tr>\n",
       "  </thead>\n",
       "  <tbody>\n",
       "    <tr>\n",
       "      <td>x</td>\n",
       "      <td>999.0</td>\n",
       "      <td>500.0000</td>\n",
       "      <td>288.530761</td>\n",
       "      <td>1.0</td>\n",
       "      <td>250.5</td>\n",
       "      <td>500.0</td>\n",
       "      <td>749.5</td>\n",
       "      <td>999.0</td>\n",
       "    </tr>\n",
       "    <tr>\n",
       "      <td>y</td>\n",
       "      <td>999.0</td>\n",
       "      <td>1024.4997</td>\n",
       "      <td>643.177260</td>\n",
       "      <td>16.8</td>\n",
       "      <td>515.9</td>\n",
       "      <td>1016.2</td>\n",
       "      <td>1513.5</td>\n",
       "      <td>10000.0</td>\n",
       "    </tr>\n",
       "  </tbody>\n",
       "</table>\n",
       "</div>"
      ],
      "text/plain": [
       "   count       mean         std   min    25%     50%     75%      max\n",
       "x  999.0   500.0000  288.530761   1.0  250.5   500.0   749.5    999.0\n",
       "y  999.0  1024.4997  643.177260  16.8  515.9  1016.2  1513.5  10000.0"
      ]
     },
     "execution_count": 6,
     "metadata": {},
     "output_type": "execute_result"
    }
   ],
   "source": [
    "# df2 は、df1に外れ値を追加した\n",
    "df2 = df1.copy()\n",
    "df2.loc[500, \"y\"] = 10000\n",
    "df2.describe().T"
   ]
  },
  {
   "cell_type": "code",
   "execution_count": 7,
   "metadata": {},
   "outputs": [
    {
     "data": {
      "text/plain": [
       "<matplotlib.axes._subplots.AxesSubplot at 0x1dd39deb240>"
      ]
     },
     "execution_count": 7,
     "metadata": {},
     "output_type": "execute_result"
    },
    {
     "data": {
      "image/png": "[encoded data removed]",
      "text/plain": [
       "<Figure size 432x288 with 2 Axes>"
      ]
     },
     "metadata": {
      "needs_background": "light"
     },
     "output_type": "display_data"
    }
   ],
   "source": [
    "#\n",
    "fig, axes = plt.subplots(ncols=2)\n",
    "sns.lineplot(x=df1[\"x\"], y =df1[\"y\"], ax = axes[0])\n",
    "sns.lineplot(x=df2[\"x\"], y =df2[\"y\"], ax = axes[1])"
   ]
  },
  {
   "cell_type": "code",
   "execution_count": null,
   "metadata": {},
   "outputs": [],
   "source": []
  },
  {
   "cell_type": "markdown",
   "metadata": {},
   "source": [
    "# ★MinMaxScaller\n",
    "0～1にする"
   ]
  },
  {
   "cell_type": "code",
   "execution_count": 8,
   "metadata": {},
   "outputs": [],
   "source": [
    "from sklearn.preprocessing import MinMaxScaler\n",
    "mms = MinMaxScaler()"
   ]
  },
  {
   "cell_type": "code",
   "execution_count": 9,
   "metadata": {},
   "outputs": [
    {
     "data": {
      "text/html": [
       "<div>\n",
       "<style scoped>\n",
       "    .dataframe tbody tr th:only-of-type {\n",
       "        vertical-align: middle;\n",
       "    }\n",
       "\n",
       "    .dataframe tbody tr th {\n",
       "        vertical-align: top;\n",
       "    }\n",
       "\n",
       "    .dataframe thead th {\n",
       "        text-align: right;\n",
       "    }\n",
       "</style>\n",
       "<table border=\"1\" class=\"dataframe\">\n",
       "  <thead>\n",
       "    <tr style=\"text-align: right;\">\n",
       "      <th></th>\n",
       "      <th>count</th>\n",
       "      <th>mean</th>\n",
       "      <th>std</th>\n",
       "      <th>min</th>\n",
       "      <th>25%</th>\n",
       "      <th>50%</th>\n",
       "      <th>75%</th>\n",
       "      <th>max</th>\n",
       "    </tr>\n",
       "  </thead>\n",
       "  <tbody>\n",
       "    <tr>\n",
       "      <td>x</td>\n",
       "      <td>999.0</td>\n",
       "      <td>0.500000</td>\n",
       "      <td>0.289109</td>\n",
       "      <td>0.0</td>\n",
       "      <td>0.250000</td>\n",
       "      <td>0.500000</td>\n",
       "      <td>0.75000</td>\n",
       "      <td>1.0</td>\n",
       "    </tr>\n",
       "    <tr>\n",
       "      <td>y</td>\n",
       "      <td>999.0</td>\n",
       "      <td>0.498559</td>\n",
       "      <td>0.288016</td>\n",
       "      <td>0.0</td>\n",
       "      <td>0.249151</td>\n",
       "      <td>0.498902</td>\n",
       "      <td>0.74668</td>\n",
       "      <td>1.0</td>\n",
       "    </tr>\n",
       "  </tbody>\n",
       "</table>\n",
       "</div>"
      ],
      "text/plain": [
       "   count      mean       std  min       25%       50%      75%  max\n",
       "x  999.0  0.500000  0.289109  0.0  0.250000  0.500000  0.75000  1.0\n",
       "y  999.0  0.498559  0.288016  0.0  0.249151  0.498902  0.74668  1.0"
      ]
     },
     "execution_count": 9,
     "metadata": {},
     "output_type": "execute_result"
    }
   ],
   "source": [
    "mms_df1 = pd.DataFrame(mms.fit_transform(df1))\n",
    "mms_df1.columns = df1.columns\n",
    "mms_df1.describe().T\n",
    "# y：0～1の範囲に収まっている"
   ]
  },
  {
   "cell_type": "code",
   "execution_count": 10,
   "metadata": {},
   "outputs": [
    {
     "data": {
      "text/html": [
       "<div>\n",
       "<style scoped>\n",
       "    .dataframe tbody tr th:only-of-type {\n",
       "        vertical-align: middle;\n",
       "    }\n",
       "\n",
       "    .dataframe tbody tr th {\n",
       "        vertical-align: top;\n",
       "    }\n",
       "\n",
       "    .dataframe thead th {\n",
       "        text-align: right;\n",
       "    }\n",
       "</style>\n",
       "<table border=\"1\" class=\"dataframe\">\n",
       "  <thead>\n",
       "    <tr style=\"text-align: right;\">\n",
       "      <th></th>\n",
       "      <th>count</th>\n",
       "      <th>mean</th>\n",
       "      <th>std</th>\n",
       "      <th>min</th>\n",
       "      <th>25%</th>\n",
       "      <th>50%</th>\n",
       "      <th>75%</th>\n",
       "      <th>max</th>\n",
       "    </tr>\n",
       "  </thead>\n",
       "  <tbody>\n",
       "    <tr>\n",
       "      <td>x</td>\n",
       "      <td>999.0</td>\n",
       "      <td>0.50000</td>\n",
       "      <td>0.289109</td>\n",
       "      <td>0.0</td>\n",
       "      <td>0.250000</td>\n",
       "      <td>0.500000</td>\n",
       "      <td>0.750000</td>\n",
       "      <td>1.0</td>\n",
       "    </tr>\n",
       "    <tr>\n",
       "      <td>y</td>\n",
       "      <td>999.0</td>\n",
       "      <td>0.10094</td>\n",
       "      <td>0.064426</td>\n",
       "      <td>0.0</td>\n",
       "      <td>0.049994</td>\n",
       "      <td>0.100108</td>\n",
       "      <td>0.149922</td>\n",
       "      <td>1.0</td>\n",
       "    </tr>\n",
       "  </tbody>\n",
       "</table>\n",
       "</div>"
      ],
      "text/plain": [
       "   count     mean       std  min       25%       50%       75%  max\n",
       "x  999.0  0.50000  0.289109  0.0  0.250000  0.500000  0.750000  1.0\n",
       "y  999.0  0.10094  0.064426  0.0  0.049994  0.100108  0.149922  1.0"
      ]
     },
     "execution_count": 10,
     "metadata": {},
     "output_type": "execute_result"
    }
   ],
   "source": [
    "mms_df2 = pd.DataFrame(mms.fit_transform(df2))\n",
    "mms_df2.columns = df2.columns\n",
    "mms_df2.describe().T\n",
    "# y：0～1の範囲に収まっているけど、ハズレ値である1000に引きずられてしまっている"
   ]
  },
  {
   "cell_type": "markdown",
   "metadata": {},
   "source": [
    "### ハズレ値が混じってるとそれに引きずられる！"
   ]
  },
  {
   "cell_type": "code",
   "execution_count": null,
   "metadata": {},
   "outputs": [],
   "source": []
  },
  {
   "cell_type": "code",
   "execution_count": null,
   "metadata": {},
   "outputs": [],
   "source": []
  },
  {
   "cell_type": "markdown",
   "metadata": {},
   "source": [
    "# ★Standard Scaller\n",
    "標準化（平均0, 分散1）にする"
   ]
  },
  {
   "cell_type": "code",
   "execution_count": 11,
   "metadata": {},
   "outputs": [],
   "source": [
    "from sklearn.preprocessing import StandardScaler\n",
    "sts = StandardScaler()"
   ]
  },
  {
   "cell_type": "code",
   "execution_count": 12,
   "metadata": {},
   "outputs": [
    {
     "data": {
      "text/html": [
       "<div>\n",
       "<style scoped>\n",
       "    .dataframe tbody tr th:only-of-type {\n",
       "        vertical-align: middle;\n",
       "    }\n",
       "\n",
       "    .dataframe tbody tr th {\n",
       "        vertical-align: top;\n",
       "    }\n",
       "\n",
       "    .dataframe thead th {\n",
       "        text-align: right;\n",
       "    }\n",
       "</style>\n",
       "<table border=\"1\" class=\"dataframe\">\n",
       "  <thead>\n",
       "    <tr style=\"text-align: right;\">\n",
       "      <th></th>\n",
       "      <th>count</th>\n",
       "      <th>mean</th>\n",
       "      <th>std</th>\n",
       "      <th>min</th>\n",
       "      <th>25%</th>\n",
       "      <th>50%</th>\n",
       "      <th>75%</th>\n",
       "      <th>max</th>\n",
       "    </tr>\n",
       "  </thead>\n",
       "  <tbody>\n",
       "    <tr>\n",
       "      <td>x</td>\n",
       "      <td>999.0</td>\n",
       "      <td>0.000000e+00</td>\n",
       "      <td>1.000501</td>\n",
       "      <td>-1.730318</td>\n",
       "      <td>-0.865159</td>\n",
       "      <td>0.000000</td>\n",
       "      <td>0.865159</td>\n",
       "      <td>1.730318</td>\n",
       "    </tr>\n",
       "    <tr>\n",
       "      <td>y</td>\n",
       "      <td>999.0</td>\n",
       "      <td>-2.845016e-16</td>\n",
       "      <td>1.000501</td>\n",
       "      <td>-1.731879</td>\n",
       "      <td>-0.866384</td>\n",
       "      <td>0.001192</td>\n",
       "      <td>0.861918</td>\n",
       "      <td>1.741892</td>\n",
       "    </tr>\n",
       "  </tbody>\n",
       "</table>\n",
       "</div>"
      ],
      "text/plain": [
       "   count          mean       std       min       25%       50%       75%  \\\n",
       "x  999.0  0.000000e+00  1.000501 -1.730318 -0.865159  0.000000  0.865159   \n",
       "y  999.0 -2.845016e-16  1.000501 -1.731879 -0.866384  0.001192  0.861918   \n",
       "\n",
       "        max  \n",
       "x  1.730318  \n",
       "y  1.741892  "
      ]
     },
     "execution_count": 12,
     "metadata": {},
     "output_type": "execute_result"
    }
   ],
   "source": [
    "sts_df1 = pd.DataFrame(sts.fit_transform(df1))\n",
    "sts_df1.columns = df1.columns\n",
    "sts_df1.describe().T"
   ]
  },
  {
   "cell_type": "code",
   "execution_count": 30,
   "metadata": {},
   "outputs": [
    {
     "data": {
      "text/html": [
       "<div>\n",
       "<style scoped>\n",
       "    .dataframe tbody tr th:only-of-type {\n",
       "        vertical-align: middle;\n",
       "    }\n",
       "\n",
       "    .dataframe tbody tr th {\n",
       "        vertical-align: top;\n",
       "    }\n",
       "\n",
       "    .dataframe thead th {\n",
       "        text-align: right;\n",
       "    }\n",
       "</style>\n",
       "<table border=\"1\" class=\"dataframe\">\n",
       "  <thead>\n",
       "    <tr style=\"text-align: right;\">\n",
       "      <th></th>\n",
       "      <th>count</th>\n",
       "      <th>mean</th>\n",
       "      <th>std</th>\n",
       "      <th>min</th>\n",
       "      <th>25%</th>\n",
       "      <th>50%</th>\n",
       "      <th>75%</th>\n",
       "      <th>max</th>\n",
       "    </tr>\n",
       "  </thead>\n",
       "  <tbody>\n",
       "    <tr>\n",
       "      <td>x</td>\n",
       "      <td>999.0</td>\n",
       "      <td>0.000000e+00</td>\n",
       "      <td>1.000501</td>\n",
       "      <td>-1.730318</td>\n",
       "      <td>-0.865159</td>\n",
       "      <td>0.000000</td>\n",
       "      <td>0.865159</td>\n",
       "      <td>1.730318</td>\n",
       "    </tr>\n",
       "    <tr>\n",
       "      <td>y</td>\n",
       "      <td>999.0</td>\n",
       "      <td>-5.690032e-17</td>\n",
       "      <td>1.000501</td>\n",
       "      <td>-1.567537</td>\n",
       "      <td>-0.791157</td>\n",
       "      <td>-0.012911</td>\n",
       "      <td>0.760669</td>\n",
       "      <td>13.961930</td>\n",
       "    </tr>\n",
       "  </tbody>\n",
       "</table>\n",
       "</div>"
      ],
      "text/plain": [
       "   count          mean       std       min       25%       50%       75%  \\\n",
       "x  999.0  0.000000e+00  1.000501 -1.730318 -0.865159  0.000000  0.865159   \n",
       "y  999.0 -5.690032e-17  1.000501 -1.567537 -0.791157 -0.012911  0.760669   \n",
       "\n",
       "         max  \n",
       "x   1.730318  \n",
       "y  13.961930  "
      ]
     },
     "execution_count": 30,
     "metadata": {},
     "output_type": "execute_result"
    }
   ],
   "source": [
    "sts_df2 = pd.DataFrame(sts.fit_transform(df2))\n",
    "sts_df2.columns = df2.columns\n",
    "sts_df2.describe().T"
   ]
  },
  {
   "cell_type": "code",
   "execution_count": null,
   "metadata": {},
   "outputs": [],
   "source": []
  },
  {
   "cell_type": "markdown",
   "metadata": {},
   "source": [
    "### 確かにdf2もdf1も平均０、分散１になっている"
   ]
  },
  {
   "cell_type": "code",
   "execution_count": null,
   "metadata": {},
   "outputs": [],
   "source": []
  },
  {
   "cell_type": "markdown",
   "metadata": {},
   "source": [
    "# ★RobustScaler\n",
    "変換前のデータに極端に大きな値または小さな値が含まれていた場合、  \n",
    "標準化を行うと大きく結果が変わってしまう。  \n",
    "これを避けるため、データの四分位点を基準にして標準化を行う。"
   ]
  },
  {
   "cell_type": "code",
   "execution_count": 15,
   "metadata": {},
   "outputs": [],
   "source": [
    "from sklearn.preprocessing import RobustScaler\n",
    "rbs = RobustScaler()"
   ]
  },
  {
   "cell_type": "code",
   "execution_count": 18,
   "metadata": {},
   "outputs": [
    {
     "data": {
      "text/html": [
       "<div>\n",
       "<style scoped>\n",
       "    .dataframe tbody tr th:only-of-type {\n",
       "        vertical-align: middle;\n",
       "    }\n",
       "\n",
       "    .dataframe tbody tr th {\n",
       "        vertical-align: top;\n",
       "    }\n",
       "\n",
       "    .dataframe thead th {\n",
       "        text-align: right;\n",
       "    }\n",
       "</style>\n",
       "<table border=\"1\" class=\"dataframe\">\n",
       "  <thead>\n",
       "    <tr style=\"text-align: right;\">\n",
       "      <th></th>\n",
       "      <th>count</th>\n",
       "      <th>mean</th>\n",
       "      <th>std</th>\n",
       "      <th>min</th>\n",
       "      <th>25%</th>\n",
       "      <th>50%</th>\n",
       "      <th>75%</th>\n",
       "      <th>max</th>\n",
       "    </tr>\n",
       "  </thead>\n",
       "  <tbody>\n",
       "    <tr>\n",
       "      <td>x</td>\n",
       "      <td>999.0</td>\n",
       "      <td>0.000000</td>\n",
       "      <td>0.578218</td>\n",
       "      <td>-1.000000</td>\n",
       "      <td>-0.500000</td>\n",
       "      <td>0.0</td>\n",
       "      <td>0.500000</td>\n",
       "      <td>1.000000</td>\n",
       "    </tr>\n",
       "    <tr>\n",
       "      <td>y</td>\n",
       "      <td>999.0</td>\n",
       "      <td>-0.000689</td>\n",
       "      <td>0.578893</td>\n",
       "      <td>-1.002759</td>\n",
       "      <td>-0.501982</td>\n",
       "      <td>0.0</td>\n",
       "      <td>0.498018</td>\n",
       "      <td>1.007174</td>\n",
       "    </tr>\n",
       "  </tbody>\n",
       "</table>\n",
       "</div>"
      ],
      "text/plain": [
       "   count      mean       std       min       25%  50%       75%       max\n",
       "x  999.0  0.000000  0.578218 -1.000000 -0.500000  0.0  0.500000  1.000000\n",
       "y  999.0 -0.000689  0.578893 -1.002759 -0.501982  0.0  0.498018  1.007174"
      ]
     },
     "execution_count": 18,
     "metadata": {},
     "output_type": "execute_result"
    }
   ],
   "source": [
    "rbs_df1 = pd.DataFrame(rbs.fit_transform(df1))\n",
    "rbs_df1.columns = df1.columns\n",
    "rbs_df1.describe().T"
   ]
  },
  {
   "cell_type": "code",
   "execution_count": 17,
   "metadata": {},
   "outputs": [
    {
     "data": {
      "text/html": [
       "<div>\n",
       "<style scoped>\n",
       "    .dataframe tbody tr th:only-of-type {\n",
       "        vertical-align: middle;\n",
       "    }\n",
       "\n",
       "    .dataframe tbody tr th {\n",
       "        vertical-align: top;\n",
       "    }\n",
       "\n",
       "    .dataframe thead th {\n",
       "        text-align: right;\n",
       "    }\n",
       "</style>\n",
       "<table border=\"1\" class=\"dataframe\">\n",
       "  <thead>\n",
       "    <tr style=\"text-align: right;\">\n",
       "      <th></th>\n",
       "      <th>count</th>\n",
       "      <th>mean</th>\n",
       "      <th>std</th>\n",
       "      <th>min</th>\n",
       "      <th>25%</th>\n",
       "      <th>50%</th>\n",
       "      <th>75%</th>\n",
       "      <th>max</th>\n",
       "    </tr>\n",
       "  </thead>\n",
       "  <tbody>\n",
       "    <tr>\n",
       "      <td>x</td>\n",
       "      <td>999.0</td>\n",
       "      <td>0.00000</td>\n",
       "      <td>0.578218</td>\n",
       "      <td>-1.000000</td>\n",
       "      <td>-0.500000</td>\n",
       "      <td>0.0</td>\n",
       "      <td>0.500000</td>\n",
       "      <td>1.000000</td>\n",
       "    </tr>\n",
       "    <tr>\n",
       "      <td>y</td>\n",
       "      <td>999.0</td>\n",
       "      <td>0.00832</td>\n",
       "      <td>0.644725</td>\n",
       "      <td>-1.001804</td>\n",
       "      <td>-0.501504</td>\n",
       "      <td>0.0</td>\n",
       "      <td>0.498496</td>\n",
       "      <td>9.005413</td>\n",
       "    </tr>\n",
       "  </tbody>\n",
       "</table>\n",
       "</div>"
      ],
      "text/plain": [
       "   count     mean       std       min       25%  50%       75%       max\n",
       "x  999.0  0.00000  0.578218 -1.000000 -0.500000  0.0  0.500000  1.000000\n",
       "y  999.0  0.00832  0.644725 -1.001804 -0.501504  0.0  0.498496  9.005413"
      ]
     },
     "execution_count": 17,
     "metadata": {},
     "output_type": "execute_result"
    }
   ],
   "source": [
    "rbs_df2 = pd.DataFrame(rbs.fit_transform(df2))\n",
    "rbs_df2.columns = df2.columns\n",
    "rbs_df2.describe().T"
   ]
  },
  {
   "cell_type": "markdown",
   "metadata": {},
   "source": [
    "### 確かに4分位はdf1とdf2でほぼほぼ同じ"
   ]
  },
  {
   "cell_type": "code",
   "execution_count": null,
   "metadata": {},
   "outputs": [],
   "source": []
  },
  {
   "cell_type": "markdown",
   "metadata": {},
   "source": [
    "# ★結局どれがいいの？"
   ]
  },
  {
   "cell_type": "code",
   "execution_count": 24,
   "metadata": {},
   "outputs": [],
   "source": [
    "from sklearn.model_selection import train_test_split"
   ]
  },
  {
   "cell_type": "code",
   "execution_count": 33,
   "metadata": {},
   "outputs": [],
   "source": [
    "from sklearn.linear_model import LogisticRegression\n",
    "lr = LogisticRegression()\n",
    "\n",
    "from sklearn.ensemble import RandomForestRegressor\n",
    "rf = RandomForestRegressor()\n",
    "\n",
    "# from xgboost import xg\n",
    "\n",
    "from sklearn.metrics import mean_absolute_error"
   ]
  },
  {
   "cell_type": "code",
   "execution_count": 70,
   "metadata": {},
   "outputs": [],
   "source": [
    "def get_score(model, x_train, x_test, y_train, y_test):\n",
    "    model.fit(pd.DataFrame(x_train), pd.DataFrame(y_train))\n",
    "    predict_y = model.predict(pd.DataFrame(x_test))\n",
    "    print(model.__class__)\n",
    "    print(\"score(train):\", model.score( pd.DataFrame(x_train), pd.DataFrame(y_train) ) )\n",
    "    print(\"score(test) :\", model.score( pd.DataFrame(x_test),  pd.DataFrame(y_test)  ) )\n",
    "    print(\"MAE         :\", mean_absolute_error( pd.DataFrame(predict_y), pd.DataFrame(y_test) ) )"
   ]
  },
  {
   "cell_type": "markdown",
   "metadata": {},
   "source": [
    "## ランダムフォレスト"
   ]
  },
  {
   "cell_type": "code",
   "execution_count": 72,
   "metadata": {},
   "outputs": [],
   "source": [
    "x_train1, x_test1, y_train1, y_test1 = train_test_split(df1[\"x\"], df1[\"y\"], test_size=0.3)\n",
    "x_train2, x_test2, y_train2, y_test2 = train_test_split(df2[\"x\"], df2[\"y\"], test_size=0.3)"
   ]
  },
  {
   "cell_type": "code",
   "execution_count": 75,
   "metadata": {},
   "outputs": [
    {
     "name": "stdout",
     "output_type": "stream",
     "text": [
      "◆RandomForest@df1\n",
      "<class 'sklearn.ensemble.forest.RandomForestRegressor'>\n",
      "score(train): 0.9999408100984821\n",
      "score(test) : 0.9996220692403499\n",
      "MAE         : 9.137000000000011\n",
      "◆RandomForest@df2\n",
      "<class 'sklearn.ensemble.forest.RandomForestRegressor'>\n",
      "score(train): 0.9375876864283984\n",
      "score(test) : 0.7066533689350515\n",
      "MAE         : 29.415899999999997\n"
     ]
    },
    {
     "name": "stderr",
     "output_type": "stream",
     "text": [
      "C:\\MyProgram\\Anaconda3\\lib\\site-packages\\ipykernel_launcher.py:2: DataConversionWarning: A column-vector y was passed when a 1d array was expected. Please change the shape of y to (n_samples,), for example using ravel().\n",
      "  \n",
      "C:\\MyProgram\\Anaconda3\\lib\\site-packages\\ipykernel_launcher.py:2: DataConversionWarning: A column-vector y was passed when a 1d array was expected. Please change the shape of y to (n_samples,), for example using ravel().\n",
      "  \n"
     ]
    }
   ],
   "source": [
    "print(\"◆RandomForest@df1\")\n",
    "get_score(rf, x_train1, x_test1, y_train1, y_test1)\n",
    "print(\"◆RandomForest@df2\")\n",
    "get_score(rf, x_train2, x_test2, y_train2, y_test2)"
   ]
  },
  {
   "cell_type": "code",
   "execution_count": 99,
   "metadata": {},
   "outputs": [],
   "source": [
    "mms_x_train1, mms_x_test1, mms_y_train1, mms_y_test1 = train_test_split(mms_df1[\"x\"], mms_df1[\"y\"], test_size=0.3)\n",
    "mms_x_train2, mms_x_test2, mms_y_train2, mms_y_test2 = train_test_split(mms_df2[\"x\"], mms_df2[\"y\"], test_size=0.3)"
   ]
  },
  {
   "cell_type": "code",
   "execution_count": 100,
   "metadata": {},
   "outputs": [
    {
     "name": "stdout",
     "output_type": "stream",
     "text": [
      "◆RandomForest@df1\n",
      "<class 'sklearn.ensemble.forest.RandomForestRegressor'>\n",
      "score(train): 0.9999443958177248\n",
      "score(test) : 0.9996523038406837\n",
      "MAE         : 0.004496690969052689\n",
      "◆RandomForest@df2\n",
      "<class 'sklearn.ensemble.forest.RandomForestRegressor'>\n",
      "score(train): 0.999942005949615\n",
      "score(test) : 0.5353720528787251\n",
      "MAE         : 0.003899944978696782\n"
     ]
    },
    {
     "name": "stderr",
     "output_type": "stream",
     "text": [
      "C:\\MyProgram\\Anaconda3\\lib\\site-packages\\ipykernel_launcher.py:2: DataConversionWarning: A column-vector y was passed when a 1d array was expected. Please change the shape of y to (n_samples,), for example using ravel().\n",
      "  \n",
      "C:\\MyProgram\\Anaconda3\\lib\\site-packages\\ipykernel_launcher.py:2: DataConversionWarning: A column-vector y was passed when a 1d array was expected. Please change the shape of y to (n_samples,), for example using ravel().\n",
      "  \n"
     ]
    }
   ],
   "source": [
    "print(\"◆RandomForest@df1\")\n",
    "get_score(rf, mms_x_train1, mms_x_test1, mms_y_train1, mms_y_test1)\n",
    "print(\"◆RandomForest@df2\")\n",
    "get_score(rf, mms_x_train2, mms_x_test2, mms_y_train2, mms_y_test2)"
   ]
  },
  {
   "cell_type": "code",
   "execution_count": 123,
   "metadata": {},
   "outputs": [],
   "source": [
    "sts_x_train1, sts_x_test1, sts_y_train1, sts_y_test1 = train_test_split(sts_df1[\"x\"], sts_df1[\"y\"], test_size=0.3)\n",
    "sts_x_train2, sts_x_test2, sts_y_train2, sts_y_test2 = train_test_split(sts_df2[\"x\"], sts_df2[\"y\"], test_size=0.3)"
   ]
  },
  {
   "cell_type": "code",
   "execution_count": 124,
   "metadata": {},
   "outputs": [
    {
     "name": "stdout",
     "output_type": "stream",
     "text": [
      "◆RandomForest@df1\n",
      "<class 'sklearn.ensemble.forest.RandomForestRegressor'>\n",
      "score(train): 0.9999380866275674\n",
      "score(test) : 0.9996846823551849\n",
      "MAE         : 0.014905167994453088\n",
      "◆RandomForest@df2\n",
      "<class 'sklearn.ensemble.forest.RandomForestRegressor'>\n",
      "score(train): 0.8631232658132777\n",
      "score(test) : 0.8864603033674596\n",
      "MAE         : 0.04077143499058317\n"
     ]
    },
    {
     "name": "stderr",
     "output_type": "stream",
     "text": [
      "C:\\MyProgram\\Anaconda3\\lib\\site-packages\\ipykernel_launcher.py:2: DataConversionWarning: A column-vector y was passed when a 1d array was expected. Please change the shape of y to (n_samples,), for example using ravel().\n",
      "  \n",
      "C:\\MyProgram\\Anaconda3\\lib\\site-packages\\ipykernel_launcher.py:2: DataConversionWarning: A column-vector y was passed when a 1d array was expected. Please change the shape of y to (n_samples,), for example using ravel().\n",
      "  \n"
     ]
    }
   ],
   "source": [
    "print(\"◆RandomForest@df1\")\n",
    "get_score(rf, sts_x_train1, sts_x_test1, sts_y_train1, sts_y_test1)\n",
    "print(\"◆RandomForest@df2\")\n",
    "get_score(rf, sts_x_train2, sts_x_test2, sts_y_train2, sts_y_test2)"
   ]
  },
  {
   "cell_type": "code",
   "execution_count": 111,
   "metadata": {},
   "outputs": [],
   "source": [
    "rbs_x_train1, rbs_x_test1, rbs_y_train1, rbs_y_test1 = train_test_split(rbs_df1[\"x\"], rbs_df1[\"y\"], test_size=0.3)\n",
    "rbs_x_train2, rbs_x_test2, rbs_y_train2, rbs_y_test2 = train_test_split(rbs_df2[\"x\"], rbs_df2[\"y\"], test_size=0.3)"
   ]
  },
  {
   "cell_type": "code",
   "execution_count": 112,
   "metadata": {},
   "outputs": [
    {
     "name": "stdout",
     "output_type": "stream",
     "text": [
      "◆RandomForest@df1\n",
      "<class 'sklearn.ensemble.forest.RandomForestRegressor'>\n",
      "score(train): 0.999941587807094\n",
      "score(test) : 0.9996729115750472\n",
      "MAE         : 0.008461877209286033\n",
      "◆RandomForest@df2\n",
      "<class 'sklearn.ensemble.forest.RandomForestRegressor'>\n",
      "score(train): 0.9999389198884316\n",
      "score(test) : 0.5545326342109154\n",
      "MAE         : 0.03861883973918357\n"
     ]
    },
    {
     "name": "stderr",
     "output_type": "stream",
     "text": [
      "C:\\MyProgram\\Anaconda3\\lib\\site-packages\\ipykernel_launcher.py:2: DataConversionWarning: A column-vector y was passed when a 1d array was expected. Please change the shape of y to (n_samples,), for example using ravel().\n",
      "  \n",
      "C:\\MyProgram\\Anaconda3\\lib\\site-packages\\ipykernel_launcher.py:2: DataConversionWarning: A column-vector y was passed when a 1d array was expected. Please change the shape of y to (n_samples,), for example using ravel().\n",
      "  \n"
     ]
    }
   ],
   "source": [
    "print(\"◆RandomForest@df1\")\n",
    "get_score(rf, rbs_x_train1, rbs_x_test1, rbs_y_train1, rbs_y_test1)\n",
    "print(\"◆RandomForest@df2\")\n",
    "get_score(rf, rbs_x_train2, rbs_x_test2, rbs_y_train2, rbs_y_test2)"
   ]
  },
  {
   "cell_type": "code",
   "execution_count": null,
   "metadata": {},
   "outputs": [],
   "source": [
    "# やってみたけど、実行するたびにかなり結果が変わる\n",
    "# 外れ値がtest、trainどちらに含まれるのかで違うのか\n",
    "# あとそれぞれ"
   ]
  },
  {
   "cell_type": "code",
   "execution_count": null,
   "metadata": {},
   "outputs": [],
   "source": [
    "# MAEは単位が違うので、df1,2で比べても意味ないか\n"
   ]
  },
  {
   "cell_type": "code",
   "execution_count": 125,
   "metadata": {},
   "outputs": [],
   "source": [
    "# 正直なところこの実験は失敗な感じがする、\n",
    "# 結局どれがいいかわからん\n",
    "# でもまあ、どれかがすぐれているのなら、\n",
    "# ほかの使われてないと思うし、ケースバイケースで、\n",
    "# こういう手作りではなくてちゃんとしたデータでやってみんとわからないんだろうな\n",
    "# 少なくとも、この手作りじゃいかん。\n",
    "# せめて、コンペ練習問題とかか"
   ]
  },
  {
   "cell_type": "code",
   "execution_count": 126,
   "metadata": {},
   "outputs": [],
   "source": [
    "# でも結局はハズレ値はどうにかしないといかんな"
   ]
  },
  {
   "cell_type": "code",
   "execution_count": 127,
   "metadata": {},
   "outputs": [],
   "source": [
    "# まだわかってないことが分かった"
   ]
  },
  {
   "cell_type": "code",
   "execution_count": null,
   "metadata": {},
   "outputs": [],
   "source": [
    "where"
   ]
  },
  {
   "cell_type": "code",
   "execution_count": 128,
   "metadata": {},
   "outputs": [],
   "source": [
    "# というかランダムフォレストじゃダメだ。今更だけど。"
   ]
  },
  {
   "cell_type": "code",
   "execution_count": null,
   "metadata": {},
   "outputs": [],
   "source": []
  }
 ],
 "metadata": {
  "kernelspec": {
   "display_name": "Python 3",
   "language": "python",
   "name": "python3"
  },
  "language_info": {
   "codemirror_mode": {
    "name": "ipython",
    "version": 3
   },
   "file_extension": ".py",
   "mimetype": "text/x-python",
   "name": "python",
   "nbconvert_exporter": "python",
   "pygments_lexer": "ipython3",
   "version": "3.6.5"
  }
 },
 "nbformat": 4,
 "nbformat_minor": 4
}
