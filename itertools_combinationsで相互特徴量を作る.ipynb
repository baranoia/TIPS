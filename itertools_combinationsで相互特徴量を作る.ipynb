{
 "cells": [
  {
   "cell_type": "code",
   "execution_count": 21,
   "metadata": {},
   "outputs": [],
   "source": [
    "import itertools\n",
    "import numpy as np\n",
    "import pandas as pd"
   ]
  },
  {
   "cell_type": "code",
   "execution_count": null,
   "metadata": {},
   "outputs": [],
   "source": [
    "# まずシンプルにやってみる"
   ]
  },
  {
   "cell_type": "code",
   "execution_count": 14,
   "metadata": {},
   "outputs": [],
   "source": [
    "lst = [\"a\",\"b\",\"c\",\"d\",\"e\"]"
   ]
  },
  {
   "cell_type": "code",
   "execution_count": 20,
   "metadata": {},
   "outputs": [
    {
     "data": {
      "text/plain": [
       "<itertools.combinations at 0x23bdc86c228>"
      ]
     },
     "execution_count": 20,
     "metadata": {},
     "output_type": "execute_result"
    }
   ],
   "source": [
    "itertools.combinations(lst,2)"
   ]
  },
  {
   "cell_type": "code",
   "execution_count": 25,
   "metadata": {},
   "outputs": [
    {
     "name": "stdout",
     "output_type": "stream",
     "text": [
      "10\n",
      "[('a', 'b'), ('a', 'c'), ('a', 'd'), ('a', 'e'), ('b', 'c'), ('b', 'd'), ('b', 'e'), ('c', 'd'), ('c', 'e'), ('d', 'e')]\n"
     ]
    }
   ],
   "source": [
    "print( len(list(itertools.combinations(lst,2) ) ) ) \n",
    "print( list(itertools.combinations(lst,2) ) ) "
   ]
  },
  {
   "cell_type": "code",
   "execution_count": 23,
   "metadata": {},
   "outputs": [
    {
     "data": {
      "text/html": [
       "<div>\n",
       "<style scoped>\n",
       "    .dataframe tbody tr th:only-of-type {\n",
       "        vertical-align: middle;\n",
       "    }\n",
       "\n",
       "    .dataframe tbody tr th {\n",
       "        vertical-align: top;\n",
       "    }\n",
       "\n",
       "    .dataframe thead th {\n",
       "        text-align: right;\n",
       "    }\n",
       "</style>\n",
       "<table border=\"1\" class=\"dataframe\">\n",
       "  <thead>\n",
       "    <tr style=\"text-align: right;\">\n",
       "      <th></th>\n",
       "      <th>0</th>\n",
       "      <th>1</th>\n",
       "    </tr>\n",
       "  </thead>\n",
       "  <tbody>\n",
       "    <tr>\n",
       "      <td>0</td>\n",
       "      <td>a</td>\n",
       "      <td>b</td>\n",
       "    </tr>\n",
       "    <tr>\n",
       "      <td>1</td>\n",
       "      <td>a</td>\n",
       "      <td>c</td>\n",
       "    </tr>\n",
       "    <tr>\n",
       "      <td>2</td>\n",
       "      <td>a</td>\n",
       "      <td>d</td>\n",
       "    </tr>\n",
       "    <tr>\n",
       "      <td>3</td>\n",
       "      <td>a</td>\n",
       "      <td>e</td>\n",
       "    </tr>\n",
       "    <tr>\n",
       "      <td>4</td>\n",
       "      <td>b</td>\n",
       "      <td>c</td>\n",
       "    </tr>\n",
       "    <tr>\n",
       "      <td>5</td>\n",
       "      <td>b</td>\n",
       "      <td>d</td>\n",
       "    </tr>\n",
       "    <tr>\n",
       "      <td>6</td>\n",
       "      <td>b</td>\n",
       "      <td>e</td>\n",
       "    </tr>\n",
       "    <tr>\n",
       "      <td>7</td>\n",
       "      <td>c</td>\n",
       "      <td>d</td>\n",
       "    </tr>\n",
       "    <tr>\n",
       "      <td>8</td>\n",
       "      <td>c</td>\n",
       "      <td>e</td>\n",
       "    </tr>\n",
       "    <tr>\n",
       "      <td>9</td>\n",
       "      <td>d</td>\n",
       "      <td>e</td>\n",
       "    </tr>\n",
       "  </tbody>\n",
       "</table>\n",
       "</div>"
      ],
      "text/plain": [
       "   0  1\n",
       "0  a  b\n",
       "1  a  c\n",
       "2  a  d\n",
       "3  a  e\n",
       "4  b  c\n",
       "5  b  d\n",
       "6  b  e\n",
       "7  c  d\n",
       "8  c  e\n",
       "9  d  e"
      ]
     },
     "execution_count": 23,
     "metadata": {},
     "output_type": "execute_result"
    }
   ],
   "source": [
    "pd.DataFrame(itertools.combinations(lst,2))"
   ]
  },
  {
   "cell_type": "code",
   "execution_count": null,
   "metadata": {},
   "outputs": [],
   "source": []
  },
  {
   "cell_type": "code",
   "execution_count": null,
   "metadata": {},
   "outputs": [],
   "source": []
  },
  {
   "cell_type": "code",
   "execution_count": 16,
   "metadata": {},
   "outputs": [],
   "source": [
    "# 次にデータフレームで\n",
    "# 沢山列があると、組み合わせるのが大変"
   ]
  },
  {
   "cell_type": "code",
   "execution_count": 47,
   "metadata": {},
   "outputs": [],
   "source": [
    "# 特徴のペアを反復処理する最も簡単な方法は、itertools.combinationsを使うことです。\n",
    "# それぞれの新しいカラムに対して、値をアンダースコア付きの文字列として結合すると、13と47は \"13_47\" になります。\n",
    "# 新しい列をデータセットに追加する際には、値をラベルでエンコードするようにしてください。"
   ]
  },
  {
   "cell_type": "code",
   "execution_count": 63,
   "metadata": {},
   "outputs": [
    {
     "data": {
      "text/html": [
       "<div>\n",
       "<style scoped>\n",
       "    .dataframe tbody tr th:only-of-type {\n",
       "        vertical-align: middle;\n",
       "    }\n",
       "\n",
       "    .dataframe tbody tr th {\n",
       "        vertical-align: top;\n",
       "    }\n",
       "\n",
       "    .dataframe thead th {\n",
       "        text-align: right;\n",
       "    }\n",
       "</style>\n",
       "<table border=\"1\" class=\"dataframe\">\n",
       "  <thead>\n",
       "    <tr style=\"text-align: right;\">\n",
       "      <th></th>\n",
       "      <th>MAIDIN</th>\n",
       "      <th>MATERIAL</th>\n",
       "      <th>COLOR</th>\n",
       "      <th>SIZE</th>\n",
       "    </tr>\n",
       "  </thead>\n",
       "  <tbody>\n",
       "    <tr>\n",
       "      <td>0</td>\n",
       "      <td>North</td>\n",
       "      <td>Wood</td>\n",
       "      <td>Red</td>\n",
       "      <td>S</td>\n",
       "    </tr>\n",
       "    <tr>\n",
       "      <td>1</td>\n",
       "      <td>North</td>\n",
       "      <td>Cupper</td>\n",
       "      <td>Yellow</td>\n",
       "      <td>M</td>\n",
       "    </tr>\n",
       "    <tr>\n",
       "      <td>2</td>\n",
       "      <td>West</td>\n",
       "      <td>Silver</td>\n",
       "      <td>Red</td>\n",
       "      <td>L</td>\n",
       "    </tr>\n",
       "    <tr>\n",
       "      <td>3</td>\n",
       "      <td>East</td>\n",
       "      <td>Gold</td>\n",
       "      <td>Red</td>\n",
       "      <td>S</td>\n",
       "    </tr>\n",
       "    <tr>\n",
       "      <td>4</td>\n",
       "      <td>North</td>\n",
       "      <td>Silver</td>\n",
       "      <td>Blue</td>\n",
       "      <td>S</td>\n",
       "    </tr>\n",
       "  </tbody>\n",
       "</table>\n",
       "</div>"
      ],
      "text/plain": [
       "  MAIDIN MATERIAL   COLOR SIZE\n",
       "0  North     Wood     Red    S\n",
       "1  North   Cupper  Yellow    M\n",
       "2   West   Silver     Red    L\n",
       "3   East     Gold     Red    S\n",
       "4  North   Silver    Blue    S"
      ]
     },
     "execution_count": 63,
     "metadata": {},
     "output_type": "execute_result"
    }
   ],
   "source": [
    "df = pd.DataFrame({\n",
    "        \"MAIDIN\" : [\"North\", \"North\", \"West\", \"East\", \"North\"],\n",
    "        \"MATERIAL\" : [\"Wood\", \"Cupper\", \"Silver\", \"Gold\", \"Silver\"],\n",
    "        \"COLOR\" : [\"Red\", \"Yellow\", \"Red\", \"Red\", \"Blue\"],\n",
    "        \"SIZE\" : [\"S\", \"M\", \"L\", \"S\", \"S\"],})\n",
    "df"
   ]
  },
  {
   "cell_type": "code",
   "execution_count": 64,
   "metadata": {},
   "outputs": [],
   "source": [
    "df_bk =df.copy()"
   ]
  },
  {
   "cell_type": "code",
   "execution_count": 67,
   "metadata": {},
   "outputs": [
    {
     "data": {
      "text/plain": [
       "<itertools.combinations at 0x23bde672688>"
      ]
     },
     "execution_count": 67,
     "metadata": {},
     "output_type": "execute_result"
    }
   ],
   "source": [
    "itertools.combinations(df,2)"
   ]
  },
  {
   "cell_type": "code",
   "execution_count": 68,
   "metadata": {},
   "outputs": [
    {
     "data": {
      "text/html": [
       "<div>\n",
       "<style scoped>\n",
       "    .dataframe tbody tr th:only-of-type {\n",
       "        vertical-align: middle;\n",
       "    }\n",
       "\n",
       "    .dataframe tbody tr th {\n",
       "        vertical-align: top;\n",
       "    }\n",
       "\n",
       "    .dataframe thead th {\n",
       "        text-align: right;\n",
       "    }\n",
       "</style>\n",
       "<table border=\"1\" class=\"dataframe\">\n",
       "  <thead>\n",
       "    <tr style=\"text-align: right;\">\n",
       "      <th></th>\n",
       "      <th>0</th>\n",
       "      <th>1</th>\n",
       "    </tr>\n",
       "  </thead>\n",
       "  <tbody>\n",
       "    <tr>\n",
       "      <td>0</td>\n",
       "      <td>MAIDIN</td>\n",
       "      <td>MATERIAL</td>\n",
       "    </tr>\n",
       "    <tr>\n",
       "      <td>1</td>\n",
       "      <td>MAIDIN</td>\n",
       "      <td>COLOR</td>\n",
       "    </tr>\n",
       "    <tr>\n",
       "      <td>2</td>\n",
       "      <td>MAIDIN</td>\n",
       "      <td>SIZE</td>\n",
       "    </tr>\n",
       "    <tr>\n",
       "      <td>3</td>\n",
       "      <td>MATERIAL</td>\n",
       "      <td>COLOR</td>\n",
       "    </tr>\n",
       "    <tr>\n",
       "      <td>4</td>\n",
       "      <td>MATERIAL</td>\n",
       "      <td>SIZE</td>\n",
       "    </tr>\n",
       "    <tr>\n",
       "      <td>5</td>\n",
       "      <td>COLOR</td>\n",
       "      <td>SIZE</td>\n",
       "    </tr>\n",
       "  </tbody>\n",
       "</table>\n",
       "</div>"
      ],
      "text/plain": [
       "          0         1\n",
       "0    MAIDIN  MATERIAL\n",
       "1    MAIDIN     COLOR\n",
       "2    MAIDIN      SIZE\n",
       "3  MATERIAL     COLOR\n",
       "4  MATERIAL      SIZE\n",
       "5     COLOR      SIZE"
      ]
     },
     "execution_count": 68,
     "metadata": {},
     "output_type": "execute_result"
    }
   ],
   "source": [
    "pd.DataFrame(itertools.combinations(df,2))"
   ]
  },
  {
   "cell_type": "code",
   "execution_count": 69,
   "metadata": {},
   "outputs": [
    {
     "name": "stdout",
     "output_type": "stream",
     "text": [
      "MAIDIN MATERIAL\n",
      "MAIDIN COLOR\n",
      "MAIDIN SIZE\n",
      "MATERIAL COLOR\n",
      "MATERIAL SIZE\n",
      "COLOR SIZE\n"
     ]
    }
   ],
   "source": [
    "for i,j in itertools.combinations(df,2):\n",
    "    print(i,j)"
   ]
  },
  {
   "cell_type": "code",
   "execution_count": 70,
   "metadata": {},
   "outputs": [
    {
     "name": "stdout",
     "output_type": "stream",
     "text": [
      "MAIDIN MATERIAL → MAIDIN_MATERIAL\n",
      "MAIDIN COLOR → MAIDIN_COLOR\n",
      "MAIDIN SIZE → MAIDIN_SIZE\n",
      "MATERIAL COLOR → MATERIAL_COLOR\n",
      "MATERIAL SIZE → MATERIAL_SIZE\n",
      "COLOR SIZE → COLOR_SIZE\n"
     ]
    }
   ],
   "source": [
    "for i,j in itertools.combinations(df,2):\n",
    "    new_col_name = i + \"_\" + j\n",
    "    print(i,j,\"→\",new_col_name)\n",
    "    df[new_col_name] = df[i] + \"_\" + df[j]"
   ]
  },
  {
   "cell_type": "code",
   "execution_count": 71,
   "metadata": {},
   "outputs": [
    {
     "data": {
      "text/html": [
       "<div>\n",
       "<style scoped>\n",
       "    .dataframe tbody tr th:only-of-type {\n",
       "        vertical-align: middle;\n",
       "    }\n",
       "\n",
       "    .dataframe tbody tr th {\n",
       "        vertical-align: top;\n",
       "    }\n",
       "\n",
       "    .dataframe thead th {\n",
       "        text-align: right;\n",
       "    }\n",
       "</style>\n",
       "<table border=\"1\" class=\"dataframe\">\n",
       "  <thead>\n",
       "    <tr style=\"text-align: right;\">\n",
       "      <th></th>\n",
       "      <th>MAIDIN</th>\n",
       "      <th>MATERIAL</th>\n",
       "      <th>COLOR</th>\n",
       "      <th>SIZE</th>\n",
       "      <th>MAIDIN_MATERIAL</th>\n",
       "      <th>MAIDIN_COLOR</th>\n",
       "      <th>MAIDIN_SIZE</th>\n",
       "      <th>MATERIAL_COLOR</th>\n",
       "      <th>MATERIAL_SIZE</th>\n",
       "      <th>COLOR_SIZE</th>\n",
       "    </tr>\n",
       "  </thead>\n",
       "  <tbody>\n",
       "    <tr>\n",
       "      <td>0</td>\n",
       "      <td>North</td>\n",
       "      <td>Wood</td>\n",
       "      <td>Red</td>\n",
       "      <td>S</td>\n",
       "      <td>North_Wood</td>\n",
       "      <td>North_Red</td>\n",
       "      <td>North_S</td>\n",
       "      <td>Wood_Red</td>\n",
       "      <td>Wood_S</td>\n",
       "      <td>Red_S</td>\n",
       "    </tr>\n",
       "    <tr>\n",
       "      <td>1</td>\n",
       "      <td>North</td>\n",
       "      <td>Cupper</td>\n",
       "      <td>Yellow</td>\n",
       "      <td>M</td>\n",
       "      <td>North_Cupper</td>\n",
       "      <td>North_Yellow</td>\n",
       "      <td>North_M</td>\n",
       "      <td>Cupper_Yellow</td>\n",
       "      <td>Cupper_M</td>\n",
       "      <td>Yellow_M</td>\n",
       "    </tr>\n",
       "    <tr>\n",
       "      <td>2</td>\n",
       "      <td>West</td>\n",
       "      <td>Silver</td>\n",
       "      <td>Red</td>\n",
       "      <td>L</td>\n",
       "      <td>West_Silver</td>\n",
       "      <td>West_Red</td>\n",
       "      <td>West_L</td>\n",
       "      <td>Silver_Red</td>\n",
       "      <td>Silver_L</td>\n",
       "      <td>Red_L</td>\n",
       "    </tr>\n",
       "    <tr>\n",
       "      <td>3</td>\n",
       "      <td>East</td>\n",
       "      <td>Gold</td>\n",
       "      <td>Red</td>\n",
       "      <td>S</td>\n",
       "      <td>East_Gold</td>\n",
       "      <td>East_Red</td>\n",
       "      <td>East_S</td>\n",
       "      <td>Gold_Red</td>\n",
       "      <td>Gold_S</td>\n",
       "      <td>Red_S</td>\n",
       "    </tr>\n",
       "    <tr>\n",
       "      <td>4</td>\n",
       "      <td>North</td>\n",
       "      <td>Silver</td>\n",
       "      <td>Blue</td>\n",
       "      <td>S</td>\n",
       "      <td>North_Silver</td>\n",
       "      <td>North_Blue</td>\n",
       "      <td>North_S</td>\n",
       "      <td>Silver_Blue</td>\n",
       "      <td>Silver_S</td>\n",
       "      <td>Blue_S</td>\n",
       "    </tr>\n",
       "  </tbody>\n",
       "</table>\n",
       "</div>"
      ],
      "text/plain": [
       "  MAIDIN MATERIAL   COLOR SIZE MAIDIN_MATERIAL  MAIDIN_COLOR MAIDIN_SIZE  \\\n",
       "0  North     Wood     Red    S      North_Wood     North_Red     North_S   \n",
       "1  North   Cupper  Yellow    M    North_Cupper  North_Yellow     North_M   \n",
       "2   West   Silver     Red    L     West_Silver      West_Red      West_L   \n",
       "3   East     Gold     Red    S       East_Gold      East_Red      East_S   \n",
       "4  North   Silver    Blue    S    North_Silver    North_Blue     North_S   \n",
       "\n",
       "  MATERIAL_COLOR MATERIAL_SIZE COLOR_SIZE  \n",
       "0       Wood_Red        Wood_S      Red_S  \n",
       "1  Cupper_Yellow      Cupper_M   Yellow_M  \n",
       "2     Silver_Red      Silver_L      Red_L  \n",
       "3       Gold_Red        Gold_S      Red_S  \n",
       "4    Silver_Blue      Silver_S     Blue_S  "
      ]
     },
     "execution_count": 71,
     "metadata": {},
     "output_type": "execute_result"
    }
   ],
   "source": [
    "df"
   ]
  },
  {
   "cell_type": "code",
   "execution_count": 79,
   "metadata": {},
   "outputs": [],
   "source": [
    "from sklearn.preprocessing import LabelEncoder\n",
    "le = LabelEncoder()"
   ]
  },
  {
   "cell_type": "code",
   "execution_count": 80,
   "metadata": {},
   "outputs": [
    {
     "data": {
      "text/plain": [
       "['MAIDIN_MATERIAL',\n",
       " 'MAIDIN_COLOR',\n",
       " 'MAIDIN_SIZE',\n",
       " 'MATERIAL_COLOR',\n",
       " 'MATERIAL_SIZE',\n",
       " 'COLOR_SIZE']"
      ]
     },
     "execution_count": 80,
     "metadata": {},
     "output_type": "execute_result"
    }
   ],
   "source": [
    "newcollst = [i+\"_\"+j for i,j in list(itertools.combinations(df_bk,2))]\n",
    "newcollst"
   ]
  },
  {
   "cell_type": "code",
   "execution_count": 84,
   "metadata": {},
   "outputs": [],
   "source": [
    "df[ newcollst ] = df[ newcollst ].apply(le.fit_transform)"
   ]
  },
  {
   "cell_type": "code",
   "execution_count": 85,
   "metadata": {},
   "outputs": [
    {
     "data": {
      "text/html": [
       "<div>\n",
       "<style scoped>\n",
       "    .dataframe tbody tr th:only-of-type {\n",
       "        vertical-align: middle;\n",
       "    }\n",
       "\n",
       "    .dataframe tbody tr th {\n",
       "        vertical-align: top;\n",
       "    }\n",
       "\n",
       "    .dataframe thead th {\n",
       "        text-align: right;\n",
       "    }\n",
       "</style>\n",
       "<table border=\"1\" class=\"dataframe\">\n",
       "  <thead>\n",
       "    <tr style=\"text-align: right;\">\n",
       "      <th></th>\n",
       "      <th>MAIDIN</th>\n",
       "      <th>MATERIAL</th>\n",
       "      <th>COLOR</th>\n",
       "      <th>SIZE</th>\n",
       "      <th>MAIDIN_MATERIAL</th>\n",
       "      <th>MAIDIN_COLOR</th>\n",
       "      <th>MAIDIN_SIZE</th>\n",
       "      <th>MATERIAL_COLOR</th>\n",
       "      <th>MATERIAL_SIZE</th>\n",
       "      <th>COLOR_SIZE</th>\n",
       "    </tr>\n",
       "  </thead>\n",
       "  <tbody>\n",
       "    <tr>\n",
       "      <td>0</td>\n",
       "      <td>North</td>\n",
       "      <td>Wood</td>\n",
       "      <td>Red</td>\n",
       "      <td>S</td>\n",
       "      <td>3</td>\n",
       "      <td>2</td>\n",
       "      <td>2</td>\n",
       "      <td>4</td>\n",
       "      <td>4</td>\n",
       "      <td>2</td>\n",
       "    </tr>\n",
       "    <tr>\n",
       "      <td>1</td>\n",
       "      <td>North</td>\n",
       "      <td>Cupper</td>\n",
       "      <td>Yellow</td>\n",
       "      <td>M</td>\n",
       "      <td>1</td>\n",
       "      <td>3</td>\n",
       "      <td>1</td>\n",
       "      <td>0</td>\n",
       "      <td>0</td>\n",
       "      <td>3</td>\n",
       "    </tr>\n",
       "    <tr>\n",
       "      <td>2</td>\n",
       "      <td>West</td>\n",
       "      <td>Silver</td>\n",
       "      <td>Red</td>\n",
       "      <td>L</td>\n",
       "      <td>4</td>\n",
       "      <td>4</td>\n",
       "      <td>3</td>\n",
       "      <td>3</td>\n",
       "      <td>2</td>\n",
       "      <td>1</td>\n",
       "    </tr>\n",
       "    <tr>\n",
       "      <td>3</td>\n",
       "      <td>East</td>\n",
       "      <td>Gold</td>\n",
       "      <td>Red</td>\n",
       "      <td>S</td>\n",
       "      <td>0</td>\n",
       "      <td>0</td>\n",
       "      <td>0</td>\n",
       "      <td>1</td>\n",
       "      <td>1</td>\n",
       "      <td>2</td>\n",
       "    </tr>\n",
       "    <tr>\n",
       "      <td>4</td>\n",
       "      <td>North</td>\n",
       "      <td>Silver</td>\n",
       "      <td>Blue</td>\n",
       "      <td>S</td>\n",
       "      <td>2</td>\n",
       "      <td>1</td>\n",
       "      <td>2</td>\n",
       "      <td>2</td>\n",
       "      <td>3</td>\n",
       "      <td>0</td>\n",
       "    </tr>\n",
       "  </tbody>\n",
       "</table>\n",
       "</div>"
      ],
      "text/plain": [
       "  MAIDIN MATERIAL   COLOR SIZE  MAIDIN_MATERIAL  MAIDIN_COLOR  MAIDIN_SIZE  \\\n",
       "0  North     Wood     Red    S                3             2            2   \n",
       "1  North   Cupper  Yellow    M                1             3            1   \n",
       "2   West   Silver     Red    L                4             4            3   \n",
       "3   East     Gold     Red    S                0             0            0   \n",
       "4  North   Silver    Blue    S                2             1            2   \n",
       "\n",
       "   MATERIAL_COLOR  MATERIAL_SIZE  COLOR_SIZE  \n",
       "0               4              4           2  \n",
       "1               0              0           3  \n",
       "2               3              2           1  \n",
       "3               1              1           2  \n",
       "4               2              3           0  "
      ]
     },
     "execution_count": 85,
     "metadata": {},
     "output_type": "execute_result"
    }
   ],
   "source": [
    "df"
   ]
  },
  {
   "cell_type": "code",
   "execution_count": null,
   "metadata": {},
   "outputs": [],
   "source": []
  }
 ],
 "metadata": {
  "kernelspec": {
   "display_name": "Python 3",
   "language": "python",
   "name": "python3"
  },
  "language_info": {
   "codemirror_mode": {
    "name": "ipython",
    "version": 3
   },
   "file_extension": ".py",
   "mimetype": "text/x-python",
   "name": "python",
   "nbconvert_exporter": "python",
   "pygments_lexer": "ipython3",
   "version": "3.6.5"
  }
 },
 "nbformat": 4,
 "nbformat_minor": 4
}
