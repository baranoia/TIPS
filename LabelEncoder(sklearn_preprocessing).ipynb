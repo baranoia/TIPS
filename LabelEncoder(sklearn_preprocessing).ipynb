{
 "cells": [
  {
   "cell_type": "markdown",
   "metadata": {},
   "source": [
    "### ====================================\n",
    "### LabelEncoder\n",
    "sklearn.preprocessing.LabelEncoder()\n",
    "[▼DOC](\n",
    "https://scikit-learn.org/stable/modules/generated/sklearn.preprocessing.LabelEncoder.html#sklearn.preprocessing.LabelEncoder\n",
    ")  \n",
    "> 0 から n_classes-1 の間の値を持つターゲットラベルをエンコードします。  \n",
    "この変換器は、ターゲット値、すなわち y をエンコードするために使用されるべきであり、  \n",
    "入力 X ではありません。  \n",
    "\n",
    "・元の値を整数値に変換する。元々数値でも変換できる。    \n",
    "・数値として扱えるようになるが、  \n",
    "　名義特徴量(COLORとか)については数値になったことで順序ができてしまうのがNG。   \n",
    "・数値のマッピング0,1,2,,,は、元の値の昇順の模様。  \n",
    "・Nanがあると変換できずにエラーになる  \n",
    "・Xも変換できるのだろうけど、そもそもYの変換を目的に作られているのかな？  \n",
    "　たしかにデータフレーム丸ごと変換できない、Nanあるとダメってことからもそんな感じがする。  \n",
    "　勉強に使ってたテキストとかkaggleコースとかもフツーにXに使ってたけども。  "
   ]
  },
  {
   "cell_type": "code",
   "execution_count": 6,
   "metadata": {},
   "outputs": [],
   "source": [
    "import numpy as np\n",
    "import pandas as pd\n",
    "pd.options.display.float_format = '{:.2f}'.format "
   ]
  },
  {
   "cell_type": "code",
   "execution_count": 27,
   "metadata": {},
   "outputs": [
    {
     "name": "stdout",
     "output_type": "stream",
     "text": [
      "sklearn.preprocessingにある\n",
      "category_encodersにはない\n"
     ]
    }
   ],
   "source": [
    "# どこの所属？\n",
    "try: \n",
    "    from sklearn.preprocessing import LabelEncoder\n",
    "    print(\"sklearn.preprocessingにある\")\n",
    "except ImportError:\n",
    "    print(\"sklearn.preprocessingにはない\")\n",
    "\n",
    "try:\n",
    "    from category_encoders import LabelEncoder\n",
    "    print(\"category_encodersにある\")\n",
    "except ImportError:\n",
    "    print(\"category_encodersにはない\")"
   ]
  },
  {
   "cell_type": "code",
   "execution_count": null,
   "metadata": {},
   "outputs": [],
   "source": []
  },
  {
   "cell_type": "code",
   "execution_count": 17,
   "metadata": {},
   "outputs": [
    {
     "data": {
      "text/html": [
       "<div>\n",
       "<style scoped>\n",
       "    .dataframe tbody tr th:only-of-type {\n",
       "        vertical-align: middle;\n",
       "    }\n",
       "\n",
       "    .dataframe tbody tr th {\n",
       "        vertical-align: top;\n",
       "    }\n",
       "\n",
       "    .dataframe thead th {\n",
       "        text-align: right;\n",
       "    }\n",
       "</style>\n",
       "<table border=\"1\" class=\"dataframe\">\n",
       "  <thead>\n",
       "    <tr style=\"text-align: right;\">\n",
       "      <th></th>\n",
       "      <th>COLOR</th>\n",
       "      <th>SIZE</th>\n",
       "      <th>WEIGHT</th>\n",
       "      <th>HARDNESS</th>\n",
       "      <th>OUTCOME</th>\n",
       "    </tr>\n",
       "  </thead>\n",
       "  <tbody>\n",
       "    <tr>\n",
       "      <td>0</td>\n",
       "      <td>Red</td>\n",
       "      <td>S</td>\n",
       "      <td>200</td>\n",
       "      <td>hard</td>\n",
       "      <td>1</td>\n",
       "    </tr>\n",
       "    <tr>\n",
       "      <td>1</td>\n",
       "      <td>Yellow</td>\n",
       "      <td>M</td>\n",
       "      <td>100</td>\n",
       "      <td>soft</td>\n",
       "      <td>2</td>\n",
       "    </tr>\n",
       "    <tr>\n",
       "      <td>2</td>\n",
       "      <td>Red</td>\n",
       "      <td>L</td>\n",
       "      <td>300</td>\n",
       "      <td>medium</td>\n",
       "      <td>0</td>\n",
       "    </tr>\n",
       "    <tr>\n",
       "      <td>3</td>\n",
       "      <td>Red</td>\n",
       "      <td>S</td>\n",
       "      <td>300</td>\n",
       "      <td>hard</td>\n",
       "      <td>0</td>\n",
       "    </tr>\n",
       "    <tr>\n",
       "      <td>4</td>\n",
       "      <td>Blue</td>\n",
       "      <td>S</td>\n",
       "      <td>300</td>\n",
       "      <td>soft</td>\n",
       "      <td>0</td>\n",
       "    </tr>\n",
       "  </tbody>\n",
       "</table>\n",
       "</div>"
      ],
      "text/plain": [
       "    COLOR SIZE  WEIGHT HARDNESS  OUTCOME\n",
       "0     Red    S     200     hard        1\n",
       "1  Yellow    M     100     soft        2\n",
       "2     Red    L     300   medium        0\n",
       "3     Red    S     300     hard        0\n",
       "4    Blue    S     300     soft        0"
      ]
     },
     "execution_count": 17,
     "metadata": {},
     "output_type": "execute_result"
    }
   ],
   "source": [
    "df = pd.DataFrame({\n",
    "        \"COLOR\" : [\"Red\", \"Yellow\", \"Red\", \"Red\", \"Blue\"],\n",
    "        \"SIZE\" : [\"S\", \"M\", \"L\", \"S\", \"S\"],\n",
    "        \"WEIGHT\" : [200, 100, 300, 300, 300],\n",
    "        \"HARDNESS\" : [\"hard\", \"soft\", \"medium\", \"hard\", \"soft\"],\n",
    "        \"OUTCOME\" : [1,2,0,0,0] })\n",
    "df"
   ]
  },
  {
   "cell_type": "code",
   "execution_count": 18,
   "metadata": {},
   "outputs": [],
   "source": [
    "# 説明変数X と 目的変数Yに分ける\n",
    "df_X = df[[\"COLOR\", \"SIZE\", \"WEIGHT\",\"HARDNESS\"]].copy()\n",
    "df_Y = df[[\"OUTCOME\"]].copy()"
   ]
  },
  {
   "cell_type": "code",
   "execution_count": 19,
   "metadata": {},
   "outputs": [
    {
     "data": {
      "text/html": [
       "<div>\n",
       "<style scoped>\n",
       "    .dataframe tbody tr th:only-of-type {\n",
       "        vertical-align: middle;\n",
       "    }\n",
       "\n",
       "    .dataframe tbody tr th {\n",
       "        vertical-align: top;\n",
       "    }\n",
       "\n",
       "    .dataframe thead th {\n",
       "        text-align: right;\n",
       "    }\n",
       "</style>\n",
       "<table border=\"1\" class=\"dataframe\">\n",
       "  <thead>\n",
       "    <tr style=\"text-align: right;\">\n",
       "      <th></th>\n",
       "      <th>COLOR</th>\n",
       "      <th>SIZE</th>\n",
       "      <th>WEIGHT</th>\n",
       "      <th>HARDNESS</th>\n",
       "    </tr>\n",
       "  </thead>\n",
       "  <tbody>\n",
       "    <tr>\n",
       "      <td>0</td>\n",
       "      <td>Red</td>\n",
       "      <td>S</td>\n",
       "      <td>200</td>\n",
       "      <td>hard</td>\n",
       "    </tr>\n",
       "    <tr>\n",
       "      <td>1</td>\n",
       "      <td>Yellow</td>\n",
       "      <td>M</td>\n",
       "      <td>100</td>\n",
       "      <td>soft</td>\n",
       "    </tr>\n",
       "    <tr>\n",
       "      <td>2</td>\n",
       "      <td>Red</td>\n",
       "      <td>L</td>\n",
       "      <td>300</td>\n",
       "      <td>medium</td>\n",
       "    </tr>\n",
       "    <tr>\n",
       "      <td>3</td>\n",
       "      <td>Green</td>\n",
       "      <td>XL</td>\n",
       "      <td>400</td>\n",
       "      <td>maxhard</td>\n",
       "    </tr>\n",
       "  </tbody>\n",
       "</table>\n",
       "</div>"
      ],
      "text/plain": [
       "    COLOR SIZE  WEIGHT HARDNESS\n",
       "0     Red    S     200     hard\n",
       "1  Yellow    M     100     soft\n",
       "2     Red    L     300   medium\n",
       "3   Green   XL     400  maxhard"
      ]
     },
     "execution_count": 19,
     "metadata": {},
     "output_type": "execute_result"
    }
   ],
   "source": [
    "df_X_test = pd.DataFrame({\n",
    "        \"COLOR\" : [\"Red\", \"Yellow\", \"Red\", \"Green\"],\n",
    "        \"SIZE\" : [\"S\", \"M\", \"L\", \"XL\", ],\n",
    "        \"WEIGHT\" : [200, 100, 300, 400],\n",
    "        \"HARDNESS\" : [\"hard\", \"soft\", \"medium\", \"maxhard\"] })\n",
    "df_X_test"
   ]
  },
  {
   "cell_type": "code",
   "execution_count": null,
   "metadata": {},
   "outputs": [],
   "source": []
  },
  {
   "cell_type": "markdown",
   "metadata": {},
   "source": [
    "- エンコードしてみる"
   ]
  },
  {
   "cell_type": "code",
   "execution_count": 23,
   "metadata": {},
   "outputs": [
    {
     "name": "stdout",
     "output_type": "stream",
     "text": [
      "エンコード前\n"
     ]
    },
    {
     "data": {
      "text/html": [
       "<div>\n",
       "<style scoped>\n",
       "    .dataframe tbody tr th:only-of-type {\n",
       "        vertical-align: middle;\n",
       "    }\n",
       "\n",
       "    .dataframe tbody tr th {\n",
       "        vertical-align: top;\n",
       "    }\n",
       "\n",
       "    .dataframe thead th {\n",
       "        text-align: right;\n",
       "    }\n",
       "</style>\n",
       "<table border=\"1\" class=\"dataframe\">\n",
       "  <thead>\n",
       "    <tr style=\"text-align: right;\">\n",
       "      <th></th>\n",
       "      <th>COLOR</th>\n",
       "      <th>SIZE</th>\n",
       "      <th>WEIGHT</th>\n",
       "      <th>HARDNESS</th>\n",
       "    </tr>\n",
       "  </thead>\n",
       "  <tbody>\n",
       "    <tr>\n",
       "      <td>0</td>\n",
       "      <td>Red</td>\n",
       "      <td>S</td>\n",
       "      <td>200</td>\n",
       "      <td>hard</td>\n",
       "    </tr>\n",
       "    <tr>\n",
       "      <td>1</td>\n",
       "      <td>Yellow</td>\n",
       "      <td>M</td>\n",
       "      <td>100</td>\n",
       "      <td>soft</td>\n",
       "    </tr>\n",
       "    <tr>\n",
       "      <td>2</td>\n",
       "      <td>Red</td>\n",
       "      <td>L</td>\n",
       "      <td>300</td>\n",
       "      <td>medium</td>\n",
       "    </tr>\n",
       "    <tr>\n",
       "      <td>3</td>\n",
       "      <td>Red</td>\n",
       "      <td>S</td>\n",
       "      <td>300</td>\n",
       "      <td>hard</td>\n",
       "    </tr>\n",
       "    <tr>\n",
       "      <td>4</td>\n",
       "      <td>Blue</td>\n",
       "      <td>S</td>\n",
       "      <td>300</td>\n",
       "      <td>soft</td>\n",
       "    </tr>\n",
       "  </tbody>\n",
       "</table>\n",
       "</div>"
      ],
      "text/plain": [
       "    COLOR SIZE  WEIGHT HARDNESS\n",
       "0     Red    S     200     hard\n",
       "1  Yellow    M     100     soft\n",
       "2     Red    L     300   medium\n",
       "3     Red    S     300     hard\n",
       "4    Blue    S     300     soft"
      ]
     },
     "metadata": {},
     "output_type": "display_data"
    },
    {
     "name": "stdout",
     "output_type": "stream",
     "text": [
      "エンコード後\n"
     ]
    },
    {
     "data": {
      "text/html": [
       "<div>\n",
       "<style scoped>\n",
       "    .dataframe tbody tr th:only-of-type {\n",
       "        vertical-align: middle;\n",
       "    }\n",
       "\n",
       "    .dataframe tbody tr th {\n",
       "        vertical-align: top;\n",
       "    }\n",
       "\n",
       "    .dataframe thead th {\n",
       "        text-align: right;\n",
       "    }\n",
       "</style>\n",
       "<table border=\"1\" class=\"dataframe\">\n",
       "  <thead>\n",
       "    <tr style=\"text-align: right;\">\n",
       "      <th></th>\n",
       "      <th>COLOR</th>\n",
       "      <th>SIZE</th>\n",
       "      <th>WEIGHT</th>\n",
       "      <th>HARDNESS</th>\n",
       "    </tr>\n",
       "  </thead>\n",
       "  <tbody>\n",
       "    <tr>\n",
       "      <td>0</td>\n",
       "      <td>1</td>\n",
       "      <td>2</td>\n",
       "      <td>1</td>\n",
       "      <td>0</td>\n",
       "    </tr>\n",
       "    <tr>\n",
       "      <td>1</td>\n",
       "      <td>2</td>\n",
       "      <td>1</td>\n",
       "      <td>0</td>\n",
       "      <td>2</td>\n",
       "    </tr>\n",
       "    <tr>\n",
       "      <td>2</td>\n",
       "      <td>1</td>\n",
       "      <td>0</td>\n",
       "      <td>2</td>\n",
       "      <td>1</td>\n",
       "    </tr>\n",
       "    <tr>\n",
       "      <td>3</td>\n",
       "      <td>1</td>\n",
       "      <td>2</td>\n",
       "      <td>2</td>\n",
       "      <td>0</td>\n",
       "    </tr>\n",
       "    <tr>\n",
       "      <td>4</td>\n",
       "      <td>0</td>\n",
       "      <td>2</td>\n",
       "      <td>2</td>\n",
       "      <td>2</td>\n",
       "    </tr>\n",
       "  </tbody>\n",
       "</table>\n",
       "</div>"
      ],
      "text/plain": [
       "   COLOR  SIZE  WEIGHT  HARDNESS\n",
       "0      1     2       1         0\n",
       "1      2     1       0         2\n",
       "2      1     0       2         1\n",
       "3      1     2       2         0\n",
       "4      0     2       2         2"
      ]
     },
     "metadata": {},
     "output_type": "display_data"
    }
   ],
   "source": [
    "print(\"エンコード前\")\n",
    "display(df_X)\n",
    "\n",
    "print(\"エンコード後\")\n",
    "from sklearn.preprocessing import LabelEncoder\n",
    "le = LabelEncoder()\n",
    "\n",
    "# 1列ずつSeriesにしてエンコード\n",
    "df_X_le = pd.DataFrame({\n",
    "    \"COLOR\" : le.fit_transform(df_X[\"COLOR\"]),\n",
    "    \"SIZE\"  : le.fit_transform(df_X[\"SIZE\"]),\n",
    "    \"WEIGHT\"  : le.fit_transform(df_X[\"WEIGHT\"]),\n",
    "    \"HARDNESS\"  : le.fit_transform(df_X[\"HARDNESS\"]),\n",
    "})\n",
    "display(df_X_le)"
   ]
  },
  {
   "cell_type": "markdown",
   "metadata": {},
   "source": [
    "- 並び順の指定"
   ]
  },
  {
   "cell_type": "code",
   "execution_count": 24,
   "metadata": {},
   "outputs": [
    {
     "name": "stdout",
     "output_type": "stream",
     "text": [
      "エンコード前\n"
     ]
    },
    {
     "data": {
      "text/html": [
       "<div>\n",
       "<style scoped>\n",
       "    .dataframe tbody tr th:only-of-type {\n",
       "        vertical-align: middle;\n",
       "    }\n",
       "\n",
       "    .dataframe tbody tr th {\n",
       "        vertical-align: top;\n",
       "    }\n",
       "\n",
       "    .dataframe thead th {\n",
       "        text-align: right;\n",
       "    }\n",
       "</style>\n",
       "<table border=\"1\" class=\"dataframe\">\n",
       "  <thead>\n",
       "    <tr style=\"text-align: right;\">\n",
       "      <th></th>\n",
       "      <th>HARDNESS</th>\n",
       "    </tr>\n",
       "  </thead>\n",
       "  <tbody>\n",
       "    <tr>\n",
       "      <td>0</td>\n",
       "      <td>2_hard</td>\n",
       "    </tr>\n",
       "    <tr>\n",
       "      <td>1</td>\n",
       "      <td>0_soft</td>\n",
       "    </tr>\n",
       "    <tr>\n",
       "      <td>2</td>\n",
       "      <td>1_medium</td>\n",
       "    </tr>\n",
       "    <tr>\n",
       "      <td>3</td>\n",
       "      <td>2_hard</td>\n",
       "    </tr>\n",
       "    <tr>\n",
       "      <td>4</td>\n",
       "      <td>0_soft</td>\n",
       "    </tr>\n",
       "  </tbody>\n",
       "</table>\n",
       "</div>"
      ],
      "text/plain": [
       "   HARDNESS\n",
       "0    2_hard\n",
       "1    0_soft\n",
       "2  1_medium\n",
       "3    2_hard\n",
       "4    0_soft"
      ]
     },
     "metadata": {},
     "output_type": "display_data"
    },
    {
     "name": "stdout",
     "output_type": "stream",
     "text": [
      "エンコード後\n"
     ]
    },
    {
     "data": {
      "text/html": [
       "<div>\n",
       "<style scoped>\n",
       "    .dataframe tbody tr th:only-of-type {\n",
       "        vertical-align: middle;\n",
       "    }\n",
       "\n",
       "    .dataframe tbody tr th {\n",
       "        vertical-align: top;\n",
       "    }\n",
       "\n",
       "    .dataframe thead th {\n",
       "        text-align: right;\n",
       "    }\n",
       "</style>\n",
       "<table border=\"1\" class=\"dataframe\">\n",
       "  <thead>\n",
       "    <tr style=\"text-align: right;\">\n",
       "      <th></th>\n",
       "      <th>HARDNESS</th>\n",
       "    </tr>\n",
       "  </thead>\n",
       "  <tbody>\n",
       "    <tr>\n",
       "      <td>0</td>\n",
       "      <td>2</td>\n",
       "    </tr>\n",
       "    <tr>\n",
       "      <td>1</td>\n",
       "      <td>0</td>\n",
       "    </tr>\n",
       "    <tr>\n",
       "      <td>2</td>\n",
       "      <td>1</td>\n",
       "    </tr>\n",
       "    <tr>\n",
       "      <td>3</td>\n",
       "      <td>2</td>\n",
       "    </tr>\n",
       "    <tr>\n",
       "      <td>4</td>\n",
       "      <td>0</td>\n",
       "    </tr>\n",
       "  </tbody>\n",
       "</table>\n",
       "</div>"
      ],
      "text/plain": [
       "   HARDNESS\n",
       "0         2\n",
       "1         0\n",
       "2         1\n",
       "3         2\n",
       "4         0"
      ]
     },
     "metadata": {},
     "output_type": "display_data"
    }
   ],
   "source": [
    "# 数値のマッピングは、元の値の昇順ぽいので\n",
    "# 自分で指定したいときは、接頭語つけてあげればいい\n",
    "df_X_tmp = df_X.copy()\n",
    "df_X_tmp[\"HARDNESS\"] = df_X_tmp[\"HARDNESS\"].mask(df_X_tmp[\"HARDNESS\"]==\"hard\",   \"2_hard\")\n",
    "df_X_tmp[\"HARDNESS\"] = df_X_tmp[\"HARDNESS\"].mask(df_X_tmp[\"HARDNESS\"]==\"medium\", \"1_medium\")\n",
    "df_X_tmp[\"HARDNESS\"] = df_X_tmp[\"HARDNESS\"].mask(df_X_tmp[\"HARDNESS\"]==\"soft\",   \"0_soft\")\n",
    "\n",
    "print(\"エンコード前\")\n",
    "display(df_X_tmp[[\"HARDNESS\"]])\n",
    "\n",
    "print(\"エンコード後\")\n",
    "le = LabelEncoder()\n",
    "\n",
    "# 1列ずつSeriesにしてエンコード\n",
    "df_X_le = pd.DataFrame({\n",
    "    \"HARDNESS\"  : le.fit_transform(df_X_tmp[\"HARDNESS\"]),\n",
    "})\n",
    "display(df_X_le)"
   ]
  },
  {
   "cell_type": "code",
   "execution_count": null,
   "metadata": {},
   "outputs": [],
   "source": []
  },
  {
   "cell_type": "markdown",
   "metadata": {},
   "source": [
    "- Nanがあると変換できない"
   ]
  },
  {
   "cell_type": "code",
   "execution_count": 25,
   "metadata": {},
   "outputs": [
    {
     "name": "stdout",
     "output_type": "stream",
     "text": [
      "エラー: argument must be a string or number\n"
     ]
    }
   ],
   "source": [
    "# Nanがあると変換できない\n",
    "df_X_tmp = pd.DataFrame({\n",
    "        \"COLOR\" : [\"Red\", \"Yellow\", \"Red\", np.nan, \"Blue\"],\n",
    "        \"HARDNESS\" : [\"hard\", np.nan, \"medium\", \"hard\", \"soft\"] })\n",
    "\n",
    "#print(\"エンコード前\")\n",
    "#display(df_X_tmp)\n",
    "\n",
    "#print(\"エンコード後\")\n",
    "#le = LabelEncoder()\n",
    "\n",
    "try:\n",
    "    # 1列ずつSeriesにしてエンコード\n",
    "    df_X_le = pd.DataFrame({\n",
    "        \"COLOR\" : le.fit_transform(df_X_tmp[\"COLOR\"]),\n",
    "        \"HARDNESS\"  : le.fit_transform(df_X_tmp[\"HARDNESS\"]),\n",
    "    })\n",
    "    display(df_X_le)\n",
    "\n",
    "except TypeError as e:\n",
    "    print(\"エラー:\", e)"
   ]
  },
  {
   "cell_type": "code",
   "execution_count": null,
   "metadata": {},
   "outputs": [],
   "source": []
  },
  {
   "cell_type": "markdown",
   "metadata": {},
   "source": [
    "- fit時にはなかった値があるとtransfromでエラー"
   ]
  },
  {
   "cell_type": "code",
   "execution_count": 26,
   "metadata": {},
   "outputs": [
    {
     "name": "stdout",
     "output_type": "stream",
     "text": [
      "エンコード前\n"
     ]
    },
    {
     "data": {
      "text/plain": [
       "0       Red\n",
       "1    Yellow\n",
       "2       Red\n",
       "3     Green\n",
       "Name: COLOR, dtype: object"
      ]
     },
     "metadata": {},
     "output_type": "display_data"
    },
    {
     "name": "stdout",
     "output_type": "stream",
     "text": [
      "エンコード後\n",
      "エラー: y contains previously unseen labels: 'Green'\n"
     ]
    }
   ],
   "source": [
    "# fit時にはなかった値があるとtransfromでエラー\n",
    "print(\"エンコード前\")\n",
    "display(df_X_test[\"COLOR\"])\n",
    "\n",
    "print(\"エンコード後\")\n",
    "le = LabelEncoder()\n",
    "\n",
    "# 1列ずつSeriesにしてエンコード\n",
    "le.fit(df_X[\"COLOR\"])\n",
    "try:\n",
    "    le.transform(df_X_test[\"COLOR\"])\n",
    "except ValueError as e:\n",
    "    print(\"エラー:\", e)"
   ]
  },
  {
   "cell_type": "code",
   "execution_count": null,
   "metadata": {},
   "outputs": [],
   "source": []
  }
 ],
 "metadata": {
  "kernelspec": {
   "display_name": "Python 3",
   "language": "python",
   "name": "python3"
  },
  "language_info": {
   "codemirror_mode": {
    "name": "ipython",
    "version": 3
   },
   "file_extension": ".py",
   "mimetype": "text/x-python",
   "name": "python",
   "nbconvert_exporter": "python",
   "pygments_lexer": "ipython3",
   "version": "3.6.5"
  }
 },
 "nbformat": 4,
 "nbformat_minor": 4
}
