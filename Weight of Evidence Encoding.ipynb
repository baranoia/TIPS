{
 "cells": [
  {
   "cell_type": "markdown",
   "metadata": {},
   "source": [
    "Weight of Evidence Encoding を試してみる  \n",
    "https://www.kaggle.com/davidbnn92/weight-of-evidence-encoding  "
   ]
  },
  {
   "cell_type": "markdown",
   "metadata": {},
   "source": [
    "### コンペの説明\n",
    "Categorical Feature Encoding Challenge II  \n",
    "https://www.kaggle.com/c/cat-in-the-dat-ii\n",
    ">あなたのdatにもっと猫を見つけることができますか？  \n",
    "  \n",
    ">私たちは、第1回Cat in the Datコンテストへの参加とエンゲージメントをとても気に入っています。  \n",
    "  \n",
    ">これはそのような一般的なタスクであり、マスターするための重要なスキルであるため、  \n",
    "私たちはカテゴリカルな特徴のみを含むデータセットをまとめました。  \n",
    "  \n",
    ">・binary features バイナリ特徴量  \n",
    "・low- and high-cardinality nominal features 名義特徴量  \n",
    "・low- and high-cardinality ordinal features 順序特徴量  \n",
    "・(potentially) cyclical features 周期的な特徴量  \n",
    ">このフォローアップ・コンペティションでは、  \n",
    "カテゴリカル変数を符号化するという一般的な機械学習タスクでスキルを継続的に構築できるように、  \n",
    "さらにチャレンジングなデータセットを提供します。  \n",
    "  \n",
    ">この課題では、欠落データだけでなく、特徴の相互作用の複雑さも加わります。  \n",
    "  \n",
    ">このPlaygroundコンテストでは、  \n",
    "異なるアルゴリズムの異なるエンコーディング・スキームを試して、  \n",
    "その性能を比較する機会を提供します。  \n",
    "見つけたものをコミュニティで共有することをお勧めします。  \n",
    "  \n",
    ">どうやって始めればいいのか分からない場合は、  \n",
    "Kaggleの機械学習中級コースのカテゴリ変数のセクションをチェックしてみてください。  \n",
    "  \n",
    ">楽しんでください  "
   ]
  },
  {
   "cell_type": "markdown",
   "metadata": {},
   "source": [
    "### データの説明\n",
    ">この競技では、バイナリの対象列の確率[0, 1]を予測することになります。  \n",
    "データには、  \n",
    "binary features バイナリ特徴量(bin_＊)、  \n",
    "nominal features 名義特徴量(nom_＊)、  \n",
    "ordinal features 順序特徴量(ord_＊)の他に、  \n",
    "(潜在的に周期的な)曜日(曜日)と月の特徴量が含まれています。  \n",
    "文字列序列特徴 ord_{3-5} は string.ascii_letters に従って語彙的に順序付けられています。  \n",
    "  \n",
    ">このコンペティションの目的は、  \n",
    "様々な符号化戦略を探求することであるため。  \n",
    "第1回のカテゴリー特徴エンコーディングチャレンジ  \n",
    "(https://www.kaggle.com/c/cat-in-the-dat/data)とは異なり、  \n",
    "このチャレンジのデータには欠落値と特徴の相互作用があります。  \n",
    "  \n",
    ">最初のカテゴリ特徴エンコーディングチャレンジとは異なり  \n",
    "このチャレンジのデータには欠落した値と特徴の相互作用があります。（コンペの説明ここまで）"
   ]
  },
  {
   "cell_type": "code",
   "execution_count": null,
   "metadata": {},
   "outputs": [],
   "source": []
  },
  {
   "cell_type": "markdown",
   "metadata": {},
   "source": [
    "### ノート序文\n",
    ">このノートブックでは、  \n",
    "単純なロジスティック回帰モデルでの Weight of Evidence Encoding (WOEEncoder) の有効性を説明し、  \n",
    "Target Encoding や CatBoost Encoding などの他のターゲットベースのエンコーディングと比較します。  \n",
    "  \n",
    ">結論から言うと、  \n",
    "WOEEncoderは、少なくともバイナリ分類問題に対しては、  \n",
    "Target EncodingやCatboostよりも一般的に優れた性能を発揮します。  \n",
    "WOEEncoderをすべての名目特徴と周期的特徴にキャストすると、  \n",
    "テストセットで78.355%のAUCスコアを得るのに十分で、  \n",
    "TargetEncoderをWOEEncoderで置き換えると、  \n",
    "（caesarlupumのこのノートhttps://www.kaggle.com/caesarlupum/2020-20-lines-target-encoding  \n",
    "やこのノートhttps://www.kaggle.com/muhammad4hmed/easily-get-78-5-accuracyで見られるような）  \n",
    "約78.50%から約78.56%までAUCスコアが改善されました。  \n",
    "  \n",
    ">理論的な説明についてはこの記事を、  \n",
    "https://www.listendata.com/2015/03/weight-of-evidence-woe-and-information.html  \n",
    "ドキュメントについてはカテゴリエンコーダーのこのページを参照してください。  \n",
    "https://contrib.scikit-learn.org/categorical-encoding/woe.html  \n",
    "  \n",
    ">簡潔に言うと、これがカテゴリ特徴量Fで何をするかというと、次のようになります。  \n",
    "・それぞれのユニークな値xに対して、学習セットの対応する行を考慮する  \n",
    "・全体の集合と比較して、これらの行の陽性の割合を計算します。  \n",
    "・全体の集合と比較して、これらの行の負の割合を計算します。  \n",
    "・これらの比率を取る(陽の割合/負の割合)  \n",
    "・その比率の自然対数(log)をとって x に対応する証拠の重みを求め、  \n",
    " 従って WOE(x) は x が正の代表であるか負の代表であるかに応じて正か負かのどちらかになります。  \n",
    "・NaN は handle_missing オプションで、WOE=0 に設定される必要がある\n",
    "\n",
    ">数値的な特徴については、ビンに関しても同じことを行います。  "
   ]
  },
  {
   "cell_type": "code",
   "execution_count": 162,
   "metadata": {},
   "outputs": [
    {
     "name": "stdout",
     "output_type": "stream",
     "text": [
      "postiveが90%,negativeが10%の場合: 2.1972245773362196\n",
      "postiveが70%,negativeが30%の場合: 0.8472978603872037\n",
      "postiveが50%,negativeが50%の場合: 0.0\n",
      "postiveが30%,negativeが70%の場合: -0.8472978603872036\n",
      "postiveが10%,negativeが90%の場合: -2.197224577336219\n"
     ]
    }
   ],
   "source": [
    "# お試し\n",
    "# positveが少なくなるとマイナス\n",
    "import math\n",
    "import pandas as pd\n",
    "print(\"postiveが90%,negativeが10%の場合:\", math.log(0.9/0.1))\n",
    "print(\"postiveが70%,negativeが30%の場合:\", math.log(0.7/0.3))\n",
    "print(\"postiveが50%,negativeが50%の場合:\", math.log(0.5/0.5))\n",
    "print(\"postiveが30%,negativeが70%の場合:\", math.log(0.3/0.7))\n",
    "print(\"postiveが10%,negativeが90%の場合:\", math.log(0.1/0.9))"
   ]
  },
  {
   "cell_type": "code",
   "execution_count": 163,
   "metadata": {},
   "outputs": [],
   "source": [
    "import numpy as np \n",
    " \n",
    "import os\n",
    "\n",
    "from sklearn.linear_model import LogisticRegression\n",
    "from sklearn.model_selection import train_test_split, StratifiedKFold\n",
    "from sklearn.metrics import confusion_matrix, classification_report, roc_auc_score, roc_curve\n",
    "\n",
    "import category_encoders as ce\n",
    "\n",
    "%matplotlib inline\n",
    "import matplotlib.pyplot as plt\n",
    "import seaborn as sns\n",
    "\n",
    "pd.set_option(\"max_columns\",100)"
   ]
  },
  {
   "cell_type": "code",
   "execution_count": 164,
   "metadata": {},
   "outputs": [],
   "source": [
    "test_features = pd.read_csv(\"./cat-in-the-dat-ii/test.csv\")\n",
    "train_set = pd.read_csv(\"./cat-in-the-dat-ii/train.csv\")"
   ]
  },
  {
   "cell_type": "code",
   "execution_count": 165,
   "metadata": {},
   "outputs": [
    {
     "data": {
      "text/html": [
       "<div>\n",
       "<style scoped>\n",
       "    .dataframe tbody tr th:only-of-type {\n",
       "        vertical-align: middle;\n",
       "    }\n",
       "\n",
       "    .dataframe tbody tr th {\n",
       "        vertical-align: top;\n",
       "    }\n",
       "\n",
       "    .dataframe thead th {\n",
       "        text-align: right;\n",
       "    }\n",
       "</style>\n",
       "<table border=\"1\" class=\"dataframe\">\n",
       "  <thead>\n",
       "    <tr style=\"text-align: right;\">\n",
       "      <th></th>\n",
       "      <th>id</th>\n",
       "      <th>bin_0</th>\n",
       "      <th>bin_1</th>\n",
       "      <th>bin_2</th>\n",
       "      <th>bin_3</th>\n",
       "      <th>bin_4</th>\n",
       "      <th>nom_0</th>\n",
       "      <th>nom_1</th>\n",
       "      <th>nom_2</th>\n",
       "      <th>nom_3</th>\n",
       "      <th>nom_4</th>\n",
       "      <th>nom_5</th>\n",
       "      <th>nom_6</th>\n",
       "      <th>nom_7</th>\n",
       "      <th>nom_8</th>\n",
       "      <th>nom_9</th>\n",
       "      <th>ord_0</th>\n",
       "      <th>ord_1</th>\n",
       "      <th>ord_2</th>\n",
       "      <th>ord_3</th>\n",
       "      <th>ord_4</th>\n",
       "      <th>ord_5</th>\n",
       "      <th>day</th>\n",
       "      <th>month</th>\n",
       "      <th>target</th>\n",
       "    </tr>\n",
       "  </thead>\n",
       "  <tbody>\n",
       "    <tr>\n",
       "      <td>0</td>\n",
       "      <td>0</td>\n",
       "      <td>0.0</td>\n",
       "      <td>0.0</td>\n",
       "      <td>0.0</td>\n",
       "      <td>F</td>\n",
       "      <td>N</td>\n",
       "      <td>Red</td>\n",
       "      <td>Trapezoid</td>\n",
       "      <td>Hamster</td>\n",
       "      <td>Russia</td>\n",
       "      <td>Bassoon</td>\n",
       "      <td>de4c57ee2</td>\n",
       "      <td>a64bc7ddf</td>\n",
       "      <td>598080a91</td>\n",
       "      <td>0256c7a4b</td>\n",
       "      <td>02e7c8990</td>\n",
       "      <td>3.0</td>\n",
       "      <td>Contributor</td>\n",
       "      <td>Hot</td>\n",
       "      <td>c</td>\n",
       "      <td>U</td>\n",
       "      <td>Pw</td>\n",
       "      <td>6.0</td>\n",
       "      <td>3.0</td>\n",
       "      <td>0</td>\n",
       "    </tr>\n",
       "    <tr>\n",
       "      <td>1</td>\n",
       "      <td>1</td>\n",
       "      <td>1.0</td>\n",
       "      <td>1.0</td>\n",
       "      <td>0.0</td>\n",
       "      <td>F</td>\n",
       "      <td>Y</td>\n",
       "      <td>Red</td>\n",
       "      <td>Star</td>\n",
       "      <td>Axolotl</td>\n",
       "      <td>NaN</td>\n",
       "      <td>Theremin</td>\n",
       "      <td>2bb3c3e5c</td>\n",
       "      <td>3a3a936e8</td>\n",
       "      <td>1dddb8473</td>\n",
       "      <td>52ead350c</td>\n",
       "      <td>f37df64af</td>\n",
       "      <td>3.0</td>\n",
       "      <td>Grandmaster</td>\n",
       "      <td>Warm</td>\n",
       "      <td>e</td>\n",
       "      <td>X</td>\n",
       "      <td>pE</td>\n",
       "      <td>7.0</td>\n",
       "      <td>7.0</td>\n",
       "      <td>0</td>\n",
       "    </tr>\n",
       "    <tr>\n",
       "      <td>2</td>\n",
       "      <td>2</td>\n",
       "      <td>0.0</td>\n",
       "      <td>1.0</td>\n",
       "      <td>0.0</td>\n",
       "      <td>F</td>\n",
       "      <td>N</td>\n",
       "      <td>Red</td>\n",
       "      <td>NaN</td>\n",
       "      <td>Hamster</td>\n",
       "      <td>Canada</td>\n",
       "      <td>Bassoon</td>\n",
       "      <td>b574c9841</td>\n",
       "      <td>708248125</td>\n",
       "      <td>5ddc9a726</td>\n",
       "      <td>745b909d1</td>\n",
       "      <td>NaN</td>\n",
       "      <td>3.0</td>\n",
       "      <td>NaN</td>\n",
       "      <td>Freezing</td>\n",
       "      <td>n</td>\n",
       "      <td>P</td>\n",
       "      <td>eN</td>\n",
       "      <td>5.0</td>\n",
       "      <td>9.0</td>\n",
       "      <td>0</td>\n",
       "    </tr>\n",
       "  </tbody>\n",
       "</table>\n",
       "</div>"
      ],
      "text/plain": [
       "   id  bin_0  bin_1  bin_2 bin_3 bin_4 nom_0      nom_1    nom_2   nom_3  \\\n",
       "0   0    0.0    0.0    0.0     F     N   Red  Trapezoid  Hamster  Russia   \n",
       "1   1    1.0    1.0    0.0     F     Y   Red       Star  Axolotl     NaN   \n",
       "2   2    0.0    1.0    0.0     F     N   Red        NaN  Hamster  Canada   \n",
       "\n",
       "      nom_4      nom_5      nom_6      nom_7      nom_8      nom_9  ord_0  \\\n",
       "0   Bassoon  de4c57ee2  a64bc7ddf  598080a91  0256c7a4b  02e7c8990    3.0   \n",
       "1  Theremin  2bb3c3e5c  3a3a936e8  1dddb8473  52ead350c  f37df64af    3.0   \n",
       "2   Bassoon  b574c9841  708248125  5ddc9a726  745b909d1        NaN    3.0   \n",
       "\n",
       "         ord_1     ord_2 ord_3 ord_4 ord_5  day  month  target  \n",
       "0  Contributor       Hot     c     U    Pw  6.0    3.0       0  \n",
       "1  Grandmaster      Warm     e     X    pE  7.0    7.0       0  \n",
       "2          NaN  Freezing     n     P    eN  5.0    9.0       0  "
      ]
     },
     "execution_count": 165,
     "metadata": {},
     "output_type": "execute_result"
    }
   ],
   "source": [
    "# binary features バイナリ特徴量(bin_0～4)、  \n",
    "# nominal features 名義特徴量(nom_0～9)、  \n",
    "# ordinal features 順序特徴量(ord_0～5)のほかに\n",
    "# (潜在的に周期的な)曜日(曜日)と月の特徴\n",
    "train_set.head(3)"
   ]
  },
  {
   "cell_type": "code",
   "execution_count": 166,
   "metadata": {},
   "outputs": [
    {
     "data": {
      "text/plain": [
       "0    487677\n",
       "1    112323\n",
       "Name: target, dtype: int64"
      ]
     },
     "metadata": {},
     "output_type": "display_data"
    },
    {
     "data": {
      "text/html": [
       "<div>\n",
       "<style scoped>\n",
       "    .dataframe tbody tr th:only-of-type {\n",
       "        vertical-align: middle;\n",
       "    }\n",
       "\n",
       "    .dataframe tbody tr th {\n",
       "        vertical-align: top;\n",
       "    }\n",
       "\n",
       "    .dataframe thead th {\n",
       "        text-align: right;\n",
       "    }\n",
       "</style>\n",
       "<table border=\"1\" class=\"dataframe\">\n",
       "  <thead>\n",
       "    <tr style=\"text-align: right;\">\n",
       "      <th></th>\n",
       "      <th>count</th>\n",
       "      <th>mean</th>\n",
       "      <th>std</th>\n",
       "      <th>min</th>\n",
       "      <th>25%</th>\n",
       "      <th>50%</th>\n",
       "      <th>75%</th>\n",
       "      <th>max</th>\n",
       "    </tr>\n",
       "  </thead>\n",
       "  <tbody>\n",
       "    <tr>\n",
       "      <td>target</td>\n",
       "      <td>600000.0</td>\n",
       "      <td>0.187205</td>\n",
       "      <td>0.390076</td>\n",
       "      <td>0.0</td>\n",
       "      <td>0.0</td>\n",
       "      <td>0.0</td>\n",
       "      <td>0.0</td>\n",
       "      <td>1.0</td>\n",
       "    </tr>\n",
       "  </tbody>\n",
       "</table>\n",
       "</div>"
      ],
      "text/plain": [
       "           count      mean       std  min  25%  50%  75%  max\n",
       "target  600000.0  0.187205  0.390076  0.0  0.0  0.0  0.0  1.0"
      ]
     },
     "metadata": {},
     "output_type": "display_data"
    }
   ],
   "source": [
    "# ターゲットは 0 or 1\n",
    "display(train_set[\"target\"].value_counts(dropna=False))\n",
    "display(train_set[[\"target\"]].describe().T)"
   ]
  },
  {
   "cell_type": "code",
   "execution_count": 167,
   "metadata": {},
   "outputs": [],
   "source": [
    "train_targets = train_set.target\n",
    "train_features = train_set.drop(['target'], axis=1)"
   ]
  },
  {
   "cell_type": "code",
   "execution_count": 168,
   "metadata": {},
   "outputs": [
    {
     "name": "stdout",
     "output_type": "stream",
     "text": [
      "The percentage of ones in the training target is 18.72%\n"
     ]
    }
   ],
   "source": [
    "# 平均\n",
    "percentage = train_targets.mean() * 100\n",
    "print(\"The percentage of ones in the training target is {:.2f}%\".format(percentage))"
   ]
  },
  {
   "cell_type": "markdown",
   "metadata": {},
   "source": [
    "### EXAMPLE"
   ]
  },
  {
   "cell_type": "code",
   "execution_count": 169,
   "metadata": {},
   "outputs": [],
   "source": [
    "columns = [col for col in train_features.columns if col != 'id']"
   ]
  },
  {
   "cell_type": "code",
   "execution_count": 170,
   "metadata": {},
   "outputs": [],
   "source": [
    "# WOEEncoder\n",
    "woe_encoder = ce.WOEEncoder(cols=columns)\n",
    "# Encode\n",
    "woe_encoded_train = woe_encoder.fit_transform(\n",
    "    train_features[columns], # x\n",
    "    train_targets # y\n",
    ").add_suffix('_woe') # カラム名の後ろに_woeを付ける"
   ]
  },
  {
   "cell_type": "code",
   "execution_count": 171,
   "metadata": {},
   "outputs": [
    {
     "name": "stdout",
     "output_type": "stream",
     "text": [
      "Encode前\n"
     ]
    },
    {
     "data": {
      "text/html": [
       "<div>\n",
       "<style scoped>\n",
       "    .dataframe tbody tr th:only-of-type {\n",
       "        vertical-align: middle;\n",
       "    }\n",
       "\n",
       "    .dataframe tbody tr th {\n",
       "        vertical-align: top;\n",
       "    }\n",
       "\n",
       "    .dataframe thead th {\n",
       "        text-align: right;\n",
       "    }\n",
       "</style>\n",
       "<table border=\"1\" class=\"dataframe\">\n",
       "  <thead>\n",
       "    <tr style=\"text-align: right;\">\n",
       "      <th></th>\n",
       "      <th>bin_0</th>\n",
       "      <th>bin_1</th>\n",
       "      <th>bin_2</th>\n",
       "      <th>bin_3</th>\n",
       "      <th>bin_4</th>\n",
       "      <th>nom_0</th>\n",
       "      <th>nom_1</th>\n",
       "      <th>nom_2</th>\n",
       "      <th>nom_3</th>\n",
       "      <th>nom_4</th>\n",
       "      <th>nom_5</th>\n",
       "      <th>nom_6</th>\n",
       "      <th>nom_7</th>\n",
       "      <th>nom_8</th>\n",
       "      <th>nom_9</th>\n",
       "      <th>ord_0</th>\n",
       "      <th>ord_1</th>\n",
       "      <th>ord_2</th>\n",
       "      <th>ord_3</th>\n",
       "      <th>ord_4</th>\n",
       "      <th>ord_5</th>\n",
       "      <th>day</th>\n",
       "      <th>month</th>\n",
       "    </tr>\n",
       "  </thead>\n",
       "  <tbody>\n",
       "    <tr>\n",
       "      <td>0</td>\n",
       "      <td>0.0</td>\n",
       "      <td>0.0</td>\n",
       "      <td>0.0</td>\n",
       "      <td>F</td>\n",
       "      <td>N</td>\n",
       "      <td>Red</td>\n",
       "      <td>Trapezoid</td>\n",
       "      <td>Hamster</td>\n",
       "      <td>Russia</td>\n",
       "      <td>Bassoon</td>\n",
       "      <td>de4c57ee2</td>\n",
       "      <td>a64bc7ddf</td>\n",
       "      <td>598080a91</td>\n",
       "      <td>0256c7a4b</td>\n",
       "      <td>02e7c8990</td>\n",
       "      <td>3.0</td>\n",
       "      <td>Contributor</td>\n",
       "      <td>Hot</td>\n",
       "      <td>c</td>\n",
       "      <td>U</td>\n",
       "      <td>Pw</td>\n",
       "      <td>6.0</td>\n",
       "      <td>3.0</td>\n",
       "    </tr>\n",
       "    <tr>\n",
       "      <td>1</td>\n",
       "      <td>1.0</td>\n",
       "      <td>1.0</td>\n",
       "      <td>0.0</td>\n",
       "      <td>F</td>\n",
       "      <td>Y</td>\n",
       "      <td>Red</td>\n",
       "      <td>Star</td>\n",
       "      <td>Axolotl</td>\n",
       "      <td>NaN</td>\n",
       "      <td>Theremin</td>\n",
       "      <td>2bb3c3e5c</td>\n",
       "      <td>3a3a936e8</td>\n",
       "      <td>1dddb8473</td>\n",
       "      <td>52ead350c</td>\n",
       "      <td>f37df64af</td>\n",
       "      <td>3.0</td>\n",
       "      <td>Grandmaster</td>\n",
       "      <td>Warm</td>\n",
       "      <td>e</td>\n",
       "      <td>X</td>\n",
       "      <td>pE</td>\n",
       "      <td>7.0</td>\n",
       "      <td>7.0</td>\n",
       "    </tr>\n",
       "    <tr>\n",
       "      <td>2</td>\n",
       "      <td>0.0</td>\n",
       "      <td>1.0</td>\n",
       "      <td>0.0</td>\n",
       "      <td>F</td>\n",
       "      <td>N</td>\n",
       "      <td>Red</td>\n",
       "      <td>NaN</td>\n",
       "      <td>Hamster</td>\n",
       "      <td>Canada</td>\n",
       "      <td>Bassoon</td>\n",
       "      <td>b574c9841</td>\n",
       "      <td>708248125</td>\n",
       "      <td>5ddc9a726</td>\n",
       "      <td>745b909d1</td>\n",
       "      <td>NaN</td>\n",
       "      <td>3.0</td>\n",
       "      <td>NaN</td>\n",
       "      <td>Freezing</td>\n",
       "      <td>n</td>\n",
       "      <td>P</td>\n",
       "      <td>eN</td>\n",
       "      <td>5.0</td>\n",
       "      <td>9.0</td>\n",
       "    </tr>\n",
       "  </tbody>\n",
       "</table>\n",
       "</div>"
      ],
      "text/plain": [
       "   bin_0  bin_1  bin_2 bin_3 bin_4 nom_0      nom_1    nom_2   nom_3  \\\n",
       "0    0.0    0.0    0.0     F     N   Red  Trapezoid  Hamster  Russia   \n",
       "1    1.0    1.0    0.0     F     Y   Red       Star  Axolotl     NaN   \n",
       "2    0.0    1.0    0.0     F     N   Red        NaN  Hamster  Canada   \n",
       "\n",
       "      nom_4      nom_5      nom_6      nom_7      nom_8      nom_9  ord_0  \\\n",
       "0   Bassoon  de4c57ee2  a64bc7ddf  598080a91  0256c7a4b  02e7c8990    3.0   \n",
       "1  Theremin  2bb3c3e5c  3a3a936e8  1dddb8473  52ead350c  f37df64af    3.0   \n",
       "2   Bassoon  b574c9841  708248125  5ddc9a726  745b909d1        NaN    3.0   \n",
       "\n",
       "         ord_1     ord_2 ord_3 ord_4 ord_5  day  month  \n",
       "0  Contributor       Hot     c     U    Pw  6.0    3.0  \n",
       "1  Grandmaster      Warm     e     X    pE  7.0    7.0  \n",
       "2          NaN  Freezing     n     P    eN  5.0    9.0  "
      ]
     },
     "metadata": {},
     "output_type": "display_data"
    },
    {
     "name": "stdout",
     "output_type": "stream",
     "text": [
      "Encode後\n"
     ]
    },
    {
     "data": {
      "text/html": [
       "<div>\n",
       "<style scoped>\n",
       "    .dataframe tbody tr th:only-of-type {\n",
       "        vertical-align: middle;\n",
       "    }\n",
       "\n",
       "    .dataframe tbody tr th {\n",
       "        vertical-align: top;\n",
       "    }\n",
       "\n",
       "    .dataframe thead th {\n",
       "        text-align: right;\n",
       "    }\n",
       "</style>\n",
       "<table border=\"1\" class=\"dataframe\">\n",
       "  <thead>\n",
       "    <tr style=\"text-align: right;\">\n",
       "      <th></th>\n",
       "      <th>bin_0_woe</th>\n",
       "      <th>bin_1_woe</th>\n",
       "      <th>bin_2_woe</th>\n",
       "      <th>bin_3_woe</th>\n",
       "      <th>bin_4_woe</th>\n",
       "      <th>nom_0_woe</th>\n",
       "      <th>nom_1_woe</th>\n",
       "      <th>nom_2_woe</th>\n",
       "      <th>nom_3_woe</th>\n",
       "      <th>nom_4_woe</th>\n",
       "      <th>nom_5_woe</th>\n",
       "      <th>nom_6_woe</th>\n",
       "      <th>nom_7_woe</th>\n",
       "      <th>nom_8_woe</th>\n",
       "      <th>nom_9_woe</th>\n",
       "      <th>ord_0_woe</th>\n",
       "      <th>ord_1_woe</th>\n",
       "      <th>ord_2_woe</th>\n",
       "      <th>ord_3_woe</th>\n",
       "      <th>ord_4_woe</th>\n",
       "      <th>ord_5_woe</th>\n",
       "      <th>day_woe</th>\n",
       "      <th>month_woe</th>\n",
       "    </tr>\n",
       "  </thead>\n",
       "  <tbody>\n",
       "    <tr>\n",
       "      <td>0</td>\n",
       "      <td>0.048344</td>\n",
       "      <td>0.021896</td>\n",
       "      <td>-0.109369</td>\n",
       "      <td>-0.002853</td>\n",
       "      <td>-0.046488</td>\n",
       "      <td>-0.027431</td>\n",
       "      <td>0.234185</td>\n",
       "      <td>-0.131479</td>\n",
       "      <td>0.199906</td>\n",
       "      <td>0.127457</td>\n",
       "      <td>0.150344</td>\n",
       "      <td>-0.141177</td>\n",
       "      <td>-0.688260</td>\n",
       "      <td>-0.441818</td>\n",
       "      <td>-0.135446</td>\n",
       "      <td>0.314361</td>\n",
       "      <td>-0.096404</td>\n",
       "      <td>0.114060</td>\n",
       "      <td>-0.586839</td>\n",
       "      <td>0.219733</td>\n",
       "      <td>-0.316115</td>\n",
       "      <td>0.080953</td>\n",
       "      <td>-0.294371</td>\n",
       "    </tr>\n",
       "    <tr>\n",
       "      <td>1</td>\n",
       "      <td>-0.588414</td>\n",
       "      <td>-0.101291</td>\n",
       "      <td>-0.109369</td>\n",
       "      <td>-0.002853</td>\n",
       "      <td>0.052375</td>\n",
       "      <td>-0.027431</td>\n",
       "      <td>-0.430458</td>\n",
       "      <td>0.088878</td>\n",
       "      <td>-0.008637</td>\n",
       "      <td>-0.050968</td>\n",
       "      <td>0.047834</td>\n",
       "      <td>0.096111</td>\n",
       "      <td>-0.440078</td>\n",
       "      <td>0.066273</td>\n",
       "      <td>-0.234267</td>\n",
       "      <td>0.314361</td>\n",
       "      <td>0.274988</td>\n",
       "      <td>-0.079506</td>\n",
       "      <td>-0.384647</td>\n",
       "      <td>0.281077</td>\n",
       "      <td>0.299172</td>\n",
       "      <td>0.158142</td>\n",
       "      <td>0.139136</td>\n",
       "    </tr>\n",
       "    <tr>\n",
       "      <td>2</td>\n",
       "      <td>0.048344</td>\n",
       "      <td>-0.101291</td>\n",
       "      <td>-0.109369</td>\n",
       "      <td>-0.002853</td>\n",
       "      <td>-0.046488</td>\n",
       "      <td>-0.027431</td>\n",
       "      <td>-0.028966</td>\n",
       "      <td>-0.131479</td>\n",
       "      <td>-0.190902</td>\n",
       "      <td>0.127457</td>\n",
       "      <td>-0.033269</td>\n",
       "      <td>-0.155488</td>\n",
       "      <td>0.437258</td>\n",
       "      <td>-0.097937</td>\n",
       "      <td>0.004441</td>\n",
       "      <td>0.314361</td>\n",
       "      <td>0.001537</td>\n",
       "      <td>-0.412874</td>\n",
       "      <td>0.569908</td>\n",
       "      <td>0.088321</td>\n",
       "      <td>0.136851</td>\n",
       "      <td>-0.163834</td>\n",
       "      <td>0.153646</td>\n",
       "    </tr>\n",
       "  </tbody>\n",
       "</table>\n",
       "</div>"
      ],
      "text/plain": [
       "   bin_0_woe  bin_1_woe  bin_2_woe  bin_3_woe  bin_4_woe  nom_0_woe  \\\n",
       "0   0.048344   0.021896  -0.109369  -0.002853  -0.046488  -0.027431   \n",
       "1  -0.588414  -0.101291  -0.109369  -0.002853   0.052375  -0.027431   \n",
       "2   0.048344  -0.101291  -0.109369  -0.002853  -0.046488  -0.027431   \n",
       "\n",
       "   nom_1_woe  nom_2_woe  nom_3_woe  nom_4_woe  nom_5_woe  nom_6_woe  \\\n",
       "0   0.234185  -0.131479   0.199906   0.127457   0.150344  -0.141177   \n",
       "1  -0.430458   0.088878  -0.008637  -0.050968   0.047834   0.096111   \n",
       "2  -0.028966  -0.131479  -0.190902   0.127457  -0.033269  -0.155488   \n",
       "\n",
       "   nom_7_woe  nom_8_woe  nom_9_woe  ord_0_woe  ord_1_woe  ord_2_woe  \\\n",
       "0  -0.688260  -0.441818  -0.135446   0.314361  -0.096404   0.114060   \n",
       "1  -0.440078   0.066273  -0.234267   0.314361   0.274988  -0.079506   \n",
       "2   0.437258  -0.097937   0.004441   0.314361   0.001537  -0.412874   \n",
       "\n",
       "   ord_3_woe  ord_4_woe  ord_5_woe   day_woe  month_woe  \n",
       "0  -0.586839   0.219733  -0.316115  0.080953  -0.294371  \n",
       "1  -0.384647   0.281077   0.299172  0.158142   0.139136  \n",
       "2   0.569908   0.088321   0.136851 -0.163834   0.153646  "
      ]
     },
     "metadata": {},
     "output_type": "display_data"
    }
   ],
   "source": [
    "print(\"Encode前\")\n",
    "display(train_features[columns].head(3))\n",
    "print(\"Encode後\")\n",
    "display(woe_encoded_train.head(3))"
   ]
  },
  {
   "cell_type": "code",
   "execution_count": 172,
   "metadata": {},
   "outputs": [
    {
     "data": {
      "text/html": [
       "<div>\n",
       "<style scoped>\n",
       "    .dataframe tbody tr th:only-of-type {\n",
       "        vertical-align: middle;\n",
       "    }\n",
       "\n",
       "    .dataframe tbody tr th {\n",
       "        vertical-align: top;\n",
       "    }\n",
       "\n",
       "    .dataframe thead th {\n",
       "        text-align: right;\n",
       "    }\n",
       "</style>\n",
       "<table border=\"1\" class=\"dataframe\">\n",
       "  <thead>\n",
       "    <tr style=\"text-align: right;\">\n",
       "      <th></th>\n",
       "      <th>id</th>\n",
       "      <th>bin_0</th>\n",
       "      <th>bin_1</th>\n",
       "      <th>bin_2</th>\n",
       "      <th>bin_3</th>\n",
       "      <th>bin_4</th>\n",
       "      <th>nom_0</th>\n",
       "      <th>nom_1</th>\n",
       "      <th>nom_2</th>\n",
       "      <th>nom_3</th>\n",
       "      <th>nom_4</th>\n",
       "      <th>nom_5</th>\n",
       "      <th>nom_6</th>\n",
       "      <th>nom_7</th>\n",
       "      <th>nom_8</th>\n",
       "      <th>nom_9</th>\n",
       "      <th>ord_0</th>\n",
       "      <th>ord_1</th>\n",
       "      <th>ord_2</th>\n",
       "      <th>ord_3</th>\n",
       "      <th>ord_4</th>\n",
       "      <th>ord_5</th>\n",
       "      <th>day</th>\n",
       "      <th>month</th>\n",
       "      <th>bin_0_woe</th>\n",
       "      <th>bin_1_woe</th>\n",
       "      <th>bin_2_woe</th>\n",
       "      <th>bin_3_woe</th>\n",
       "      <th>bin_4_woe</th>\n",
       "      <th>nom_0_woe</th>\n",
       "      <th>nom_1_woe</th>\n",
       "      <th>nom_2_woe</th>\n",
       "      <th>nom_3_woe</th>\n",
       "      <th>nom_4_woe</th>\n",
       "      <th>nom_5_woe</th>\n",
       "      <th>nom_6_woe</th>\n",
       "      <th>nom_7_woe</th>\n",
       "      <th>nom_8_woe</th>\n",
       "      <th>nom_9_woe</th>\n",
       "      <th>ord_0_woe</th>\n",
       "      <th>ord_1_woe</th>\n",
       "      <th>ord_2_woe</th>\n",
       "      <th>ord_3_woe</th>\n",
       "      <th>ord_4_woe</th>\n",
       "      <th>ord_5_woe</th>\n",
       "      <th>day_woe</th>\n",
       "      <th>month_woe</th>\n",
       "    </tr>\n",
       "  </thead>\n",
       "  <tbody>\n",
       "    <tr>\n",
       "      <td>0</td>\n",
       "      <td>0</td>\n",
       "      <td>0.0</td>\n",
       "      <td>0.0</td>\n",
       "      <td>0.0</td>\n",
       "      <td>F</td>\n",
       "      <td>N</td>\n",
       "      <td>Red</td>\n",
       "      <td>Trapezoid</td>\n",
       "      <td>Hamster</td>\n",
       "      <td>Russia</td>\n",
       "      <td>Bassoon</td>\n",
       "      <td>de4c57ee2</td>\n",
       "      <td>a64bc7ddf</td>\n",
       "      <td>598080a91</td>\n",
       "      <td>0256c7a4b</td>\n",
       "      <td>02e7c8990</td>\n",
       "      <td>3.0</td>\n",
       "      <td>Contributor</td>\n",
       "      <td>Hot</td>\n",
       "      <td>c</td>\n",
       "      <td>U</td>\n",
       "      <td>Pw</td>\n",
       "      <td>6.0</td>\n",
       "      <td>3.0</td>\n",
       "      <td>0.048344</td>\n",
       "      <td>0.021896</td>\n",
       "      <td>-0.109369</td>\n",
       "      <td>-0.002853</td>\n",
       "      <td>-0.046488</td>\n",
       "      <td>-0.027431</td>\n",
       "      <td>0.234185</td>\n",
       "      <td>-0.131479</td>\n",
       "      <td>0.199906</td>\n",
       "      <td>0.127457</td>\n",
       "      <td>0.150344</td>\n",
       "      <td>-0.141177</td>\n",
       "      <td>-0.688260</td>\n",
       "      <td>-0.441818</td>\n",
       "      <td>-0.135446</td>\n",
       "      <td>0.314361</td>\n",
       "      <td>-0.096404</td>\n",
       "      <td>0.114060</td>\n",
       "      <td>-0.586839</td>\n",
       "      <td>0.219733</td>\n",
       "      <td>-0.316115</td>\n",
       "      <td>0.080953</td>\n",
       "      <td>-0.294371</td>\n",
       "    </tr>\n",
       "    <tr>\n",
       "      <td>1</td>\n",
       "      <td>1</td>\n",
       "      <td>1.0</td>\n",
       "      <td>1.0</td>\n",
       "      <td>0.0</td>\n",
       "      <td>F</td>\n",
       "      <td>Y</td>\n",
       "      <td>Red</td>\n",
       "      <td>Star</td>\n",
       "      <td>Axolotl</td>\n",
       "      <td>NaN</td>\n",
       "      <td>Theremin</td>\n",
       "      <td>2bb3c3e5c</td>\n",
       "      <td>3a3a936e8</td>\n",
       "      <td>1dddb8473</td>\n",
       "      <td>52ead350c</td>\n",
       "      <td>f37df64af</td>\n",
       "      <td>3.0</td>\n",
       "      <td>Grandmaster</td>\n",
       "      <td>Warm</td>\n",
       "      <td>e</td>\n",
       "      <td>X</td>\n",
       "      <td>pE</td>\n",
       "      <td>7.0</td>\n",
       "      <td>7.0</td>\n",
       "      <td>-0.588414</td>\n",
       "      <td>-0.101291</td>\n",
       "      <td>-0.109369</td>\n",
       "      <td>-0.002853</td>\n",
       "      <td>0.052375</td>\n",
       "      <td>-0.027431</td>\n",
       "      <td>-0.430458</td>\n",
       "      <td>0.088878</td>\n",
       "      <td>-0.008637</td>\n",
       "      <td>-0.050968</td>\n",
       "      <td>0.047834</td>\n",
       "      <td>0.096111</td>\n",
       "      <td>-0.440078</td>\n",
       "      <td>0.066273</td>\n",
       "      <td>-0.234267</td>\n",
       "      <td>0.314361</td>\n",
       "      <td>0.274988</td>\n",
       "      <td>-0.079506</td>\n",
       "      <td>-0.384647</td>\n",
       "      <td>0.281077</td>\n",
       "      <td>0.299172</td>\n",
       "      <td>0.158142</td>\n",
       "      <td>0.139136</td>\n",
       "    </tr>\n",
       "    <tr>\n",
       "      <td>2</td>\n",
       "      <td>2</td>\n",
       "      <td>0.0</td>\n",
       "      <td>1.0</td>\n",
       "      <td>0.0</td>\n",
       "      <td>F</td>\n",
       "      <td>N</td>\n",
       "      <td>Red</td>\n",
       "      <td>NaN</td>\n",
       "      <td>Hamster</td>\n",
       "      <td>Canada</td>\n",
       "      <td>Bassoon</td>\n",
       "      <td>b574c9841</td>\n",
       "      <td>708248125</td>\n",
       "      <td>5ddc9a726</td>\n",
       "      <td>745b909d1</td>\n",
       "      <td>NaN</td>\n",
       "      <td>3.0</td>\n",
       "      <td>NaN</td>\n",
       "      <td>Freezing</td>\n",
       "      <td>n</td>\n",
       "      <td>P</td>\n",
       "      <td>eN</td>\n",
       "      <td>5.0</td>\n",
       "      <td>9.0</td>\n",
       "      <td>0.048344</td>\n",
       "      <td>-0.101291</td>\n",
       "      <td>-0.109369</td>\n",
       "      <td>-0.002853</td>\n",
       "      <td>-0.046488</td>\n",
       "      <td>-0.027431</td>\n",
       "      <td>-0.028966</td>\n",
       "      <td>-0.131479</td>\n",
       "      <td>-0.190902</td>\n",
       "      <td>0.127457</td>\n",
       "      <td>-0.033269</td>\n",
       "      <td>-0.155488</td>\n",
       "      <td>0.437258</td>\n",
       "      <td>-0.097937</td>\n",
       "      <td>0.004441</td>\n",
       "      <td>0.314361</td>\n",
       "      <td>0.001537</td>\n",
       "      <td>-0.412874</td>\n",
       "      <td>0.569908</td>\n",
       "      <td>0.088321</td>\n",
       "      <td>0.136851</td>\n",
       "      <td>-0.163834</td>\n",
       "      <td>0.153646</td>\n",
       "    </tr>\n",
       "  </tbody>\n",
       "</table>\n",
       "</div>"
      ],
      "text/plain": [
       "   id  bin_0  bin_1  bin_2 bin_3 bin_4 nom_0      nom_1    nom_2   nom_3  \\\n",
       "0   0    0.0    0.0    0.0     F     N   Red  Trapezoid  Hamster  Russia   \n",
       "1   1    1.0    1.0    0.0     F     Y   Red       Star  Axolotl     NaN   \n",
       "2   2    0.0    1.0    0.0     F     N   Red        NaN  Hamster  Canada   \n",
       "\n",
       "      nom_4      nom_5      nom_6      nom_7      nom_8      nom_9  ord_0  \\\n",
       "0   Bassoon  de4c57ee2  a64bc7ddf  598080a91  0256c7a4b  02e7c8990    3.0   \n",
       "1  Theremin  2bb3c3e5c  3a3a936e8  1dddb8473  52ead350c  f37df64af    3.0   \n",
       "2   Bassoon  b574c9841  708248125  5ddc9a726  745b909d1        NaN    3.0   \n",
       "\n",
       "         ord_1     ord_2 ord_3 ord_4 ord_5  day  month  bin_0_woe  bin_1_woe  \\\n",
       "0  Contributor       Hot     c     U    Pw  6.0    3.0   0.048344   0.021896   \n",
       "1  Grandmaster      Warm     e     X    pE  7.0    7.0  -0.588414  -0.101291   \n",
       "2          NaN  Freezing     n     P    eN  5.0    9.0   0.048344  -0.101291   \n",
       "\n",
       "   bin_2_woe  bin_3_woe  bin_4_woe  nom_0_woe  nom_1_woe  nom_2_woe  \\\n",
       "0  -0.109369  -0.002853  -0.046488  -0.027431   0.234185  -0.131479   \n",
       "1  -0.109369  -0.002853   0.052375  -0.027431  -0.430458   0.088878   \n",
       "2  -0.109369  -0.002853  -0.046488  -0.027431  -0.028966  -0.131479   \n",
       "\n",
       "   nom_3_woe  nom_4_woe  nom_5_woe  nom_6_woe  nom_7_woe  nom_8_woe  \\\n",
       "0   0.199906   0.127457   0.150344  -0.141177  -0.688260  -0.441818   \n",
       "1  -0.008637  -0.050968   0.047834   0.096111  -0.440078   0.066273   \n",
       "2  -0.190902   0.127457  -0.033269  -0.155488   0.437258  -0.097937   \n",
       "\n",
       "   nom_9_woe  ord_0_woe  ord_1_woe  ord_2_woe  ord_3_woe  ord_4_woe  \\\n",
       "0  -0.135446   0.314361  -0.096404   0.114060  -0.586839   0.219733   \n",
       "1  -0.234267   0.314361   0.274988  -0.079506  -0.384647   0.281077   \n",
       "2   0.004441   0.314361   0.001537  -0.412874   0.569908   0.088321   \n",
       "\n",
       "   ord_5_woe   day_woe  month_woe  \n",
       "0  -0.316115  0.080953  -0.294371  \n",
       "1   0.299172  0.158142   0.139136  \n",
       "2   0.136851 -0.163834   0.153646  "
      ]
     },
     "execution_count": 172,
     "metadata": {},
     "output_type": "execute_result"
    }
   ],
   "source": [
    "# エンコード前のｘ　と　エンコード後のｘ　を連結\n",
    "train_features = train_features.join(woe_encoded_train)\n",
    "train_features.head(3)"
   ]
  },
  {
   "cell_type": "code",
   "execution_count": 173,
   "metadata": {},
   "outputs": [
    {
     "data": {
      "text/plain": [
       "Index(['bin_0_woe', 'bin_1_woe', 'bin_2_woe', 'bin_3_woe', 'bin_4_woe',\n",
       "       'nom_0_woe', 'nom_1_woe', 'nom_2_woe', 'nom_3_woe', 'nom_4_woe',\n",
       "       'nom_5_woe', 'nom_6_woe', 'nom_7_woe', 'nom_8_woe', 'nom_9_woe',\n",
       "       'ord_0_woe', 'ord_1_woe', 'ord_2_woe', 'ord_3_woe', 'ord_4_woe',\n",
       "       'ord_5_woe', 'day_woe', 'month_woe'],\n",
       "      dtype='object')"
      ]
     },
     "execution_count": 173,
     "metadata": {},
     "output_type": "execute_result"
    }
   ],
   "source": [
    "# エンコード後のカラム一覧\n",
    "woe_encoded_cols = woe_encoded_train.columns\n",
    "woe_encoded_cols"
   ]
  },
  {
   "cell_type": "code",
   "execution_count": null,
   "metadata": {},
   "outputs": [],
   "source": []
  },
  {
   "cell_type": "code",
   "execution_count": 174,
   "metadata": {},
   "outputs": [],
   "source": [
    "# Let's see what this does on feature nom_0.\n",
    "# feature nom_0(赤／青／黄が入ってるカラム) で何があったか見てみましょう。"
   ]
  },
  {
   "cell_type": "code",
   "execution_count": 175,
   "metadata": {},
   "outputs": [],
   "source": [
    "df = train_features.copy()\n",
    "df['target'] = train_targets"
   ]
  },
  {
   "cell_type": "code",
   "execution_count": 176,
   "metadata": {},
   "outputs": [
    {
     "data": {
      "text/plain": [
       "112323"
      ]
     },
     "execution_count": 176,
     "metadata": {},
     "output_type": "execute_result"
    }
   ],
   "source": [
    "# y=1 の件数\n",
    "overall_number_of_ones = train_targets.sum()\n",
    "overall_number_of_ones"
   ]
  },
  {
   "cell_type": "code",
   "execution_count": 177,
   "metadata": {},
   "outputs": [
    {
     "data": {
      "text/plain": [
       "487677"
      ]
     },
     "execution_count": 177,
     "metadata": {},
     "output_type": "execute_result"
    }
   ],
   "source": [
    "# y=0 の件数\n",
    "overall_number_of_zeroes = 600000 - overall_number_of_ones\n",
    "overall_number_of_zeroes"
   ]
  },
  {
   "cell_type": "code",
   "execution_count": 178,
   "metadata": {},
   "outputs": [
    {
     "name": "stdout",
     "output_type": "stream",
     "text": [
      "There are 112323 ones and 487677 zeroes in the training set\n"
     ]
    }
   ],
   "source": [
    "print(\"There are {} ones and {} zeroes in the training set\".format(\n",
    "    overall_number_of_ones, overall_number_of_zeroes\n",
    "))"
   ]
  },
  {
   "cell_type": "code",
   "execution_count": null,
   "metadata": {},
   "outputs": [],
   "source": []
  },
  {
   "cell_type": "code",
   "execution_count": 179,
   "metadata": {},
   "outputs": [],
   "source": [
    "# num0（赤／青／黄）毎の各種集計表\n",
    "grouped = pd.DataFrame()"
   ]
  },
  {
   "cell_type": "code",
   "execution_count": 180,
   "metadata": {},
   "outputs": [
    {
     "data": {
      "text/plain": [
       "nom_0\n",
       "Blue     205861\n",
       "Green     52601\n",
       "Red      323286\n",
       "Name: Total, dtype: int64"
      ]
     },
     "execution_count": 180,
     "metadata": {},
     "output_type": "execute_result"
    }
   ],
   "source": [
    "# num0（赤／青／黄）毎のレコード件数(=id件数)\n",
    "grouped['Total'] = df.groupby('nom_0').id.count()\n",
    "grouped['Total']"
   ]
  },
  {
   "cell_type": "code",
   "execution_count": 181,
   "metadata": {},
   "outputs": [
    {
     "data": {
      "text/plain": [
       "nom_0\n",
       "Blue     40300\n",
       "Green     9458\n",
       "Red      59183\n",
       "Name: number of ones, dtype: int64"
      ]
     },
     "execution_count": 181,
     "metadata": {},
     "output_type": "execute_result"
    }
   ],
   "source": [
    "# num0（赤／青／黄）毎の y=1 の件数\n",
    "grouped['number of ones'] = df.groupby('nom_0').target.sum()\n",
    "grouped['number of ones']"
   ]
  },
  {
   "cell_type": "code",
   "execution_count": 182,
   "metadata": {},
   "outputs": [
    {
     "data": {
      "text/plain": [
       "nom_0\n",
       "Blue     165561\n",
       "Green     43143\n",
       "Red      264103\n",
       "Name: number of zeroes, dtype: int64"
      ]
     },
     "execution_count": 182,
     "metadata": {},
     "output_type": "execute_result"
    }
   ],
   "source": [
    "# num0（赤／青／黄）毎の y=0 の件数\n",
    "grouped['number of zeroes'] = grouped['Total'] - grouped['number of ones']\n",
    "grouped['number of zeroes']"
   ]
  },
  {
   "cell_type": "code",
   "execution_count": 183,
   "metadata": {},
   "outputs": [
    {
     "data": {
      "text/plain": [
       "nom_0\n",
       "Blue     0.358787\n",
       "Green    0.084204\n",
       "Red      0.526900\n",
       "Name: percentage of ones, dtype: float64"
      ]
     },
     "execution_count": 183,
     "metadata": {},
     "output_type": "execute_result"
    }
   ],
   "source": [
    "# num0（赤／青／黄）毎の y=1 の割合（y=1の件数／y=1の総件数）\n",
    "grouped['percentage of ones'] = grouped['number of ones'] / overall_number_of_ones\n",
    "grouped['percentage of ones']"
   ]
  },
  {
   "cell_type": "code",
   "execution_count": 184,
   "metadata": {},
   "outputs": [
    {
     "data": {
      "text/plain": [
       "nom_0\n",
       "Blue     0.339489\n",
       "Green    0.088466\n",
       "Red      0.541553\n",
       "Name: percentage of zeroes, dtype: float64"
      ]
     },
     "execution_count": 184,
     "metadata": {},
     "output_type": "execute_result"
    }
   ],
   "source": [
    "# num0（赤／青／黄）毎の y=0 の割合（y=0の件数／y=0の総件数）\n",
    "grouped['percentage of zeroes'] = grouped['number of zeroes'] / overall_number_of_zeroes\n",
    "grouped['percentage of zeroes']"
   ]
  },
  {
   "cell_type": "code",
   "execution_count": 185,
   "metadata": {},
   "outputs": [
    {
     "data": {
      "text/plain": [
       "nom_0\n",
       "Blue      True\n",
       "Green    False\n",
       "Red      False\n",
       "Name: (% ones) > (% zeroes), dtype: bool"
      ]
     },
     "execution_count": 185,
     "metadata": {},
     "output_type": "execute_result"
    }
   ],
   "source": [
    "# num0（赤／青／黄）毎の y=1 の割合 ＞ y=0 の割合\n",
    "grouped['(% ones) > (% zeroes)'] = grouped['percentage of ones'] > grouped['percentage of zeroes']\n",
    "grouped['(% ones) > (% zeroes)']"
   ]
  },
  {
   "cell_type": "code",
   "execution_count": 186,
   "metadata": {},
   "outputs": [
    {
     "data": {
      "text/plain": [
       "nom_0\n",
       "Blue     0.055291\n",
       "Green   -0.049316\n",
       "Red     -0.027431\n",
       "Name: weight of evidence, dtype: float64"
      ]
     },
     "execution_count": 186,
     "metadata": {},
     "output_type": "execute_result"
    }
   ],
   "source": [
    "# num0（赤／青／黄）毎の nom_0_woe（WOEエンコードして得た値）の平均\n",
    "grouped['weight of evidence'] = df.groupby('nom_0').nom_0_woe.mean()\n",
    "grouped['weight of evidence']"
   ]
  },
  {
   "cell_type": "code",
   "execution_count": 187,
   "metadata": {},
   "outputs": [
    {
     "data": {
      "text/html": [
       "<div>\n",
       "<style scoped>\n",
       "    .dataframe tbody tr th:only-of-type {\n",
       "        vertical-align: middle;\n",
       "    }\n",
       "\n",
       "    .dataframe tbody tr th {\n",
       "        vertical-align: top;\n",
       "    }\n",
       "\n",
       "    .dataframe thead th {\n",
       "        text-align: right;\n",
       "    }\n",
       "</style>\n",
       "<table border=\"1\" class=\"dataframe\">\n",
       "  <thead>\n",
       "    <tr style=\"text-align: right;\">\n",
       "      <th></th>\n",
       "      <th>Total</th>\n",
       "      <th>number of ones</th>\n",
       "      <th>number of zeroes</th>\n",
       "      <th>percentage of ones</th>\n",
       "      <th>percentage of zeroes</th>\n",
       "      <th>(% ones) &gt; (% zeroes)</th>\n",
       "      <th>weight of evidence</th>\n",
       "    </tr>\n",
       "    <tr>\n",
       "      <th>nom_0</th>\n",
       "      <th></th>\n",
       "      <th></th>\n",
       "      <th></th>\n",
       "      <th></th>\n",
       "      <th></th>\n",
       "      <th></th>\n",
       "      <th></th>\n",
       "    </tr>\n",
       "  </thead>\n",
       "  <tbody>\n",
       "    <tr>\n",
       "      <td>Blue</td>\n",
       "      <td>205861</td>\n",
       "      <td>40300</td>\n",
       "      <td>165561</td>\n",
       "      <td>0.358787</td>\n",
       "      <td>0.339489</td>\n",
       "      <td>True</td>\n",
       "      <td>0.055291</td>\n",
       "    </tr>\n",
       "    <tr>\n",
       "      <td>Green</td>\n",
       "      <td>52601</td>\n",
       "      <td>9458</td>\n",
       "      <td>43143</td>\n",
       "      <td>0.084204</td>\n",
       "      <td>0.088466</td>\n",
       "      <td>False</td>\n",
       "      <td>-0.049316</td>\n",
       "    </tr>\n",
       "    <tr>\n",
       "      <td>Red</td>\n",
       "      <td>323286</td>\n",
       "      <td>59183</td>\n",
       "      <td>264103</td>\n",
       "      <td>0.526900</td>\n",
       "      <td>0.541553</td>\n",
       "      <td>False</td>\n",
       "      <td>-0.027431</td>\n",
       "    </tr>\n",
       "  </tbody>\n",
       "</table>\n",
       "</div>"
      ],
      "text/plain": [
       "        Total  number of ones  number of zeroes  percentage of ones  \\\n",
       "nom_0                                                                 \n",
       "Blue   205861           40300            165561            0.358787   \n",
       "Green   52601            9458             43143            0.084204   \n",
       "Red    323286           59183            264103            0.526900   \n",
       "\n",
       "       percentage of zeroes  (% ones) > (% zeroes)  weight of evidence  \n",
       "nom_0                                                                   \n",
       "Blue               0.339489                   True            0.055291  \n",
       "Green              0.088466                  False           -0.049316  \n",
       "Red                0.541553                  False           -0.027431  "
      ]
     },
     "execution_count": 187,
     "metadata": {},
     "output_type": "execute_result"
    }
   ],
   "source": [
    "# まとめ\n",
    "grouped"
   ]
  },
  {
   "cell_type": "code",
   "execution_count": 188,
   "metadata": {},
   "outputs": [
    {
     "name": "stdout",
     "output_type": "stream",
     "text": [
      "Blue 0.055286414126023156\n",
      "Green -0.049384583208686314\n",
      "Red -0.027430187941324576\n"
     ]
    }
   ],
   "source": [
    "# log( percentage of ones / percentage of zeroes ) が　weight of evidence　になるっぽい\n",
    "print(\"Blue\", math.log( grouped.loc[\"Blue\"][\"percentage of ones\"] / grouped.loc[\"Blue\"][\"percentage of zeroes\"] ))\n",
    "print(\"Green\", math.log( grouped.loc[\"Green\"][\"percentage of ones\"] / grouped.loc[\"Green\"][\"percentage of zeroes\"] ))\n",
    "print(\"Red\", math.log( grouped.loc[\"Red\"][\"percentage of ones\"] / grouped.loc[\"Red\"][\"percentage of zeroes\"] ))"
   ]
  },
  {
   "cell_type": "code",
   "execution_count": null,
   "metadata": {},
   "outputs": [],
   "source": []
  },
  {
   "cell_type": "code",
   "execution_count": 189,
   "metadata": {},
   "outputs": [],
   "source": [
    "# Let's see what it does on another column.\n",
    "# 別のカラムで見てみましょう。"
   ]
  },
  {
   "cell_type": "code",
   "execution_count": 190,
   "metadata": {},
   "outputs": [
    {
     "data": {
      "text/html": [
       "<div>\n",
       "<style scoped>\n",
       "    .dataframe tbody tr th:only-of-type {\n",
       "        vertical-align: middle;\n",
       "    }\n",
       "\n",
       "    .dataframe tbody tr th {\n",
       "        vertical-align: top;\n",
       "    }\n",
       "\n",
       "    .dataframe thead th {\n",
       "        text-align: right;\n",
       "    }\n",
       "</style>\n",
       "<table border=\"1\" class=\"dataframe\">\n",
       "  <thead>\n",
       "    <tr style=\"text-align: right;\">\n",
       "      <th></th>\n",
       "      <th>Total</th>\n",
       "      <th>number of ones</th>\n",
       "      <th>number of zeroes</th>\n",
       "      <th>percentage of ones</th>\n",
       "      <th>percentage of zeroes</th>\n",
       "      <th>(% ones) &gt; (% zeroes)</th>\n",
       "      <th>weight of evidence</th>\n",
       "    </tr>\n",
       "    <tr>\n",
       "      <th>month</th>\n",
       "      <th></th>\n",
       "      <th></th>\n",
       "      <th></th>\n",
       "      <th></th>\n",
       "      <th></th>\n",
       "      <th></th>\n",
       "      <th></th>\n",
       "    </tr>\n",
       "  </thead>\n",
       "  <tbody>\n",
       "    <tr>\n",
       "      <td>1.0</td>\n",
       "      <td>52154</td>\n",
       "      <td>6352</td>\n",
       "      <td>45802</td>\n",
       "      <td>0.056551</td>\n",
       "      <td>0.093919</td>\n",
       "      <td>False</td>\n",
       "      <td>-0.507162</td>\n",
       "    </tr>\n",
       "    <tr>\n",
       "      <td>2.0</td>\n",
       "      <td>40700</td>\n",
       "      <td>4636</td>\n",
       "      <td>36064</td>\n",
       "      <td>0.041274</td>\n",
       "      <td>0.073951</td>\n",
       "      <td>False</td>\n",
       "      <td>-0.582994</td>\n",
       "    </tr>\n",
       "    <tr>\n",
       "      <td>3.0</td>\n",
       "      <td>70160</td>\n",
       "      <td>10275</td>\n",
       "      <td>59885</td>\n",
       "      <td>0.091477</td>\n",
       "      <td>0.122796</td>\n",
       "      <td>False</td>\n",
       "      <td>-0.294371</td>\n",
       "    </tr>\n",
       "    <tr>\n",
       "      <td>4.0</td>\n",
       "      <td>14614</td>\n",
       "      <td>2389</td>\n",
       "      <td>12225</td>\n",
       "      <td>0.021269</td>\n",
       "      <td>0.025068</td>\n",
       "      <td>False</td>\n",
       "      <td>-0.164011</td>\n",
       "    </tr>\n",
       "    <tr>\n",
       "      <td>5.0</td>\n",
       "      <td>68906</td>\n",
       "      <td>12091</td>\n",
       "      <td>56815</td>\n",
       "      <td>0.107645</td>\n",
       "      <td>0.116501</td>\n",
       "      <td>False</td>\n",
       "      <td>-0.079013</td>\n",
       "    </tr>\n",
       "    <tr>\n",
       "      <td>6.0</td>\n",
       "      <td>60478</td>\n",
       "      <td>13907</td>\n",
       "      <td>46571</td>\n",
       "      <td>0.123813</td>\n",
       "      <td>0.095496</td>\n",
       "      <td>True</td>\n",
       "      <td>0.259726</td>\n",
       "    </tr>\n",
       "    <tr>\n",
       "      <td>7.0</td>\n",
       "      <td>53480</td>\n",
       "      <td>11193</td>\n",
       "      <td>42287</td>\n",
       "      <td>0.099650</td>\n",
       "      <td>0.086711</td>\n",
       "      <td>True</td>\n",
       "      <td>0.139136</td>\n",
       "    </tr>\n",
       "    <tr>\n",
       "      <td>8.0</td>\n",
       "      <td>79245</td>\n",
       "      <td>15064</td>\n",
       "      <td>64181</td>\n",
       "      <td>0.134113</td>\n",
       "      <td>0.131606</td>\n",
       "      <td>True</td>\n",
       "      <td>0.018912</td>\n",
       "    </tr>\n",
       "    <tr>\n",
       "      <td>9.0</td>\n",
       "      <td>20620</td>\n",
       "      <td>4365</td>\n",
       "      <td>16255</td>\n",
       "      <td>0.038861</td>\n",
       "      <td>0.033331</td>\n",
       "      <td>True</td>\n",
       "      <td>0.153646</td>\n",
       "    </tr>\n",
       "    <tr>\n",
       "      <td>10.0</td>\n",
       "      <td>2150</td>\n",
       "      <td>480</td>\n",
       "      <td>1670</td>\n",
       "      <td>0.004273</td>\n",
       "      <td>0.003424</td>\n",
       "      <td>True</td>\n",
       "      <td>0.222951</td>\n",
       "    </tr>\n",
       "    <tr>\n",
       "      <td>11.0</td>\n",
       "      <td>51165</td>\n",
       "      <td>12785</td>\n",
       "      <td>38380</td>\n",
       "      <td>0.113824</td>\n",
       "      <td>0.078700</td>\n",
       "      <td>True</td>\n",
       "      <td>0.369049</td>\n",
       "    </tr>\n",
       "    <tr>\n",
       "      <td>12.0</td>\n",
       "      <td>68340</td>\n",
       "      <td>15434</td>\n",
       "      <td>52906</td>\n",
       "      <td>0.137407</td>\n",
       "      <td>0.108486</td>\n",
       "      <td>True</td>\n",
       "      <td>0.236363</td>\n",
       "    </tr>\n",
       "  </tbody>\n",
       "</table>\n",
       "</div>"
      ],
      "text/plain": [
       "       Total  number of ones  number of zeroes  percentage of ones  \\\n",
       "month                                                                \n",
       "1.0    52154            6352             45802            0.056551   \n",
       "2.0    40700            4636             36064            0.041274   \n",
       "3.0    70160           10275             59885            0.091477   \n",
       "4.0    14614            2389             12225            0.021269   \n",
       "5.0    68906           12091             56815            0.107645   \n",
       "6.0    60478           13907             46571            0.123813   \n",
       "7.0    53480           11193             42287            0.099650   \n",
       "8.0    79245           15064             64181            0.134113   \n",
       "9.0    20620            4365             16255            0.038861   \n",
       "10.0    2150             480              1670            0.004273   \n",
       "11.0   51165           12785             38380            0.113824   \n",
       "12.0   68340           15434             52906            0.137407   \n",
       "\n",
       "       percentage of zeroes  (% ones) > (% zeroes)  weight of evidence  \n",
       "month                                                                   \n",
       "1.0                0.093919                  False           -0.507162  \n",
       "2.0                0.073951                  False           -0.582994  \n",
       "3.0                0.122796                  False           -0.294371  \n",
       "4.0                0.025068                  False           -0.164011  \n",
       "5.0                0.116501                  False           -0.079013  \n",
       "6.0                0.095496                   True            0.259726  \n",
       "7.0                0.086711                   True            0.139136  \n",
       "8.0                0.131606                   True            0.018912  \n",
       "9.0                0.033331                   True            0.153646  \n",
       "10.0               0.003424                   True            0.222951  \n",
       "11.0               0.078700                   True            0.369049  \n",
       "12.0               0.108486                   True            0.236363  "
      ]
     },
     "execution_count": 190,
     "metadata": {},
     "output_type": "execute_result"
    }
   ],
   "source": [
    "# 'month'で同じことを実施\n",
    "grouped = pd.DataFrame()\n",
    "grouped['Total'] = df.groupby('month').id.count()\n",
    "grouped['number of ones'] = df.groupby('month').target.sum()\n",
    "grouped['number of zeroes'] = grouped['Total'] - grouped['number of ones']\n",
    "\n",
    "grouped['percentage of ones'] = grouped['number of ones'] / overall_number_of_ones\n",
    "grouped['percentage of zeroes'] = grouped['number of zeroes'] / overall_number_of_zeroes\n",
    "grouped['(% ones) > (% zeroes)'] = grouped['percentage of ones'] > grouped['percentage of zeroes']\n",
    "\n",
    "grouped['weight of evidence'] = df.groupby('month').month_woe.mean()\n",
    "\n",
    "grouped"
   ]
  },
  {
   "cell_type": "code",
   "execution_count": 191,
   "metadata": {},
   "outputs": [
    {
     "name": "stdout",
     "output_type": "stream",
     "text": [
      "1 -0.5072833822021688\n",
      "2 -0.5831685602378786\n",
      "3 -0.2944376438751899\n"
     ]
    }
   ],
   "source": [
    "# log( percentage of ones / percentage of zeroes ) が　weight of evidence　になるっぽい\n",
    "print(\"1\", math.log( grouped.loc[1][\"percentage of ones\"] / grouped.loc[1][\"percentage of zeroes\"] ))\n",
    "print(\"2\", math.log( grouped.loc[2][\"percentage of ones\"] / grouped.loc[2][\"percentage of zeroes\"] ))\n",
    "print(\"3\", math.log( grouped.loc[3][\"percentage of ones\"] / grouped.loc[3][\"percentage of zeroes\"] ))"
   ]
  },
  {
   "cell_type": "code",
   "execution_count": null,
   "metadata": {},
   "outputs": [],
   "source": []
  },
  {
   "cell_type": "markdown",
   "metadata": {},
   "source": [
    "### Performance comparison with other encoders\n",
    "### 他のエンコーダとの性能比較"
   ]
  },
  {
   "cell_type": "code",
   "execution_count": 192,
   "metadata": {},
   "outputs": [
    {
     "name": "stdout",
     "output_type": "stream",
     "text": [
      "Using Weight of Evidence Encoder\n",
      "Mean accuracy score: 82.462%\n",
      "Mean AUC score: 78.475%\n",
      "\n",
      "Using Target Encoder\n",
      "Mean accuracy score: 82.456%\n",
      "Mean AUC score: 78.414%\n",
      "\n",
      "Using CatBoost Encoder\n",
      "Mean accuracy score: 82.416%\n",
      "Mean AUC score: 78.423%\n"
     ]
    }
   ],
   "source": [
    "# Define helper function\n",
    "# この関数自体は、いま本題じゃないから置いておく\n",
    "# WOEとほかのエンコーダと比べてどうなのかをみたい\n",
    "def logreg_test(cols, encoder):\n",
    "    df = train_features[cols]\n",
    "    \n",
    "    auc_scores = []\n",
    "    acc_scores = []\n",
    "    \n",
    "    skf = StratifiedKFold(n_splits=6, shuffle=True).split(df, train_targets)\n",
    "    for train_id, valid_id in skf:\n",
    "        \n",
    "        enc_tr = encoder.fit_transform(df.iloc[train_id,:], train_targets.iloc[train_id])\n",
    "        enc_val = encoder.transform(df.iloc[valid_id,:])\n",
    "        \n",
    "        regressor = LogisticRegression(solver='lbfgs', max_iter=1000, C=0.6)\n",
    "        regressor.fit(enc_tr, train_targets.iloc[train_id])\n",
    "        \n",
    "        acc_scores.append(regressor.score(enc_val, train_targets.iloc[valid_id]))\n",
    "        probabilities = [pair[1] for pair in regressor.predict_proba(enc_val)]\n",
    "        auc_scores.append(roc_auc_score(train_targets.iloc[valid_id], probabilities))\n",
    "        \n",
    "    acc_scores = pd.Series(acc_scores)\n",
    "    mean_acc = acc_scores.mean() * 100\n",
    "    print(\"Mean accuracy score: {:.3f}%\".format(mean_acc))\n",
    "    \n",
    "    auc_scores = pd.Series(auc_scores)\n",
    "    mean_auc = auc_scores.mean() * 100\n",
    "    print(\"Mean AUC score: {:.3f}%\".format(mean_auc))\n",
    "\n",
    "##########################################\n",
    "print(\"Using Weight of Evidence Encoder\")\n",
    "woe_encoder = ce.WOEEncoder(cols=columns)\n",
    "logreg_test(columns, woe_encoder)\n",
    "\n",
    "##########################################\n",
    "print(\"\\nUsing Target Encoder\")\n",
    "targ_encoder = ce.TargetEncoder(cols=columns, smoothing=0.2)\n",
    "logreg_test(columns, targ_encoder)\n",
    "\n",
    "##########################################\n",
    "print(\"\\nUsing CatBoost Encoder\")\n",
    "cb_encoder = ce.CatBoostEncoder(cols=columns)\n",
    "logreg_test(columns, cb_encoder)"
   ]
  },
  {
   "cell_type": "code",
   "execution_count": 193,
   "metadata": {},
   "outputs": [],
   "source": [
    "##########################################\n",
    "# print(\"\\nUsing OneHotEncoder Encoder\")\n",
    "# oh_encoder = ce.OneHotEncoder(cols=columns)\n",
    "# logreg_test(columns, oh_encoder)\n",
    "# oneHotでもためしてみようと思ったけど激重で返ってこなかったのでパス"
   ]
  },
  {
   "cell_type": "code",
   "execution_count": 194,
   "metadata": {},
   "outputs": [],
   "source": [
    "# Weight of Evidence Encoder,\n",
    "# Target Encoder,\n",
    "# CatBoost Encoderはトントン。 いずれも優秀な模様。"
   ]
  },
  {
   "cell_type": "code",
   "execution_count": 195,
   "metadata": {},
   "outputs": [],
   "source": [
    "# Target Encoder、CatBoost Encoderってどんな？っていうのは置いておく\n",
    "#\n",
    "# http://contrib.scikit-learn.org/category_encoders/targetencoder.html\n",
    "#カテゴリ特徴量のターゲット符号化。\n",
    "#カテゴリターゲットの場合：特徴量は，\n",
    "#特定のカテゴリ値が与えられたターゲットの事後確率と，\n",
    "#すべての学習データにおけるターゲットの事後確率のブレンドで置き換えられます．\n",
    "#連続ターゲットの場合：特徴量は、特定のカテゴリ値が与えられたターゲットの期待値と、\n",
    "#すべての学習データにおけるターゲットの期待値のブレンドで置き換えられます。\n",
    "\n",
    "# http://contrib.scikit-learn.org/category_encoders/targetencoder.html\n",
    "#カテゴリカルフィーチャのための CatBoost 符号化。\n",
    "#これはleave-one-one-out符号化に非常に似ていますが、\n",
    "#値を \"オンザフライ \"で計算します。そのため、学習中に値は自然に変化し、ランダムなノイズを追加する必要はありません。\n",
    "#注意してほしいのは、学習データはランダムに順列化されている必要があるということです。例えば、以下のようになります。\n",
    "# ランダム順列 permutation perm = np.random.permutation(len(X)) \n",
    "#X = X.iloc[perm].reset_index(drop=True)\n",
    "#y = y.iloc[perm].reset_index(drop=True)\n",
    "#これは、いくつかのデータセットが目標値に基づいてソートされているために必要であり、\n",
    "#このコーダは1回のパスでその場で特徴をエンコードします。"
   ]
  },
  {
   "cell_type": "code",
   "execution_count": null,
   "metadata": {},
   "outputs": [],
   "source": []
  },
  {
   "cell_type": "markdown",
   "metadata": {},
   "source": [
    "### Correlation with target\n",
    "### 目標との相関関係"
   ]
  },
  {
   "cell_type": "markdown",
   "metadata": {},
   "source": [
    "Target-encoded features generally show greater correlation with target that WOE-encoded ones.   \n",
    "This is an example where correlation shouldn't be trusted too much as a metric of feature importance.  \n"
   ]
  },
  {
   "cell_type": "markdown",
   "metadata": {},
   "source": [
    "一般的に、Target-encodされた特徴は、WOE-encodされた特徴よりもターゲットとの相関性が高い。  \n",
    "これは、特徴の重要性の指標として相関関係をあまり信用すべきではない例です。"
   ]
  },
  {
   "cell_type": "code",
   "execution_count": 198,
   "metadata": {},
   "outputs": [
    {
     "data": {
      "text/plain": [
       "<matplotlib.axes._subplots.AxesSubplot at 0x20b01969ef0>"
      ]
     },
     "execution_count": 198,
     "metadata": {},
     "output_type": "execute_result"
    },
    {
     "data": {
      "image/png": "[encoded data removed]",
      "text/plain": [
       "<Figure size 1440x1440 with 2 Axes>"
      ]
     },
     "metadata": {
      "needs_background": "light"
     },
     "output_type": "display_data"
    }
   ],
   "source": [
    "# Encode again, this time on the whole training set. WOEE was done above.\n",
    "# 再びエンコードを行い、今回は全体の学習セットに対してエンコードを行います。WOEEは上記のように行われました。\n",
    "\n",
    "# WOEでエンコードしたxは、すでにtrain_featuresに入っている。カラム名の後ろに_woeが付いてる。\n",
    "\n",
    "# TargetEncoderでエンコードしたxを、train_featuresに追加。カラム名の後ろに_targ_encを付ける。\n",
    "encoder = ce.TargetEncoder(cols=columns, smoothing=0.2)\n",
    "encoded_train = encoder.fit_transform(train_features[columns], train_targets).add_suffix('_targ_enc')\n",
    "train_features = train_features.join(encoded_train)\n",
    "\n",
    "# CatBoostEncoderでエンコードエンコードしたxを、train_featuresに追加。カラム名の後ろに_catboostを付ける。\n",
    "encoder = ce.CatBoostEncoder(cols=columns)\n",
    "encoded_train = encoder.fit_transform(train_features[columns], train_targets).add_suffix('_catboost')\n",
    "train_features = train_features.join(encoded_train)\n",
    "\n",
    "# WOEでエンコードしたx\n",
    "# TargetEncoderでエンコードしたx\n",
    "# CatBoostEncoderでエンコードしたx\n",
    "# と y\n",
    "training_set = train_features.copy()\n",
    "training_set['target'] = train_targets\n",
    "\n",
    "# その相関関係\n",
    "corrmat = training_set.corr()\n",
    "\n",
    "# その相関関係のヒートマップ\n",
    "plt.subplots(figsize=(20,20))\n",
    "sns.heatmap(corrmat, vmax=0.9, square=True)"
   ]
  },
  {
   "cell_type": "code",
   "execution_count": null,
   "metadata": {},
   "outputs": [],
   "source": [
    "# 右端のtargetの部分を見ると、各エンコーダであんまり色の違いはない。\n",
    "# どれも0.0～0.25くらいの色。あんまり強い相関とは言えないか\n",
    "# それでも↑でみたような高いAUCを出せているので、相関係数だけみてもダメってことが言いたい？"
   ]
  },
  {
   "cell_type": "code",
   "execution_count": null,
   "metadata": {},
   "outputs": [],
   "source": []
  },
  {
   "cell_type": "code",
   "execution_count": 199,
   "metadata": {},
   "outputs": [
    {
     "data": {
      "image/png": "[encoded data removed]",
      "text/plain": [
       "<Figure size 1440x1440 with 1 Axes>"
      ]
     },
     "metadata": {
      "needs_background": "light"
     },
     "output_type": "display_data"
    }
   ],
   "source": [
    "# 相関関係の強い順のグラフ\n",
    "# 各エンコーダで順位が入り乱れている\n",
    "corr_with_target = corrmat['target'].apply(abs).sort_values(ascending=False)\n",
    "corr_with_target.drop(['target'], inplace=True)\n",
    "df = pd.DataFrame(data={'features': corr_with_target.index, 'target': corr_with_target.values})\n",
    "plt.figure(figsize=(20, 20))\n",
    "sns.barplot(x=\"target\", y=\"features\", data=df)\n",
    "plt.title('Correlation with target')\n",
    "plt.tight_layout()\n",
    "plt.show()"
   ]
  },
  {
   "cell_type": "code",
   "execution_count": null,
   "metadata": {},
   "outputs": [],
   "source": []
  },
  {
   "cell_type": "markdown",
   "metadata": {},
   "source": [
    "### Other remarks gathered from previous notebooks\n",
    "### その他、以前のノートから集めた備考"
   ]
  },
  {
   "cell_type": "markdown",
   "metadata": {},
   "source": [
    "for day and month, both target encoding and WoE encoding   \n",
    "show higher correlation with target than the original labeling and also than the \"trigonometrical\" encoding  \n",
    "日と月については、目標符号化とWoE符号化の両方とも、  \n",
    "元のラベリングよりも目標との相関が高く、  \n",
    "また「三角法」符号化よりも高い相関を示している。  \n",
    "  \n",
    "for binary and ordinal features,   \n",
    "WoE encoding alone showed little improvement with respect to the obvious ordinal encodings  \n",
    "2値特徴と順序特徴については，WoE エンコーディングだけでは，  \n",
    "明らかな順序エンコーディングに対してほとんど改善が見られませんでした．  \n",
    "  \n",
    "Casting WOEEncoder on nominal and cyclical features,   \n",
    "and using ordinal encoding for binary and ordinal features resultedin an AUC score of 0.78355 on the test set  \n",
    "WOEEncoderを名目特徴量と周期的特徴量にキャストし、  \n",
    "2値特徴量と順序特徴量に順序符号化を使用することで、テストセットのAUCスコアは0.78355となりました。  \n",
    "  \n",
    "Casting TargetEncoder on all features resulted in an AUC score of 0.78302 on the test set  \n",
    "全てのフィーチャーにTargetEncoderをキャストすると、テストセットのAUCスコアは0.78302になりました。  "
   ]
  },
  {
   "cell_type": "code",
   "execution_count": null,
   "metadata": {},
   "outputs": [],
   "source": []
  },
  {
   "cell_type": "markdown",
   "metadata": {},
   "source": [
    "### Using stratified WOE encoding for final output\n",
    "### 最終出力に層別化されたWOEエンコーディングを使用する"
   ]
  },
  {
   "cell_type": "code",
   "execution_count": 201,
   "metadata": {},
   "outputs": [
    {
     "data": {
      "text/html": [
       "<div>\n",
       "<style scoped>\n",
       "    .dataframe tbody tr th:only-of-type {\n",
       "        vertical-align: middle;\n",
       "    }\n",
       "\n",
       "    .dataframe tbody tr th {\n",
       "        vertical-align: top;\n",
       "    }\n",
       "\n",
       "    .dataframe thead th {\n",
       "        text-align: right;\n",
       "    }\n",
       "</style>\n",
       "<table border=\"1\" class=\"dataframe\">\n",
       "  <thead>\n",
       "    <tr style=\"text-align: right;\">\n",
       "      <th></th>\n",
       "      <th>id</th>\n",
       "      <th>target</th>\n",
       "    </tr>\n",
       "  </thead>\n",
       "  <tbody>\n",
       "    <tr>\n",
       "      <td>count</td>\n",
       "      <td>400000.000000</td>\n",
       "      <td>400000.000000</td>\n",
       "    </tr>\n",
       "    <tr>\n",
       "      <td>mean</td>\n",
       "      <td>799999.500000</td>\n",
       "      <td>0.186582</td>\n",
       "    </tr>\n",
       "    <tr>\n",
       "      <td>std</td>\n",
       "      <td>115470.198175</td>\n",
       "      <td>0.164785</td>\n",
       "    </tr>\n",
       "    <tr>\n",
       "      <td>min</td>\n",
       "      <td>600000.000000</td>\n",
       "      <td>0.000743</td>\n",
       "    </tr>\n",
       "    <tr>\n",
       "      <td>25%</td>\n",
       "      <td>699999.750000</td>\n",
       "      <td>0.061931</td>\n",
       "    </tr>\n",
       "    <tr>\n",
       "      <td>50%</td>\n",
       "      <td>799999.500000</td>\n",
       "      <td>0.133894</td>\n",
       "    </tr>\n",
       "    <tr>\n",
       "      <td>75%</td>\n",
       "      <td>899999.250000</td>\n",
       "      <td>0.263011</td>\n",
       "    </tr>\n",
       "    <tr>\n",
       "      <td>max</td>\n",
       "      <td>999999.000000</td>\n",
       "      <td>0.955384</td>\n",
       "    </tr>\n",
       "  </tbody>\n",
       "</table>\n",
       "</div>"
      ],
      "text/plain": [
       "                  id         target\n",
       "count  400000.000000  400000.000000\n",
       "mean   799999.500000       0.186582\n",
       "std    115470.198175       0.164785\n",
       "min    600000.000000       0.000743\n",
       "25%    699999.750000       0.061931\n",
       "50%    799999.500000       0.133894\n",
       "75%    899999.250000       0.263011\n",
       "max    999999.000000       0.955384"
      ]
     },
     "execution_count": 201,
     "metadata": {},
     "output_type": "execute_result"
    }
   ],
   "source": [
    "# Encoding training data\n",
    "df = train_features[columns]\n",
    "train_encoded = pd.DataFrame()\n",
    "skf = StratifiedKFold(n_splits=5,shuffle=True).split(df, train_targets)\n",
    "for tr_in,fold_in in skf:\n",
    "    encoder = ce.WOEEncoder(cols=columns)\n",
    "    encoder.fit(df.iloc[tr_in,:], train_targets.iloc[tr_in])\n",
    "    train_encoded = train_encoded.append(encoder.transform(df.iloc[fold_in,:]),ignore_index=False)\n",
    "\n",
    "train_encoded = train_encoded.sort_index()\n",
    "\n",
    "# Encoding test data\n",
    "encoder = ce.WOEEncoder(cols=columns)\n",
    "encoder.fit(df, train_targets)\n",
    "test_encoded = encoder.transform(test_features[columns])\n",
    "\n",
    "# Fitting\n",
    "regressor = LogisticRegression(solver='lbfgs', max_iter=1000, C=0.6)\n",
    "regressor.fit(train_encoded, train_targets)\n",
    "\n",
    "# Predicting\n",
    "probabilities = [pair[1] for pair in regressor.predict_proba(test_encoded)]\n",
    "output = pd.DataFrame({'id': test_features['id'],\n",
    "                       'target': probabilities})\n",
    "output.to_csv('submission.csv', index=False)\n",
    "output.describe()"
   ]
  },
  {
   "cell_type": "code",
   "execution_count": null,
   "metadata": {},
   "outputs": [],
   "source": []
  }
 ],
 "metadata": {
  "kernelspec": {
   "display_name": "Python 3",
   "language": "python",
   "name": "python3"
  },
  "language_info": {
   "codemirror_mode": {
    "name": "ipython",
    "version": 3
   },
   "file_extension": ".py",
   "mimetype": "text/x-python",
   "name": "python",
   "nbconvert_exporter": "python",
   "pygments_lexer": "ipython3",
   "version": "3.6.5"
  }
 },
 "nbformat": 4,
 "nbformat_minor": 4
}
