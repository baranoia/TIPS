{
 "cells": [
  {
   "cell_type": "code",
   "execution_count": 72,
   "metadata": {},
   "outputs": [],
   "source": [
    "# https://gammasoft.jp/python/python-script-pattern/"
   ]
  },
  {
   "cell_type": "code",
   "execution_count": 73,
   "metadata": {},
   "outputs": [],
   "source": [
    "import os\n",
    "import datetime\n",
    "import shutil\n",
    "from pathlib import Path"
   ]
  },
  {
   "cell_type": "code",
   "execution_count": 74,
   "metadata": {},
   "outputs": [
    {
     "data": {
      "text/plain": [
       "WindowsPath('.')"
      ]
     },
     "execution_count": 74,
     "metadata": {},
     "output_type": "execute_result"
    }
   ],
   "source": [
    "current_dir = Path(\"./\")\n",
    "current_dir"
   ]
  },
  {
   "cell_type": "code",
   "execution_count": 75,
   "metadata": {},
   "outputs": [
    {
     "data": {
      "text/plain": [
       "WindowsPath('origin_imgs')"
      ]
     },
     "execution_count": 75,
     "metadata": {},
     "output_type": "execute_result"
    }
   ],
   "source": [
    "origin_imgs_dir = Path(\"./origin_imgs\")\n",
    "origin_imgs_dir"
   ]
  },
  {
   "cell_type": "code",
   "execution_count": 76,
   "metadata": {},
   "outputs": [],
   "source": [
    "#datetime.datetime.now().strftime(\"%Y%m%d_%H%M%S\")\n",
    "rslt_dir = Path(\"./rslt_imgs\")\n",
    "if os.path.exists(rslt_dir):\n",
    "    shutil.rmtree(rslt_dir)\n",
    "rslt_dir.mkdir()"
   ]
  },
  {
   "cell_type": "code",
   "execution_count": 79,
   "metadata": {},
   "outputs": [
    {
     "name": "stdout",
     "output_type": "stream",
     "text": [
      "origin_imgs\\34059019_p0 - コピー.jpg\n",
      "rslt_imgs\\2018_01\n",
      "origin_imgs\\34059019_p0.jpg\n",
      "rslt_imgs\\2018_01\n",
      "origin_imgs\\C1QdSJyUQAA43Yf (1).jpg\n",
      "rslt_imgs\\2017_10\n",
      "origin_imgs\\DLI7uaSUIAAkdaF.jpg\n",
      "rslt_imgs\\2017_10\n",
      "origin_imgs\\DZoMVS_U0AAa6gS.jpg\n",
      "rslt_imgs\\2018_04\n"
     ]
    }
   ],
   "source": [
    "for f in origin_imgs_dir.glob(\"*.jpg\"):\n",
    "    \n",
    "    # 更新日時の取得\n",
    "    #print(f)\n",
    "    mod_ts = os.path.getmtime(str(f))\n",
    "    #print(mod_ts)\n",
    "    mod_dt = datetime.datetime.fromtimestamp(mod_ts) # 1517316813.1418388\n",
    "    #print(mod_dt) # 2018-01-30 21:53:33.141839\n",
    "    \n",
    "    # 年月フォルダの作成\n",
    "    dir_name = mod_dt.strftime(\"%Y_%m\")\n",
    "    #print(dir_name) # 2018_01\n",
    "    date_dir = rslt_dir / dir_name # origin_imgs\\2018_01\n",
    "    #print(date_dir) # rslt_imgs\\2018_01\n",
    "    date_dir.mkdir(exist_ok=True)\n",
    "    \n",
    "    # ファイルコピー\n",
    "    print(f)\n",
    "    print(date_dir)\n",
    "    shutil.copy2(str(f), str(date_dir))"
   ]
  },
  {
   "cell_type": "code",
   "execution_count": null,
   "metadata": {},
   "outputs": [],
   "source": []
  },
  {
   "cell_type": "code",
   "execution_count": null,
   "metadata": {},
   "outputs": [],
   "source": []
  }
 ],
 "metadata": {
  "kernelspec": {
   "display_name": "Python 3",
   "language": "python",
   "name": "python3"
  },
  "language_info": {
   "codemirror_mode": {
    "name": "ipython",
    "version": 3
   },
   "file_extension": ".py",
   "mimetype": "text/x-python",
   "name": "python",
   "nbconvert_exporter": "python",
   "pygments_lexer": "ipython3",
   "version": "3.6.5"
  }
 },
 "nbformat": 4,
 "nbformat_minor": 4
}
